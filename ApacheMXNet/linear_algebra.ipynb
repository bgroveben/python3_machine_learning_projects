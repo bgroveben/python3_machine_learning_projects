{
 "cells": [
  {
   "cell_type": "markdown",
   "metadata": {},
   "source": [
    "# [Linear Algebra](http://gluon.mxnet.io/chapter01_crashcourse/linear-algebra.html)"
   ]
  },
  {
   "cell_type": "markdown",
   "metadata": {},
   "source": [
    "Now that you can store and manipulate data, let’s briefly review the subset of basic linear algebra that you’ll need to understand most of the models.  \n",
    "We’ll introduce all the basic concepts, the corresponding mathematical notation, and their realization in code all in one place.  \n",
    "If you’re already confident in your basic linear algebra, feel free to skim or skip this chapter.  \n",
    "Also, here is a [LaTex cheat sheet](https://users.dickinson.edu/~richesod/latex/latexcheatsheet.pdf) for the mathematical notation."
   ]
  },
  {
   "cell_type": "code",
   "execution_count": 1,
   "metadata": {},
   "outputs": [],
   "source": [
    "from mxnet import nd"
   ]
  },
  {
   "cell_type": "markdown",
   "metadata": {},
   "source": [
    "## Scalars"
   ]
  },
  {
   "cell_type": "markdown",
   "metadata": {},
   "source": [
    "If you never studied linear algebra or machine learning, you’re probably used to working with one number at a time.  You also know how to do basic things like add them together or multiply them.  \n",
    "For example, in Palo Alto, the temperature is $52$ degrees Fahrenheit.  \n",
    "Formally, we call these values scalars.  \n",
    "If you wanted to convert this value to Celsius, you’d evaluate the expression $c = (f - 32) * 5/9$ setting $f$ to $52$.  \n",
    "In this equation, each of the terms 32, 5, and 9 is a scalar value.  \n",
    "The placeholders $c$ and $f$ that we use are called variables and they stand in for unknown scalar values."
   ]
  },
  {
   "cell_type": "markdown",
   "metadata": {},
   "source": [
    "In mathematical notation, we represent scalars with ordinary lower cased letters ($x$, $y$, $z$).  \n",
    "We also denote the space of all scalars as $\\mathcal{R}$.  \n",
    "For expedience, we’re going to punt a bit on what precisely a space is, but for now, remember that if you want to say that $x$ is a scalar, you can simply say $x \\in \\mathcal{R}$.  \n",
    "The symbol $\\in$ can be pronounced \"in\" and just denotes membership in a set."
   ]
  },
  {
   "cell_type": "markdown",
   "metadata": {},
   "source": [
    "In MXNet, we work with scalars by creating NDArrays with just one element.  \n",
    "In this snippet, we instantiate two scalars and perform some familiar arithmetic operations with them."
   ]
  },
  {
   "cell_type": "code",
   "execution_count": 2,
   "metadata": {},
   "outputs": [
    {
     "name": "stdout",
     "output_type": "stream",
     "text": [
      "x + y =  \n",
      "[ 5.]\n",
      "<NDArray 1 @cpu(0)>\n",
      "x * y =  \n",
      "[ 6.]\n",
      "<NDArray 1 @cpu(0)>\n",
      "x / y =  \n",
      "[ 1.5]\n",
      "<NDArray 1 @cpu(0)>\n",
      "x ** y =  \n",
      "[ 9.]\n",
      "<NDArray 1 @cpu(0)>\n"
     ]
    }
   ],
   "source": [
    "##########################\n",
    "# Instantiate two scalars\n",
    "##########################\n",
    "x = nd.array([3.0])\n",
    "y = nd.array([2.0])\n",
    "\n",
    "##########################\n",
    "# Add them\n",
    "##########################\n",
    "print('x + y = ', x + y)\n",
    "\n",
    "##########################\n",
    "# Multiply them\n",
    "##########################\n",
    "print('x * y = ', x * y)\n",
    "\n",
    "##########################\n",
    "# Divide x by y\n",
    "##########################\n",
    "print('x / y = ', x / y)\n",
    "\n",
    "##########################\n",
    "# Raise x to the power y\n",
    "##########################\n",
    "print('x ** y = ', nd.power(x, y))"
   ]
  },
  {
   "cell_type": "markdown",
   "metadata": {},
   "source": [
    "We can convert any NDArray to a Python float by calling its `asscalar` method."
   ]
  },
  {
   "cell_type": "code",
   "execution_count": 3,
   "metadata": {},
   "outputs": [
    {
     "data": {
      "text/plain": [
       "3.0"
      ]
     },
     "execution_count": 3,
     "metadata": {},
     "output_type": "execute_result"
    }
   ],
   "source": [
    "x.asscalar()"
   ]
  },
  {
   "cell_type": "markdown",
   "metadata": {},
   "source": [
    "## Vectors"
   ]
  },
  {
   "cell_type": "markdown",
   "metadata": {},
   "source": [
    "You can think of a vector as simply a list of numbers, for example `[1.0,3.0,4.0,2.0]`.  \n",
    "Each of the numbers in the vector consists of a single scalar value.  \n",
    "We call these values the *entries* or *components* of the vector.  \n",
    "Often, we’re interested in vectors whose values hold some real-world significance.  \n",
    "For example, if we’re studying the risk that loans default, we might associate each applicant with a vector whose components correspond to their income, length of employment, number of previous defaults, etc.  \n",
    "If we were studying the risk of heart attacks in hospital patients, we might represent each patient with a vector whose components capture their most recent vital signs, cholesterol levels, minutes of exercise per day, etc.  \n",
    "In math notation, we’ll usually denote vectors as bold-faced, lower-cased letters ($\\mathbf{u}$, $\\mathbf{v}$, $\\mathbf{w})$.  \n",
    "In MXNet, we work with vectors via 1D NDArrays with an arbitrary number of components."
   ]
  },
  {
   "cell_type": "code",
   "execution_count": 4,
   "metadata": {},
   "outputs": [
    {
     "name": "stdout",
     "output_type": "stream",
     "text": [
      "u =  \n",
      "[ 0.  1.  2.  3.]\n",
      "<NDArray 4 @cpu(0)>\n"
     ]
    }
   ],
   "source": [
    "u = nd.arange(4)\n",
    "print('u = ', u)"
   ]
  },
  {
   "cell_type": "markdown",
   "metadata": {},
   "source": [
    "We can refer to any element of a vector by using a subscript.  \n",
    "For example, we can refer to the 4th element of $\\mathbf{u}$ by $u_4$.  \n",
    "Note that the element $u_4$ is a scalar, so we don’t bold-face the font when referring to it.  \n",
    "In code, we access any element $i$ by indexing into the NDArray."
   ]
  },
  {
   "cell_type": "code",
   "execution_count": 5,
   "metadata": {},
   "outputs": [
    {
     "data": {
      "text/plain": [
       "\n",
       "[ 3.]\n",
       "<NDArray 1 @cpu(0)>"
      ]
     },
     "execution_count": 5,
     "metadata": {},
     "output_type": "execute_result"
    }
   ],
   "source": [
    "u[3]"
   ]
  },
  {
   "cell_type": "markdown",
   "metadata": {},
   "source": [
    "## Length, Dimensionality, and Shape"
   ]
  },
  {
   "cell_type": "markdown",
   "metadata": {},
   "source": [
    "A vector is just an array of numbers.  \n",
    "And just as every array has a length, so does every vector.  \n",
    "In math notation, if we want to say that a vector $x$ consists of n real-valued scalars, we can express this as $\\mathbf{x} \\in \\mathcal{R}^n$.  \n",
    "The length of a vector is commonly called its $dimension$.  \n",
    "As with an ordinary Python array, we can access the length of an NDArray by calling Python’s in-built `len()` function."
   ]
  },
  {
   "cell_type": "code",
   "execution_count": 6,
   "metadata": {},
   "outputs": [
    {
     "data": {
      "text/plain": [
       "4"
      ]
     },
     "execution_count": 6,
     "metadata": {},
     "output_type": "execute_result"
    }
   ],
   "source": [
    "len(u)"
   ]
  },
  {
   "cell_type": "markdown",
   "metadata": {},
   "source": [
    "We can also access a vector’s length via its `.shape` attribute.  \n",
    "The shape is a tuple that lists the dimensionality of the NDArray along each of its axes.  \n",
    "Because a vector can only be indexed along one axis, its shape has just one element."
   ]
  },
  {
   "cell_type": "code",
   "execution_count": 7,
   "metadata": {},
   "outputs": [
    {
     "data": {
      "text/plain": [
       "(4,)"
      ]
     },
     "execution_count": 7,
     "metadata": {},
     "output_type": "execute_result"
    }
   ],
   "source": [
    "u.shape"
   ]
  },
  {
   "cell_type": "markdown",
   "metadata": {},
   "source": [
    "Note that the word dimension is overloaded and this tends to confuse people.  \n",
    "Some use the *dimensionality* of a vector to refer to its length (the number of components).  \n",
    "However some use the word *dimensionality* to refer to the number of axes that an array has.  \n",
    "In this sense, a scalar would have 0 dimensions and a vector would have 1 dimension.  \n",
    "**To avoid confusion, when we say *2D* array or *3D* array, we mean an array with 2 or 3 axes respectively.  \n",
    "But if we say *:math:\\`n\\`-dimensional* vector, we mean a vector of length :math:\\`n\\`.**"
   ]
  },
  {
   "cell_type": "code",
   "execution_count": 8,
   "metadata": {},
   "outputs": [],
   "source": [
    "a = 2\n",
    "x = nd.array([1,2,3])\n",
    "y = nd.array([10,20,30])"
   ]
  },
  {
   "cell_type": "code",
   "execution_count": 9,
   "metadata": {},
   "outputs": [
    {
     "data": {
      "text/plain": [
       "\n",
       "[ 2.  4.  6.]\n",
       "<NDArray 3 @cpu(0)>"
      ]
     },
     "execution_count": 9,
     "metadata": {},
     "output_type": "execute_result"
    }
   ],
   "source": [
    "a * x"
   ]
  },
  {
   "cell_type": "code",
   "execution_count": 10,
   "metadata": {},
   "outputs": [
    {
     "data": {
      "text/plain": [
       "\n",
       "[ 12.  24.  36.]\n",
       "<NDArray 3 @cpu(0)>"
      ]
     },
     "execution_count": 10,
     "metadata": {},
     "output_type": "execute_result"
    }
   ],
   "source": [
    "a * x + y"
   ]
  },
  {
   "cell_type": "markdown",
   "metadata": {},
   "source": [
    "## Matrices"
   ]
  },
  {
   "cell_type": "code",
   "execution_count": null,
   "metadata": {},
   "outputs": [],
   "source": []
  }
 ],
 "metadata": {
  "kernelspec": {
   "display_name": "Python 3",
   "language": "python",
   "name": "python3"
  },
  "language_info": {
   "codemirror_mode": {
    "name": "ipython",
    "version": 3
   },
   "file_extension": ".py",
   "mimetype": "text/x-python",
   "name": "python",
   "nbconvert_exporter": "python",
   "pygments_lexer": "ipython3",
   "version": "3.6.1"
  }
 },
 "nbformat": 4,
 "nbformat_minor": 2
}
