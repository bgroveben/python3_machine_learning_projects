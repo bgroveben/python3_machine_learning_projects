{
 "cells": [
  {
   "cell_type": "markdown",
   "metadata": {},
   "source": [
    "# [Linear regression from scratch](http://gluon.mxnet.io/chapter02_supervised-learning/linear-regression-scratch.html)"
   ]
  },
  {
   "cell_type": "markdown",
   "metadata": {},
   "source": [
    "Powerful ML libraries can eliminate repetitive work, but if you rely too much on abstractions, you might never learn how neural networks really work under the hood.  \n",
    "So for this first example, let’s get our hands dirty and build everything from scratch, relying only on a`utograd` and `NDArray`.  \n",
    "First, we’ll import the same dependencies as in the [autograd chapter](http://gluon.mxnet.io/chapter01_crashcourse/autograd.html).  \n",
    "We’ll also import the powerful `gluon` package but in this chapter, we’ll only be using it for data loading."
   ]
  },
  {
   "cell_type": "code",
   "execution_count": 1,
   "metadata": {},
   "outputs": [],
   "source": [
    "# The kernel for this notebook is running Python 3, but we'll see:\n",
    "from __future__ import print_function\n",
    "import mxnet as mx\n",
    "from mxnet import nd, autograd, gluon\n",
    "mx.random.seed(1)"
   ]
  },
  {
   "cell_type": "markdown",
   "metadata": {},
   "source": [
    "## Set the context"
   ]
  },
  {
   "cell_type": "markdown",
   "metadata": {},
   "source": [
    "We’ll also want to specify the contexts where computation should happen.  \n",
    "This tutorial is so simple that you could probably run it on a calculator watch.  \n",
    "But, to develop good habits we’re going to specify two contexts: one for data and one for our models."
   ]
  },
  {
   "cell_type": "code",
   "execution_count": 2,
   "metadata": {},
   "outputs": [],
   "source": [
    "data_ctx = mx.cpu()\n",
    "model_ctx = mx.cpu()"
   ]
  },
  {
   "cell_type": "markdown",
   "metadata": {},
   "source": [
    "## Linear regression"
   ]
  },
  {
   "cell_type": "markdown",
   "metadata": {},
   "source": [
    "To get our feet wet, we'll start off by looking at the problem of regression.  \n",
    "This is the task of predicting a *real valued target* $y$ given a data point $x$.  \n",
    "In linear regression, the simplest and still perhaps the most useful approach, we assume that prediction can be expressed as a *linear* combination of the input features (thus giving the name *linear* regression):  \n",
    "$$\\hat{y} = w_1 \\cdot x_1 + ... + w_d \\cdot x_d + b$$  \n",
    "Given a collection of data points $X$, and corresponding target values $\\boldsymbol{y}$ we'll try to find the *weight* vector $\\boldsymbol{w}$ and bias term $b$ (also called an *offset* or *intercept*) that approximately associate data points $\\boldsymbol{x}_i$ with their corresponding labels ``y_i``.  \n",
    "Using slightly more advanced math notation, we can express the predictions $\\boldsymbol{\\hat{y}}$ corresponding to a collection of datapoints $X$ via the matrix-vector product:  \n",
    "$$\\boldsymbol{\\hat{y}} = X \\boldsymbol{w} + b$$  \n",
    "Before we can get going, we will need two more things:  \n",
    "* Some way to measure the quality of the current model  \n",
    "* Some way to manipulate the model to improve its quality"
   ]
  },
  {
   "cell_type": "markdown",
   "metadata": {},
   "source": [
    "### Square loss"
   ]
  },
  {
   "cell_type": "markdown",
   "metadata": {},
   "source": [
    "In order to say whether we’ve done a good job, we need some way to measure the quality of a model.  \n",
    "Generally, we will define a loss function that says how far are our predictions from the correct answers.  \n",
    "For the classical case of linear regression, we usually focus on the squared error.  \n",
    "Specifically, our loss will be the sum, over all examples, of the squared error $(y_i−\\hat{y})^2)$ on each:  \n",
    "$$\\ell(y, \\hat{y}) = \\sum_{i=1}^n (\\hat{y}_i-y_i)^2.$$  \n",
    "For one-dimensional data, we can easily visualize the relationship between our single feature and the target variable. It’s also easy to visualize a linear predictor and it’s error on each example.  \n",
    "Note that squared loss heavily penalizes outliers.  \n",
    "For the visualized predictor below, the lone outlier would contribute most of the loss."
   ]
  },
  {
   "cell_type": "markdown",
   "metadata": {},
   "source": [
    "![linear_regression](img/linear_regression.png)"
   ]
  },
  {
   "cell_type": "markdown",
   "metadata": {},
   "source": [
    "### Manipulating the model"
   ]
  },
  {
   "cell_type": "markdown",
   "metadata": {},
   "source": [
    "For us to minimize the error, we need some mechanism to alter the model.  \n",
    "We do this by choosing values of the *parameters* $\\boldsymbol{w}$ and $b$.  \n",
    "This is the only job of the learning algorithm.  \n",
    "Take training data ($X$, $y$) and the functional form of the model $\\hat{y} = X\\boldsymbol{w} + b$.  \n",
    "Learning then consists of choosing the best possible $\\boldsymbol{w}$ and $b$ based on the available evidence."
   ]
  },
  {
   "cell_type": "markdown",
   "metadata": {},
   "source": [
    "Matters of provenance aside, you might wonder - if Legendre and Gauss both worked on linear regression, does that mean they were the original deep learning researchers?  \n",
    "And if linear regression doesn't wholly belong to deep learning, then why are we presenting a linear model as the first example in a tutorial series on neural networks?  \n",
    "Well it turns out that we can express linear regression as the simplest possible (useful) neural network.  \n",
    "A neural network is just a collection of nodes (aka neurons) connected by directed edges.  \n",
    "In most networks, we arrange the nodes into layers with each feeding its output into the layer above.  \n",
    "To calculate the value of any node, we first perform a weighted sum of the inputs (according to weights ``w``) and then apply an *activation function*.  \n",
    "For linear regression, we only have two layers, one corresponding to the input (depicted in orange) and a one-node layer (depicted in green) correspnding to the ouput.  \n",
    "For the output node the activation function is just the identity function.  \n",
    "![](img/onelayer.png)  \n",
    "While you certainly don't have to view linear regression through the lens of deep learning, you can (and we will!).  \n",
    "To ground the concepts that we just discussed in code, let's actually code up a neural network for linear regression from scratch."
   ]
  },
  {
   "cell_type": "markdown",
   "metadata": {},
   "source": [
    "To get going, we will generate a simple synthetic dataset by sampling random data points `X[i]` and corresponding labels `y[i]` in the following manner.  \n",
    "Our inputs will each be sampled from a random normal distribution with mean $0$ and variance $1$.  \n",
    "Our features will be independent.  \n",
    "Another way of saying this is that they will have diagonal covariance.  \n",
    "The labels will be generated accoding to the true labeling function `y[i] = 2 * X[i][0]- 3.4 * X[i][1] + 4.2 + noise` where the `noise` is drawn from a random gaussian with mean $0$ and variance $.01$.  \n",
    "We could express the labeling function in mathematical notation as:  \n",
    "$$y = X \\cdot w + b + \\eta, \\quad \\text{for } \\eta \\sim \\mathcal{N}(0,\\sigma^2)$$  "
   ]
  },
  {
   "cell_type": "code",
   "execution_count": 3,
   "metadata": {},
   "outputs": [],
   "source": [
    "num_inputs = 2\n",
    "num_outputs = 1\n",
    "num_examples = 10000\n",
    "\n",
    "def real_fn(X):\n",
    "    return 2 * X[:, 0] - 3.4 * X[:, 1] + 4.2\n",
    "\n",
    "X = nd.random_normal(shape=(num_examples, num_inputs), ctx=data_ctx)\n",
    "noise = .1 * nd.random_normal(shape=(num_examples,), ctx=data_ctx)\n",
    "y = real_fn(X) + noise"
   ]
  },
  {
   "cell_type": "markdown",
   "metadata": {},
   "source": [
    "Notice that each row in `X` consists of a 2-dimensional data point and that each row in `y` consists of a 1-dimensional target value."
   ]
  },
  {
   "cell_type": "code",
   "execution_count": 4,
   "metadata": {},
   "outputs": [
    {
     "name": "stdout",
     "output_type": "stream",
     "text": [
      "\n",
      "[ 0.03629481 -0.4902442 ]\n",
      "<NDArray 2 @cpu(0)>\n"
     ]
    }
   ],
   "source": [
    "print(X[0])"
   ]
  },
  {
   "cell_type": "code",
   "execution_count": 5,
   "metadata": {},
   "outputs": [
    {
     "name": "stdout",
     "output_type": "stream",
     "text": [
      "\n",
      "[6.0096445]\n",
      "<NDArray 1 @cpu(0)>\n"
     ]
    }
   ],
   "source": [
    "print(y[0])"
   ]
  },
  {
   "cell_type": "markdown",
   "metadata": {},
   "source": [
    "Note that because our synthetic features `X` live on `data_ctx` and because our noise also lives on `data_ctx`, the labels `y`, produced by combining `X` and `noise` in `real_fn` also live on `data_ctx`.  \n",
    "We can confirm that for any randomly chosen point, a linear combination with the (known) optimal parameters produces a prediction that is indeed close to the target value:"
   ]
  },
  {
   "cell_type": "code",
   "execution_count": 6,
   "metadata": {},
   "outputs": [
    {
     "name": "stdout",
     "output_type": "stream",
     "text": [
      "\n",
      "[5.9394197]\n",
      "<NDArray 1 @cpu(0)>\n"
     ]
    }
   ],
   "source": [
    "print(2 * X[0, 0] - 3.4 * X[0, 1] + 4.2)"
   ]
  },
  {
   "cell_type": "markdown",
   "metadata": {},
   "source": [
    "We can visualize the correspondence between our second feature (`X[:, 1]`) and the target values `Y` by generating a scatter plot with the Python plotting package called *matplotlib*.  \n",
    "Make sure that matplotlib is installed.  \n",
    "Otherwise, you may install it by running `pip2 install matplotlib` (for Python 2) or `pip3 install matplotlib` (for Python 3) on your command line.  \n",
    "In order to plot with matplotlib we’ll just need to convert `X` and `y` into NumPy arrays by using the `.asnumpy()` function:"
   ]
  },
  {
   "cell_type": "code",
   "execution_count": 7,
   "metadata": {},
   "outputs": [
    {
     "data": {
      "image/png": "[encoded data removed]",
      "text/plain": [
       "<Figure size 432x288 with 1 Axes>"
      ]
     },
     "metadata": {},
     "output_type": "display_data"
    }
   ],
   "source": [
    "import matplotlib.pyplot as plt\n",
    "plt.scatter(X[:, 1].asnumpy(), y.asnumpy())\n",
    "plt.show()"
   ]
  },
  {
   "cell_type": "markdown",
   "metadata": {},
   "source": [
    "## [Data iterators](http://gluon.mxnet.io/chapter02_supervised-learning/linear-regression-scratch.html#Data-iterators)"
   ]
  },
  {
   "cell_type": "markdown",
   "metadata": {},
   "source": [
    "Once we start working with neural networks, we’re going to need to iterate through our data points quickly.  \n",
    "We’ll also want to be able to grab batches of `k` data points at a time, to shuffle our data.  \n",
    "In MXNet, data iterators give us a nice set of utilities for fetching and manipulating data.  \n",
    "In particular, we’ll work with the simple `DataLoader` class, that provides an intuitive way to use an `ArrayDataset` for training models.  \n",
    "We can load `X` and `y` into an ArrayDataset, by calling `gluon.data.ArrayDataset(X, y)`.  \n",
    "It’s ok for `X` to be a multi-dimensional input array (say, of images) and `y` to be just a one-dimensional array of labels.  \n",
    "The one requirement is that they have equal lengths along the first axis, i.e., `len(X) == len(y)`.  "
   ]
  },
  {
   "cell_type": "markdown",
   "metadata": {},
   "source": [
    "Given an `ArrayDataset`, we can create a `DataLoader` which will grab random batches of data from an `ArrayDataset`.  \n",
    "We’ll want to specify two arguments.  \n",
    "First, we’ll need to say the `batch_size`, i.e., how many examples we want to grab at a time.  \n",
    "Second, we’ll want to specify whether or not to shuffle the data between iterations through the dataset."
   ]
  },
  {
   "cell_type": "code",
   "execution_count": 8,
   "metadata": {},
   "outputs": [],
   "source": [
    "batch_size = 4\n",
    "train_data = gluon.data.DataLoader(gluon.data.ArrayDataset(X, y),\n",
    "                                  batch_size=batch_size, shuffle=True)"
   ]
  },
  {
   "cell_type": "markdown",
   "metadata": {},
   "source": [
    "Once we’ve initialized our DataLoader (`train_data`), we can easily fetch batches by iterating over `train_data` just as if it were a Python list.  \n",
    "You can use for favorite iterating techniques like for-each loops:  \n",
    "`for data, label in train_data`  \n",
    "or enumerations:  \n",
    "`for i, (data, label) in enumerate(train_data)`.  \n",
    "First, let’s just grab one batch and break out of the loop."
   ]
  },
  {
   "cell_type": "code",
   "execution_count": 9,
   "metadata": {},
   "outputs": [
    {
     "name": "stdout",
     "output_type": "stream",
     "text": [
      "\n",
      "[[-0.84728086 -0.9355315 ]\n",
      " [-0.22297402 -1.2014743 ]\n",
      " [-1.2442706   1.3878686 ]\n",
      " [-0.5076725   0.13330546]]\n",
      "<NDArray 4x2 @cpu(0)> \n",
      "[ 5.495935   7.9666047 -3.06012    2.8077338]\n",
      "<NDArray 4 @cpu(0)>\n"
     ]
    }
   ],
   "source": [
    "for i, (data, label) in enumerate(train_data):\n",
    "    print(data, label)\n",
    "    break"
   ]
  },
  {
   "cell_type": "markdown",
   "metadata": {},
   "source": [
    "If we run that same code again, you'll notice that we get a different batch.  \n",
    "That's because we instructed the `DataLoader` that `shuffle=True`."
   ]
  },
  {
   "cell_type": "code",
   "execution_count": 10,
   "metadata": {},
   "outputs": [
    {
     "name": "stdout",
     "output_type": "stream",
     "text": [
      "\n",
      "[[-1.1884228  -0.5043724 ]\n",
      " [-0.32217616 -0.7766785 ]\n",
      " [ 0.9110719   0.65439904]\n",
      " [ 0.286487   -0.4876767 ]]\n",
      "<NDArray 4x2 @cpu(0)> \n",
      "[3.4965377 6.089349  3.9169474 6.382156 ]\n",
      "<NDArray 4 @cpu(0)>\n"
     ]
    }
   ],
   "source": [
    "for i, (data, label) in enumerate(train_data):\n",
    "    print(data, label)\n",
    "    break"
   ]
  },
  {
   "cell_type": "markdown",
   "metadata": {},
   "source": [
    "Finally, if we actually pass over the entire dataset and count the number of batches we'll find that there are 2500 batches.  \n",
    "We expect this because our dataset has 10,000 examples and we have configured the `DataLoader` to have a batch size of 4."
   ]
  },
  {
   "cell_type": "code",
   "execution_count": 11,
   "metadata": {},
   "outputs": [
    {
     "name": "stdout",
     "output_type": "stream",
     "text": [
      "2500\n"
     ]
    }
   ],
   "source": [
    "counter = 0\n",
    "for i, (data, label) in enumerate(train_data):\n",
    "    pass\n",
    "print(i+1)"
   ]
  },
  {
   "cell_type": "markdown",
   "metadata": {},
   "source": [
    "## Model parameters"
   ]
  },
  {
   "cell_type": "code",
   "execution_count": null,
   "metadata": {},
   "outputs": [],
   "source": []
  }
 ],
 "metadata": {
  "kernelspec": {
   "display_name": "Python 3",
   "language": "python",
   "name": "python3"
  },
  "language_info": {
   "codemirror_mode": {
    "name": "ipython",
    "version": 3
   },
   "file_extension": ".py",
   "mimetype": "text/x-python",
   "name": "python",
   "nbconvert_exporter": "python",
   "pygments_lexer": "ipython3",
   "version": "3.6.1"
  }
 },
 "nbformat": 4,
 "nbformat_minor": 2
}
