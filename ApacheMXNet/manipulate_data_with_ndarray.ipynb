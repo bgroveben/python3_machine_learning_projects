{
 "cells": [
  {
   "cell_type": "markdown",
   "metadata": {},
   "source": [
    "# [Manipulate data the MXNet way with `ndarray`](http://gluon.mxnet.io/chapter01_crashcourse/ndarray.html)"
   ]
  },
  {
   "cell_type": "markdown",
   "metadata": {},
   "source": [
    "It’s impossible to get anything done if we can’t manipulate data.  \n",
    "Generally, there are two important things we need to do with it:  \n",
    "(i) acquire it!  \n",
    "(ii) process it once it’s inside the computer.  \n",
    "There’s no point in trying to acquire data if we don’t even know how to store it, so let’s get our hands dirty first by playing with synthetic data.  "
   ]
  },
  {
   "cell_type": "markdown",
   "metadata": {},
   "source": [
    "We’ll start by introducing NDArrays, MXNet’s primary tool for storing and transforming data.  \n",
    "If you’ve worked with NumPy before, you’ll notice that NDArrays are, by design, similar to NumPy’s multi-dimensional array.  \n",
    "However, they confer a few key advantages.  \n",
    "First, NDArrays support asynchronous computation on CPU, GPU, and distributed cloud architectures.  \n",
    "Second, they provide support for automatic differentiation.  \n",
    "These properties make NDArray an ideal library for machine learning, both for researchers and engineers launching production systems."
   ]
  },
  {
   "cell_type": "markdown",
   "metadata": {},
   "source": [
    "## [Getting Started](http://gluon.mxnet.io/chapter01_crashcourse/ndarray.html#Getting-started)"
   ]
  },
  {
   "cell_type": "markdown",
   "metadata": {},
   "source": [
    "In this chapter, we’ll get you going with the basic functionality.  \n",
    "Don’t worry if you don’t understand any of the basic math, like element-wise operations or normal distributions.  \n",
    "In the next two chapters we’ll take another pass at NDArray, teaching you both the math you’ll need and how to realize it in code.  \n",
    "To get started, let’s import `mxnet`.  \n",
    "We’ll also import `ndarray` from `mxnet` for convenience.  \n",
    "We’ll make a habit of setting a random seed so that you always get the same results that we do."
   ]
  },
  {
   "cell_type": "code",
   "execution_count": 28,
   "metadata": {},
   "outputs": [],
   "source": [
    "import mxnet as mx\n",
    "from mxnet import nd\n",
    "mx.random.seed(1)"
   ]
  },
  {
   "cell_type": "markdown",
   "metadata": {},
   "source": [
    "Next, let's see how to create an NDArray without any values initialized.  \n",
    "Specifically, we'll create a 2D array (a matrix) with 3 rows and 4 columns."
   ]
  },
  {
   "cell_type": "code",
   "execution_count": 29,
   "metadata": {},
   "outputs": [
    {
     "name": "stdout",
     "output_type": "stream",
     "text": [
      "\n",
      "[[ 0.  0.  0.  0.]\n",
      " [ 0.  0.  0.  0.]\n",
      " [ 0.  0.  0.  0.]]\n",
      "<NDArray 3x4 @cpu(0)>\n"
     ]
    }
   ],
   "source": [
    "x = nd.empty((3, 4))\n",
    "print(x)"
   ]
  },
  {
   "cell_type": "markdown",
   "metadata": {},
   "source": [
    "The `empty` method just grabs some memory and hands us back a matrix without setting the values of any of its entries.  \n",
    "This means that the entries can have any form of values, including very big ones!  \n",
    "But typically, we’ll want our matrices initialized.  \n",
    "Commonly, we want a matrix of all zeros."
   ]
  },
  {
   "cell_type": "code",
   "execution_count": 30,
   "metadata": {},
   "outputs": [
    {
     "data": {
      "text/plain": [
       "\n",
       "[[ 0.  0.  0.  0.  0.]\n",
       " [ 0.  0.  0.  0.  0.]\n",
       " [ 0.  0.  0.  0.  0.]]\n",
       "<NDArray 3x5 @cpu(0)>"
      ]
     },
     "execution_count": 30,
     "metadata": {},
     "output_type": "execute_result"
    }
   ],
   "source": [
    "x = nd.zeros((3, 5))\n",
    "x"
   ]
  },
  {
   "cell_type": "markdown",
   "metadata": {},
   "source": [
    "Similarly, `ndarray` has a function to create a matrix of all ones."
   ]
  },
  {
   "cell_type": "code",
   "execution_count": 31,
   "metadata": {},
   "outputs": [
    {
     "data": {
      "text/plain": [
       "\n",
       "[[ 1.  1.  1.  1.]\n",
       " [ 1.  1.  1.  1.]\n",
       " [ 1.  1.  1.  1.]]\n",
       "<NDArray 3x4 @cpu(0)>"
      ]
     },
     "execution_count": 31,
     "metadata": {},
     "output_type": "execute_result"
    }
   ],
   "source": [
    "x = nd.ones((3, 4))\n",
    "x"
   ]
  },
  {
   "cell_type": "markdown",
   "metadata": {},
   "source": [
    "Often, we’ll want to create arrays whose values are sampled randomly.  \n",
    "This is especially common when we intend to use the array as a parameter in a neural network.  \n",
    "In this snippet, we initialize with values drawn from a standard normal distribution with zero mean and unit variance."
   ]
  },
  {
   "cell_type": "code",
   "execution_count": 32,
   "metadata": {},
   "outputs": [
    {
     "data": {
      "text/plain": [
       "\n",
       "[[ 0.03629481 -0.49024421 -0.95017916  0.03751944]\n",
       " [-0.72984636 -2.04010558  1.482131    1.04082799]\n",
       " [-0.45256865  0.31160426 -0.83673781 -0.78830057]]\n",
       "<NDArray 3x4 @cpu(0)>"
      ]
     },
     "execution_count": 32,
     "metadata": {},
     "output_type": "execute_result"
    }
   ],
   "source": [
    "y = nd.random_normal(0, 1, shape=(3,4))\n",
    "y"
   ]
  },
  {
   "cell_type": "markdown",
   "metadata": {},
   "source": [
    "Just like in NumPy, the dimensions of each NDArray are accessible with the `.shape` attribute:"
   ]
  },
  {
   "cell_type": "code",
   "execution_count": 33,
   "metadata": {},
   "outputs": [
    {
     "data": {
      "text/plain": [
       "(3, 4)"
      ]
     },
     "execution_count": 33,
     "metadata": {},
     "output_type": "execute_result"
    }
   ],
   "source": [
    "y.shape"
   ]
  },
  {
   "cell_type": "markdown",
   "metadata": {},
   "source": [
    "We can also query its size, which is equal to the product of the components of the shape.  \n",
    "Together witht the precision of the stored values, this tells us how much memory the array occupies."
   ]
  },
  {
   "cell_type": "code",
   "execution_count": 34,
   "metadata": {},
   "outputs": [
    {
     "data": {
      "text/plain": [
       "12"
      ]
     },
     "execution_count": 34,
     "metadata": {},
     "output_type": "execute_result"
    }
   ],
   "source": [
    "y.size"
   ]
  },
  {
   "cell_type": "markdown",
   "metadata": {},
   "source": [
    "## [Operations](http://gluon.mxnet.io/chapter01_crashcourse/ndarray.html#Operations)"
   ]
  },
  {
   "cell_type": "markdown",
   "metadata": {},
   "source": [
    "NDArray supports a large number of standard mathematical operations."
   ]
  },
  {
   "cell_type": "code",
   "execution_count": 35,
   "metadata": {},
   "outputs": [
    {
     "data": {
      "text/plain": [
       "\n",
       "[[ 1.03629482  0.50975579  0.04982084  1.03751945]\n",
       " [ 0.27015364 -1.04010558  2.482131    2.04082799]\n",
       " [ 0.54743135  1.31160426  0.16326219  0.21169943]]\n",
       "<NDArray 3x4 @cpu(0)>"
      ]
     },
     "execution_count": 35,
     "metadata": {},
     "output_type": "execute_result"
    }
   ],
   "source": [
    "# Element-wise addition:\n",
    "x + y"
   ]
  },
  {
   "cell_type": "code",
   "execution_count": 36,
   "metadata": {},
   "outputs": [
    {
     "data": {
      "text/plain": [
       "\n",
       "[[ 0.03629481 -0.49024421 -0.95017916  0.03751944]\n",
       " [-0.72984636 -2.04010558  1.482131    1.04082799]\n",
       " [-0.45256865  0.31160426 -0.83673781 -0.78830057]]\n",
       "<NDArray 3x4 @cpu(0)>"
      ]
     },
     "execution_count": 36,
     "metadata": {},
     "output_type": "execute_result"
    }
   ],
   "source": [
    "# Multiplication:\n",
    "x * y"
   ]
  },
  {
   "cell_type": "code",
   "execution_count": 37,
   "metadata": {},
   "outputs": [
    {
     "data": {
      "text/plain": [
       "\n",
       "[[ 1.03696156  0.61247683  0.38667175  1.03823221]\n",
       " [ 0.48198304  0.13001499  4.40231705  2.83156061]\n",
       " [ 0.63599241  1.36561418  0.43312114  0.45461673]]\n",
       "<NDArray 3x4 @cpu(0)>"
      ]
     },
     "execution_count": 37,
     "metadata": {},
     "output_type": "execute_result"
    }
   ],
   "source": [
    "# Exponentiation:\n",
    "nd.exp(y)"
   ]
  },
  {
   "cell_type": "markdown",
   "metadata": {},
   "source": [
    "Here we can use a matrix's transpose to compute a proper matrix-matrix product:"
   ]
  },
  {
   "cell_type": "code",
   "execution_count": 38,
   "metadata": {},
   "outputs": [
    {
     "data": {
      "text/plain": [
       "\n",
       "[[-1.3666091  -0.24699283 -1.76600277]\n",
       " [-1.3666091  -0.24699283 -1.76600277]\n",
       " [-1.3666091  -0.24699283 -1.76600277]]\n",
       "<NDArray 3x3 @cpu(0)>"
      ]
     },
     "execution_count": 38,
     "metadata": {},
     "output_type": "execute_result"
    }
   ],
   "source": [
    "nd.dot(x, y.T)"
   ]
  },
  {
   "cell_type": "markdown",
   "metadata": {},
   "source": [
    "We’ll explain these operations and present even more operators in the [linear algebra chapter](http://gluon.mxnet.io/chapter01_crashcourse/linear-algebra.html).  \n",
    "But for now, we’ll stick with the mechanics of working with NDArrays."
   ]
  },
  {
   "cell_type": "markdown",
   "metadata": {},
   "source": [
    "## [In-place operations](http://gluon.mxnet.io/chapter01_crashcourse/ndarray.html#In-place-operations)"
   ]
  },
  {
   "cell_type": "markdown",
   "metadata": {},
   "source": [
    "In the previous example, every time we ran an operation, we allocated new memory to host its results.  \n",
    "For example, if we write `y = x + y`, we will dereference the matrix that `y` used to point to and instead change the pointer to the newly allocated memory.  \n",
    "In the following example we demonstrate this with Python’s `id()` function, which gives us the exact address of the referenced object in memory.  \n",
    "After running `y = y + x`, we’ll find that `id(y)` points to a different location.  \n",
    "That’s because Python first evaluates `y + x`, allocating new memory for the result and then subsequently redirects `y` to point at this new location in memory.  \n",
    "Now read that last part again if you have any questions.  "
   ]
  },
  {
   "cell_type": "code",
   "execution_count": 39,
   "metadata": {},
   "outputs": [
    {
     "name": "stdout",
     "output_type": "stream",
     "text": [
      "Memory location of y:  4619865336\n",
      "Memory location of y:  4619866064\n"
     ]
    }
   ],
   "source": [
    "print('Memory location of y: ', id(y))\n",
    "y = y + x\n",
    "print('Memory location of y: ', id(y))"
   ]
  },
  {
   "cell_type": "markdown",
   "metadata": {},
   "source": [
    "This might be undesirable for two reasons.  \n",
    "First, we don’t want to run around allocating memory unnecessarily all the time.  \n",
    "In machine learning, we might have hundreds of megabytes of parameters and update all of them multiple times per second.  \n",
    "Typically, we’ll want to perform these updates in place.  \n",
    "Second, we might point at the same parameters from multiple variables.  \n",
    "If we don’t update in place, this could cause a memory leak, and could cause us to inadvertently reference stale parameters.  \n",
    "Fortunately, performing in-place operations in MXNet is easy.  \n",
    "We can assign the result of an operation to a previously allocated array with slice notation, e.g., `y[:] = <expression>`."
   ]
  },
  {
   "cell_type": "code",
   "execution_count": 40,
   "metadata": {},
   "outputs": [
    {
     "name": "stdout",
     "output_type": "stream",
     "text": [
      "Memory location of y:  4619866064\n",
      "Memory location of y:  4619866064\n"
     ]
    }
   ],
   "source": [
    "print('Memory location of y: ', id(y))\n",
    "y[:] = y + x\n",
    "print('Memory location of y: ', id(y))"
   ]
  },
  {
   "cell_type": "markdown",
   "metadata": {},
   "source": [
    "While this is syntactically nice, `x + y` here will still allocate a temporary buffer to store the result before copying it to `y[:]`.  \n",
    "To make even better use of memory, we can directly invoke the underlying ndarray operation, in this case `elemwise_add`, avoiding temporary buffers.  \n",
    "We do this by specifying the `out` keyword argument, which every `ndarray` operator supports:"
   ]
  },
  {
   "cell_type": "code",
   "execution_count": 41,
   "metadata": {},
   "outputs": [
    {
     "data": {
      "text/plain": [
       "\n",
       "[[ 3.03629494  2.50975585  2.0498209   3.03751945]\n",
       " [ 2.27015352  0.95989442  4.482131    4.04082775]\n",
       " [ 2.54743147  3.31160426  2.16326213  2.21169949]]\n",
       "<NDArray 3x4 @cpu(0)>"
      ]
     },
     "execution_count": 41,
     "metadata": {},
     "output_type": "execute_result"
    }
   ],
   "source": [
    "nd.elemwise_add(x, y, out=y)"
   ]
  },
  {
   "cell_type": "markdown",
   "metadata": {},
   "source": [
    "If we’re not planning to re-use `x`, then we can assign the result to `x` itself.  \n",
    "There are two ways to do this in MXNet.  \n",
    "1. By using slice notation `x[:] = x op y`.  \n",
    "2. By using the op-equals operators like `+=`.  "
   ]
  },
  {
   "cell_type": "code",
   "execution_count": 42,
   "metadata": {},
   "outputs": [
    {
     "name": "stdout",
     "output_type": "stream",
     "text": [
      "Memory location of x:  4619864048\n",
      "Memory location of x:  4619864048\n"
     ]
    }
   ],
   "source": [
    "print('Memory location of x: ', id(x))\n",
    "x += y\n",
    "x\n",
    "print('Memory location of x: ', id(x))"
   ]
  },
  {
   "cell_type": "markdown",
   "metadata": {},
   "source": [
    "## [Slicing](http://gluon.mxnet.io/chapter01_crashcourse/ndarray.html#Slicing)"
   ]
  },
  {
   "cell_type": "markdown",
   "metadata": {},
   "source": [
    "MXNet NDArrays support slicing in all the ridiculous ways you might imagine accessing your data.  \n",
    "Here’s an example of reading the second and third rows from `x`:"
   ]
  },
  {
   "cell_type": "code",
   "execution_count": 43,
   "metadata": {},
   "outputs": [
    {
     "data": {
      "text/plain": [
       "\n",
       "[[ 3.27015352  1.95989442  5.482131    5.04082775]\n",
       " [ 3.54743147  4.3116045   3.16326213  3.21169949]]\n",
       "<NDArray 2x4 @cpu(0)>"
      ]
     },
     "execution_count": 43,
     "metadata": {},
     "output_type": "execute_result"
    }
   ],
   "source": [
    "x[1:3]"
   ]
  },
  {
   "cell_type": "markdown",
   "metadata": {},
   "source": [
    "Now let's write to a specific element:"
   ]
  },
  {
   "cell_type": "code",
   "execution_count": 44,
   "metadata": {},
   "outputs": [
    {
     "data": {
      "text/plain": [
       "\n",
       "[[ 4.03629494  3.50975585  3.0498209   4.03751945]\n",
       " [ 3.27015352  1.95989442  9.          5.04082775]\n",
       " [ 3.54743147  4.3116045   3.16326213  3.21169949]]\n",
       "<NDArray 3x4 @cpu(0)>"
      ]
     },
     "execution_count": 44,
     "metadata": {},
     "output_type": "execute_result"
    }
   ],
   "source": [
    "x[1, 2] = 9.0\n",
    "x"
   ]
  },
  {
   "cell_type": "markdown",
   "metadata": {},
   "source": [
    "Multi-dimensional slicing is also supported:"
   ]
  },
  {
   "cell_type": "code",
   "execution_count": 45,
   "metadata": {},
   "outputs": [
    {
     "data": {
      "text/plain": [
       "\n",
       "[[ 1.95989442  9.        ]]\n",
       "<NDArray 1x2 @cpu(0)>"
      ]
     },
     "execution_count": 45,
     "metadata": {},
     "output_type": "execute_result"
    }
   ],
   "source": [
    "x[1:2, 1:3]"
   ]
  },
  {
   "cell_type": "code",
   "execution_count": 46,
   "metadata": {},
   "outputs": [
    {
     "data": {
      "text/plain": [
       "\n",
       "[[ 4.03629494  3.50975585  3.0498209   4.03751945]\n",
       " [ 3.27015352  5.          5.          5.04082775]\n",
       " [ 3.54743147  4.3116045   3.16326213  3.21169949]]\n",
       "<NDArray 3x4 @cpu(0)>"
      ]
     },
     "execution_count": 46,
     "metadata": {},
     "output_type": "execute_result"
    }
   ],
   "source": [
    "x[1:2, 1:3] = 5.0\n",
    "x"
   ]
  },
  {
   "cell_type": "markdown",
   "metadata": {},
   "source": [
    "## [Broadcasting](http://gluon.mxnet.io/chapter01_crashcourse/ndarray.html#Broadcasting)"
   ]
  },
  {
   "cell_type": "markdown",
   "metadata": {},
   "source": [
    "You might wonder, what happens if you add a vector `y` to a matrix `X`?  \n",
    "These operations, where we compose a low dimensional array `y` with a high-dimensional array `X` invoke a functionality called broadcasting.  \n",
    "Here, the low-dimensional array is duplicated along any axis with dimension 1 to match the shape of the high dimensional array."
   ]
  },
  {
   "cell_type": "code",
   "execution_count": 47,
   "metadata": {},
   "outputs": [
    {
     "data": {
      "text/plain": [
       "\n",
       "[[ 1.  1.  1.]\n",
       " [ 1.  1.  1.]\n",
       " [ 1.  1.  1.]]\n",
       "<NDArray 3x3 @cpu(0)>"
      ]
     },
     "execution_count": 47,
     "metadata": {},
     "output_type": "execute_result"
    }
   ],
   "source": [
    "x = nd.ones(shape=(3, 3))\n",
    "x"
   ]
  },
  {
   "cell_type": "code",
   "execution_count": 48,
   "metadata": {},
   "outputs": [
    {
     "data": {
      "text/plain": [
       "\n",
       "[ 0.  1.  2.]\n",
       "<NDArray 3 @cpu(0)>"
      ]
     },
     "execution_count": 48,
     "metadata": {},
     "output_type": "execute_result"
    }
   ],
   "source": [
    "y = nd.arange(3)\n",
    "y"
   ]
  },
  {
   "cell_type": "code",
   "execution_count": 49,
   "metadata": {},
   "outputs": [
    {
     "data": {
      "text/plain": [
       "\n",
       "[[ 1.  2.  3.]\n",
       " [ 1.  2.  3.]\n",
       " [ 1.  2.  3.]]\n",
       "<NDArray 3x3 @cpu(0)>"
      ]
     },
     "execution_count": 49,
     "metadata": {},
     "output_type": "execute_result"
    }
   ],
   "source": [
    "x + y"
   ]
  },
  {
   "cell_type": "markdown",
   "metadata": {},
   "source": [
    "While `y` is initially of shape (3), MXNet infers its shape to be (1,3), and then broadcasts along the rows to form a (3,3) matrix).  \n",
    "You might wonder, why did MXNet choose to interpret `y` as a (1,3) matrix and not (3,1).  \n",
    "That’s because broadcasting prefers to duplicate along the *left-most* axis.  \n",
    "We can alter this behavior by explicitly giving `y` a 2D shape.  "
   ]
  },
  {
   "cell_type": "code",
   "execution_count": 50,
   "metadata": {},
   "outputs": [
    {
     "data": {
      "text/plain": [
       "\n",
       "[[ 0.]\n",
       " [ 1.]\n",
       " [ 2.]]\n",
       "<NDArray 3x1 @cpu(0)>"
      ]
     },
     "execution_count": 50,
     "metadata": {},
     "output_type": "execute_result"
    }
   ],
   "source": [
    "y = y.reshape((3, 1))\n",
    "y"
   ]
  },
  {
   "cell_type": "code",
   "execution_count": 51,
   "metadata": {},
   "outputs": [
    {
     "data": {
      "text/plain": [
       "\n",
       "[[ 1.  1.  1.]\n",
       " [ 2.  2.  2.]\n",
       " [ 3.  3.  3.]]\n",
       "<NDArray 3x3 @cpu(0)>"
      ]
     },
     "execution_count": 51,
     "metadata": {},
     "output_type": "execute_result"
    }
   ],
   "source": [
    "x + y"
   ]
  },
  {
   "cell_type": "markdown",
   "metadata": {},
   "source": [
    "## [Converting from MXNet NDArray to NumPy](http://gluon.mxnet.io/chapter01_crashcourse/ndarray.html#Converting-from-MXNet-NDArray-to-NumPy)"
   ]
  },
  {
   "cell_type": "code",
   "execution_count": null,
   "metadata": {},
   "outputs": [],
   "source": []
  }
 ],
 "metadata": {
  "kernelspec": {
   "display_name": "Python 3",
   "language": "python",
   "name": "python3"
  },
  "language_info": {
   "codemirror_mode": {
    "name": "ipython",
    "version": 3
   },
   "file_extension": ".py",
   "mimetype": "text/x-python",
   "name": "python",
   "nbconvert_exporter": "python",
   "pygments_lexer": "ipython3",
   "version": "3.6.1"
  }
 },
 "nbformat": 4,
 "nbformat_minor": 2
}
