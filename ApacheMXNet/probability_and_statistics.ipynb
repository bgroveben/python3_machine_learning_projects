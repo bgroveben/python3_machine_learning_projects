{
 "cells": [
  {
   "cell_type": "markdown",
   "metadata": {},
   "source": [
    "# [Probability and statistics](http://gluon.mxnet.io/chapter01_crashcourse/probability.html)"
   ]
  },
  {
   "cell_type": "markdown",
   "metadata": {},
   "source": [
    "In some form or another, machine learning is all about making predictions.  \n",
    "We might want to predict the probability of a patient suffering a heart attack in the next year, given their clinical history.  \n",
    "In anomaly detection, we might want to assess how likely a set of readings from an airplane’s jet engine would be, were it operating normally.  \n",
    "In reinforcement learning, we want an agent to act intelligently in an environment.  \n",
    "This means we need to think about the probability of getting a high reward under each of the available action.  \n",
    "And when we build recommender systems we also need to think about probability.  \n",
    "For example, if we hypothetically worked for a large online bookseller, we might want to estimate the probability that a particular user would buy a particular book, if prompted.  "
   ]
  },
  {
   "cell_type": "markdown",
   "metadata": {},
   "source": [
    "For this we need to use the language of probability and statistics.  \n",
    "Entire courses, majors, theses, careers, and even departments, are devoted to probability.  \n",
    "So our goal here isn’t to teach the whole subject.  \n",
    "Instead we hope to get you off the ground, to teach you just enough that you know everything necessary to start building your first machine learning models and to have enough of a flavor for the subject that you can begin to explore it on your own if you wish.  \n",
    "We’ve talked a lot about probabilities so far without articulating what precisely they are or giving a concrete example.  \n",
    "Let’s get more serious by considering the problem of distinguishing cats and dogs based on photographs.  \n",
    "This might sound simpler but it’s actually a formidable challenge.  \n",
    "To start with, the difficulty of the problem may depend on the resolution of the image."
   ]
  },
  {
   "cell_type": "markdown",
   "metadata": {},
   "source": [
    "![](img/cats_and_dogs.png)"
   ]
  },
  {
   "cell_type": "markdown",
   "metadata": {},
   "source": [
    "While it’s easy for humans to recognize cats and dogs at 320 pixel resolution, it becomes challenging at 40 pixels and next to impossible at 20 pixels.  \n",
    "In other words, our ability to tell cats and dogs apart at a large distance (and thus low resolution) might approach uninformed guessing.  \n",
    "Probability gives us a formal way of reasoning about our level of certainty.  \n",
    "If we are completely sure that the image depicts a cat, we say that the probability that the corresponding label l is cat, denoted $P(l=\\mathrm{cat})$ equals 1.0.  \n",
    "If we had no evidence to suggest that $l=\\mathrm{cat}$ or that $l=\\mathrm{dog}$, then we might say that the two possibilities were equally likely expressing this as $P(l=\\mathrm{cat})=0.5$.  \n",
    "If we were reasonably confident, but not sure that the image depicted a cat, we might assign a probability $.5<P(l=\\mathrm{cat})<1.0$."
   ]
  },
  {
   "cell_type": "markdown",
   "metadata": {},
   "source": [
    "Now consider a second case: given some weather monitoring data, we want to predict the probability that it will rain in Taipei tomorrow.  \n",
    "If it’s summertime, the rain might come with probability $.5$.  \n",
    "In both cases, we have some value of interest.  \n",
    "And in both cases we are uncertain about the outcome.  \n",
    "But there’s a key difference between the two cases.  \n",
    "In this first case, the image is in fact either a dog or a cat, we just don’t know which.  \n",
    "In the second case, the outcome may actually be a random event, if you believe in such things (and most physicists do).  \n",
    "So probability is a flexible language for reasoning about our level of certainty, and it can be applied effectively in a broad set of contexts.  "
   ]
  },
  {
   "cell_type": "markdown",
   "metadata": {},
   "source": [
    "## Basic probability theory"
   ]
  },
  {
   "cell_type": "markdown",
   "metadata": {},
   "source": [
    "Say that we cast a die and want to know what the chance is of seeing a $1$ rather than another digit.  \n",
    "If the die is fair, all six outcomes ${X} = \\{1, \\ldots, 6\\}$ are equally likely to occur, hence we would see a $1$ in $1$ out of $6$ cases.  \n",
    "Formally we state that 1 occurs with probability $\\frac{1}{6}$.  \n",
    "For a real die that we receive from a factory, we might not know those proportions and we would need to check whether it is tainted.  \n",
    "The only way to investigate the die is by casting it many times and recording the outcomes.  \n",
    "For each cast of the die, we’ll observe a value $\\{1, 2, \\ldots, 6\\}$.  "
   ]
  },
  {
   "cell_type": "markdown",
   "metadata": {},
   "source": [
    "Given these outcomes, we want to investigate the probability of observing each outcome.  \n",
    "One natural approach for each value is to take the individual count for that value and to divide it by the total number of tosses.  \n",
    "This gives us an estimate of the probability of a given event.  \n",
    "The law of large numbers tell us that as the number of tosses grows this estimate will draw closer and closer to the true underlying probability.  \n",
    "Before going into the details of what’s going here, let’s try it out.  \n",
    "We can start by importing the necessary packages:"
   ]
  },
  {
   "cell_type": "code",
   "execution_count": 1,
   "metadata": {},
   "outputs": [],
   "source": [
    "import mxnet as mx\n",
    "from mxnet import nd"
   ]
  },
  {
   "cell_type": "markdown",
   "metadata": {},
   "source": [
    "Next, we’ll want to be able to cast the die.  \n",
    "In statistics we call this process of drawing examples from probability distributions *sampling*.  \n",
    "The distribution which assigns probabilities to a number of discrete choices is called the *multinomial distribution*.  \n",
    "We’ll give a more formal definition of *distribution* later, but at a high level, think of it as just an assignment of probabilities to events.  \n",
    "In MXNet, we can sample from the multinomial distribution via the aptly named `nd.sample_multinomial` function.  \n",
    "The function can be called in many ways, but we’ll focus on the simplest.  \n",
    "To draw a single sample, we simply pass in a vector of probabilities."
   ]
  },
  {
   "cell_type": "code",
   "execution_count": 2,
   "metadata": {},
   "outputs": [
    {
     "name": "stdout",
     "output_type": "stream",
     "text": [
      "\n",
      "[ 0.16666667  0.16666667  0.16666667  0.16666667  0.16666667  0.16666667]\n",
      "<NDArray 6 @cpu(0)>\n"
     ]
    },
    {
     "data": {
      "text/plain": [
       "\n",
       "[3]\n",
       "<NDArray 1 @cpu(0)>"
      ]
     },
     "execution_count": 2,
     "metadata": {},
     "output_type": "execute_result"
    }
   ],
   "source": [
    "probabilities = nd.ones(6) / 6\n",
    "print(probabilities)\n",
    "nd.sample_multinomial(probabilities)"
   ]
  },
  {
   "cell_type": "markdown",
   "metadata": {},
   "source": [
    "If you run the line (`nd.sample_multinomial(probabilities)`) a bunch of times, you’ll find that you get out random values each time.  \n",
    "As with estimating the fairness of a die, we often want to generate many samples from the same distribution.  \n",
    "It would be really slow to do this with a Python `for` loop, so `sample_multinomial` supports drawing multiple samples at once, returning an array of independent samples in any shape we might desire.  "
   ]
  },
  {
   "cell_type": "code",
   "execution_count": 3,
   "metadata": {},
   "outputs": [
    {
     "name": "stdout",
     "output_type": "stream",
     "text": [
      "\n",
      "[3 4 5 3 5 3 5 2 3 3]\n",
      "<NDArray 10 @cpu(0)>\n",
      "\n",
      "[[2 2 1 5 0 5 1 2 2 4]\n",
      " [4 3 2 3 2 5 5 0 2 0]\n",
      " [3 0 2 4 5 4 0 5 5 5]\n",
      " [2 4 4 2 3 4 4 0 4 3]\n",
      " [3 0 3 5 4 3 0 2 2 1]]\n",
      "<NDArray 5x10 @cpu(0)>\n"
     ]
    }
   ],
   "source": [
    "print(nd.sample_multinomial(probabilities, shape=(10)))\n",
    "print(nd.sample_multinomial(probabilities, shape=(5,10)))"
   ]
  },
  {
   "cell_type": "markdown",
   "metadata": {},
   "source": [
    "Now that we know how to sample rolls of a die, we can simulate 1000 rolls."
   ]
  },
  {
   "cell_type": "code",
   "execution_count": 4,
   "metadata": {},
   "outputs": [
    {
     "data": {
      "text/plain": [
       "\n",
       "[1 4 4 2 1 3 0 0 1 3 0 3 1 3 2 5 5 4 2 2 3 2 5 4 0 0 5 4 3 4 1 1 2 0 4 1 3\n",
       " 2 1 3 0 2 3 5 5 0 3 1 3 0 5 3 3 1 2 2 2 1 3 0 2 0 4 3 1 0 4 1 5 2 3 4 0 0\n",
       " 3 5 4 0 5 5 5 2 3 5 0 3 2 4 0 0 2 1 5 0 2 1 2 0 4 1 5 2 5 0 1 4 3 3 5 1 3\n",
       " 3 5 0 5 3 0 5 1 1 0 4 5 0 3 4 5 1 1 1 2 3 3 0 0 4 2 0 0 4 3 1 4 4 1 5 2 1\n",
       " 4 3 2 3 5 3 3 1 5 5 4 2 2 5 5 4 0 1 4 4 2 2 4 5 1 3 1 5 5 4 3 4 3 3 3 5 1\n",
       " 3 2 2 3 3 2 0 2 1 4 3 1 1 2 3 4 2 5 0 0 1 0 3 2 3 3 3 0 3 5 3 1 2 1 5 0 2\n",
       " 0 2 5 5 1 4 3 4 2 0 0 5 2 4 2 5 5 0 5 5 0 0 3 3 1 0 4 5 5 4 2 3 0 2 0 0 5\n",
       " 4 2 2 2 4 0 5 2 5 0 5 1 0 4 2 5 4 4 1 2 3 2 0 2 1 1 0 1 4 2 1 5 2 5 5 3 4\n",
       " 3 0 4 0 3 3 0 3 4 1 5 5 1 3 4 3 5 3 4 4 5 1 3 2 1 1 1 1 1 5 3 4 2 2 5 1 4\n",
       " 1 0 0 0 2 2 1 5 4 5 2 3 1 3 0 5 0 4 4 2 2 4 3 3 5 4 5 2 1 2 3 5 1 0 0 1 4\n",
       " 5 1 5 2 3 3 1 4 3 3 0 5 1 1 2 4 5 1 4 5 2 4 2 1 4 5 1 4 5 1 1 1 5 3 2 0 4\n",
       " 1 0 2 4 2 3 2 1 1 1 3 4 5 4 0 4 3 1 0 1 4 4 2 2 3 5 1 1 0 0 2 0 2 4 5 0 4\n",
       " 4 4 0 5 1 0 4 3 4 3 0 5 1 1 1 1 4 0 0 0 3 5 0 4 4 4 5 1 4 3 1 0 3 2 3 5 4\n",
       " 5 3 2 1 5 2 1 5 5 2 5 4 4 2 3 4 5 2 1 5 5 1 3 4 0 5 2 5 0 4 5 5 2 4 2 0 3\n",
       " 1 2 2 0 2 4 1 1 2 3 0 1 5 0 2 5 3 5 2 5 4 5 2 4 2 1 2 0 1 2 4 1 5 0 1 0 5\n",
       " 4 0 0 3 4 1 0 5 0 1 0 4 4 4 1 2 2 4 3 4 5 2 4 0 1 1 0 3 0 2 1 2 1 2 2 3 4\n",
       " 2 4 5 1 2 2 4 1 3 4 0 0 3 4 1 4 5 4 4 1 1 2 0 3 0 1 5 2 0 1 4 2 5 0 4 4 2\n",
       " 0 2 3 5 1 2 3 2 5 1 3 2 0 4 2 3 3 0 3 0 4 3 1 3 0 1 2 0 5 0 1 0 5 3 3 0 2\n",
       " 5 5 0 2 4 4 5 2 0 5 2 4 2 4 3 1 4 4 0 3 4 1 4 0 0 4 1 5 1 2 3 3 5 5 3 2 0\n",
       " 5 3 3 5 4 0 5 5 4 0 0 0 3 3 2 5 0 5 2 2 1 4 5 4 0 1 5 0 2 2 2 2 0 3 1 5 2\n",
       " 3 5 4 0 3 5 0 5 0 2 0 1 0 1 1 3 5 0 3 0 3 2 3 0 3 1 0 1 3 1 4 0 2 0 2 0 5\n",
       " 3 1 5 2 5 0 2 1 0 4 3 4 2 3 5 2 0 1 4 4 1 0 1 4 3 2 1 3 3 5 3 5 2 2 3 2 1\n",
       " 4 4 4 2 2 2 5 4 2 5 2 0 4 1 2 2 5 4 1 5 2 5 4 5 5 1 0 5 1 1 1 0 2 5 5 1 2\n",
       " 4 2 0 5 4 0 5 3 1 0 2 2 2 1 4 4 1 4 1 3 2 1 1 5 5 2 1 4 3 3 5 1 3 3 5 3 5\n",
       " 2 4 0 4 0 5 0 5 4 2 4 0 3 1 4 0 2 2 4 0 2 3 0 2 5 5 0 5 0 3 5 1 0 3 1 5 1\n",
       " 2 3 3 5 1 1 2 5 2 0 1 5 3 4 1 1 2 5 3 0 4 3 2 1 5 5 5 1 0 5 1 1 2 5 0 3 2\n",
       " 3 4 2 4 3 3 5 4 5 1 4 2 3 4 3 5 1 3 0 1 5 0 3 4 1 0 2 2 0 3 3 5 2 0 3 2 0\n",
       " 0]\n",
       "<NDArray 1000 @cpu(0)>"
      ]
     },
     "execution_count": 4,
     "metadata": {},
     "output_type": "execute_result"
    }
   ],
   "source": [
    "rolls = nd.sample_multinomial(probabilities, shape=(1000))\n",
    "rolls"
   ]
  },
  {
   "cell_type": "markdown",
   "metadata": {},
   "source": [
    "Now let's tally the results of each of the 1000 rolls and count how many times each number was rolled."
   ]
  },
  {
   "cell_type": "code",
   "execution_count": 5,
   "metadata": {},
   "outputs": [
    {
     "name": "stdout",
     "output_type": "stream",
     "text": [
      "\n",
      "[ 167.  168.  175.  159.  158.  173.]\n",
      "<NDArray 6 @cpu(0)>\n"
     ]
    }
   ],
   "source": [
    "counts = nd.zeros((6, 1000))\n",
    "totals = nd.zeros(6)\n",
    "for i, roll in enumerate(rolls):\n",
    "    totals[int(roll.asscalar())] += 1\n",
    "    counts[:, i] = totals\n",
    "    \n",
    "print(totals)"
   ]
  },
  {
   "cell_type": "markdown",
   "metadata": {},
   "source": [
    "Now we can calculate the percentage of the total that each number has after 1000 rolls."
   ]
  },
  {
   "cell_type": "code",
   "execution_count": 6,
   "metadata": {},
   "outputs": [
    {
     "data": {
      "text/plain": [
       "\n",
       "[ 0.167       0.168       0.175       0.15899999  0.15800001  0.17299999]\n",
       "<NDArray 6 @cpu(0)>"
      ]
     },
     "execution_count": 6,
     "metadata": {},
     "output_type": "execute_result"
    }
   ],
   "source": [
    "totals / 1000"
   ]
  },
  {
   "cell_type": "markdown",
   "metadata": {},
   "source": [
    "If you run the numbers multiple times, you will find that the lowest estimated probability for any of the numbers is about .15 and the highest estimated probability is 0.188.  \n",
    "Because we generated the data from a fair die, we know that each number actually has probability of 1/6, roughly .167, so these estimates are pretty good.  \n",
    "We can also visualize how these probabilities converge over time towards reasonable estimates.  "
   ]
  },
  {
   "cell_type": "markdown",
   "metadata": {},
   "source": [
    "To start let’s take a look at the `counts` array which has shape `(6, 1000)`.  \n",
    "For each time step (out of 1000), counts, says how many times each of the numbers has shown up.  \n",
    "So we can normalize each $j$-th column of the counts vector by the number of tosses to give the current estimated probabilities at that time.  \n",
    "The counts object looks like this:"
   ]
  },
  {
   "cell_type": "code",
   "execution_count": 7,
   "metadata": {},
   "outputs": [
    {
     "data": {
      "text/plain": [
       "\n",
       "[[   0.    0.    0. ...,  165.  166.  167.]\n",
       " [   1.    1.    1. ...,  168.  168.  168.]\n",
       " [   0.    0.    0. ...,  175.  175.  175.]\n",
       " [   0.    0.    0. ...,  159.  159.  159.]\n",
       " [   0.    1.    2. ...,  158.  158.  158.]\n",
       " [   0.    0.    0. ...,  173.  173.  173.]]\n",
       "<NDArray 6x1000 @cpu(0)>"
      ]
     },
     "execution_count": 7,
     "metadata": {},
     "output_type": "execute_result"
    }
   ],
   "source": [
    "counts"
   ]
  },
  {
   "cell_type": "markdown",
   "metadata": {},
   "source": [
    "When we normalize the number of die rolls, we get:"
   ]
  },
  {
   "cell_type": "code",
   "execution_count": 8,
   "metadata": {},
   "outputs": [
    {
     "data": {
      "text/plain": [
       "\n",
       "[ 0.  1.  0.  0.  0.  0.]\n",
       "<NDArray 6 @cpu(0)>"
      ]
     },
     "execution_count": 8,
     "metadata": {},
     "output_type": "execute_result"
    }
   ],
   "source": [
    "x = nd.arange(1000).reshape((1,1000)) + 1\n",
    "estimates = counts / x\n",
    "estimates[:,0]"
   ]
  },
  {
   "cell_type": "code",
   "execution_count": 9,
   "metadata": {},
   "outputs": [
    {
     "data": {
      "text/plain": [
       "\n",
       "[ 0.   0.5  0.   0.   0.5  0. ]\n",
       "<NDArray 6 @cpu(0)>"
      ]
     },
     "execution_count": 9,
     "metadata": {},
     "output_type": "execute_result"
    }
   ],
   "source": [
    "estimates[:,1]"
   ]
  },
  {
   "cell_type": "code",
   "execution_count": 10,
   "metadata": {},
   "outputs": [
    {
     "data": {
      "text/plain": [
       "\n",
       "[ 0.27272728  0.27272728  0.09090909  0.18181819  0.18181819  0.        ]\n",
       "<NDArray 6 @cpu(0)>"
      ]
     },
     "execution_count": 10,
     "metadata": {},
     "output_type": "execute_result"
    }
   ],
   "source": [
    "estimates[:,10]"
   ]
  },
  {
   "cell_type": "code",
   "execution_count": 11,
   "metadata": {},
   "outputs": [
    {
     "data": {
      "text/plain": [
       "\n",
       "[ 0.17647059  0.17647059  0.15686275  0.21568628  0.13725491  0.13725491]\n",
       "<NDArray 6 @cpu(0)>"
      ]
     },
     "execution_count": 11,
     "metadata": {},
     "output_type": "execute_result"
    }
   ],
   "source": [
    "estimates[:,50]"
   ]
  },
  {
   "cell_type": "code",
   "execution_count": 12,
   "metadata": {},
   "outputs": [
    {
     "data": {
      "text/plain": [
       "\n",
       "[ 0.1980198   0.15841584  0.17821783  0.18811882  0.12871288  0.14851485]\n",
       "<NDArray 6 @cpu(0)>"
      ]
     },
     "execution_count": 12,
     "metadata": {},
     "output_type": "execute_result"
    }
   ],
   "source": [
    "estimates[:,100]"
   ]
  },
  {
   "cell_type": "markdown",
   "metadata": {},
   "source": [
    "As you can see, after the first toss of the die, we get the extreme estimate that one of the numbers will be rolled with probability 1.0 and that the others have probability 0.  \n",
    "After 100 rolls, things already look a bit more reasonable.  \n",
    "We can visualize this convergence by using the plotting package `matplotlib`.  "
   ]
  },
  {
   "cell_type": "code",
   "execution_count": 13,
   "metadata": {},
   "outputs": [],
   "source": [
    "from matplotlib import pyplot as plt"
   ]
  },
  {
   "cell_type": "code",
   "execution_count": 14,
   "metadata": {},
   "outputs": [
    {
     "data": {
      "image/png": "[encoded data removed]",
      "text/plain": [
       "<matplotlib.figure.Figure at 0x10da84f60>"
      ]
     },
     "metadata": {},
     "output_type": "display_data"
    }
   ],
   "source": [
    "plt.plot(estimates[0, :].asnumpy(), label=\"Estimated P(die=1)\")\n",
    "plt.plot(estimates[1, :].asnumpy(), label=\"Estimated P(die=2)\")\n",
    "plt.plot(estimates[2, :].asnumpy(), label=\"Estimated P(die=3)\")\n",
    "plt.plot(estimates[3, :].asnumpy(), label=\"Estimated P(die=4)\")\n",
    "plt.plot(estimates[4, :].asnumpy(), label=\"Estimated P(die=5)\")\n",
    "plt.plot(estimates[5, :].asnumpy(), label=\"Estimated P(die=6)\")\n",
    "plt.axhline(y=0.16666, color='black', linestyle='dashed')\n",
    "plt.legend()\n",
    "plt.show()"
   ]
  },
  {
   "cell_type": "markdown",
   "metadata": {},
   "source": [
    "Each solid curve corresponds to one of the six values of the die and gives our estimated probability that the die turns up that value as assessed after each of the 1000 turns.  \n",
    "The dashed black line gives the true underlying probability.  \n",
    "As we get more data, the solid curves converge towards the true answer.  \n",
    "In our example of casting a die, we introduced the notion of a **random variable**.  \n",
    "A random variable, which we denote here as $X$, can be pretty much any quantity that is not determistic.  \n",
    "Random variables could take one value among a set of possibilites.  \n",
    "We denote sets with brackets, like $\\{\\mathrm{cat}, \\mathrm{dog}, \\mathrm{rabbit}\\}$.  \n",
    "The items contained in the set are called *elements*, and we can say that an element $x$ is *in* the set $S$, by writing $x \\in S$.  \n",
    "The symbol $\\in$ is read as \"in\" and denotes membership.  \n",
    "For instance, we could truthfully say $\\mathrm{dog} \\in \\{\\mathrm{cat}, \\mathrm{dog}, \\mathrm{rabbit}\\}$.  \n",
    "When dealing with the rolls of die, we are concerned with a variable $X \\in \\{1, 2, 3, 4, 5, 6\\}$.  "
   ]
  },
  {
   "cell_type": "markdown",
   "metadata": {},
   "source": [
    "Note that there is a subtle difference between **discrete** random variables, like the sides of a dice, and **continuous** ones, like the weight and the height of a person.  \n",
    "There’s little point in asking whether two people have exactly the same height.  \n",
    "If we take precise enough measurements you’ll find that no two people on the planet have the exact same height.  \n",
    "In fact, if we take a fine enough measurement, you will not have the same height when you wake up and when you go to sleep.  \n",
    "So there’s no purpose in asking about the probability that some one is 2.00139278291028719210196740527486202 meters tall.  \n",
    "The probability is 0.  \n",
    "It makes more sense in this case to ask whether someone’s height falls into a given interval, say between 1.99 and 2.01 meters.  \n",
    "In these cases we quantify the likelihood that we see a value as a density.  \n",
    "The height of exactly 2.0 meters has no probability, but nonzero density.  \n",
    "Between any two different heights we have nonzero probability."
   ]
  },
  {
   "cell_type": "markdown",
   "metadata": {},
   "source": [
    "\n",
    "There are a few important axioms of probability that you'll want to remember:  \n",
    "* For any event $z$, the probability is never negative, i.e. $\\Pr(Z=z) \\geq 0$.  \n",
    "* For any two events $Z=z$ and $X=x$ the union is no more likely than the sum of the individual events, i.e. $\\Pr(Z=z \\cup X=x) \\leq \\Pr(Z=z) + \\Pr(X=x)$.  \n",
    "* For any random variable, the probabilities of all the values it can take must sum to 1 $\\sum_{i=1}^n P(Z=z_i) = 1$.  \n",
    "* For any two mutually exclusive events $Z=z$ and $X=x$, the probability that either happens is equal to the sum of their individual probabilities that $\\Pr(Z=z \\cup X=x) = \\Pr(Z=z) + \\Pr(X=z)$."
   ]
  },
  {
   "cell_type": "markdown",
   "metadata": {},
   "source": [
    "## Dealing with multiple random variables"
   ]
  },
  {
   "cell_type": "markdown",
   "metadata": {},
   "source": [
    "Very often, we’ll want consider more than one random variable at a time.  \n",
    "For instance, we may want to model the relationship between diseases and symptoms.  \n",
    "Given a disease and symptom, say ‘flu’ and ‘cough’, either may or may not occur in a patient with some probability.  \n",
    "While we hope that the probability of both would be close to zero, we may want to estimate these probabilities and their relationships to each other so that we may apply our inferences to effect better medical care.  \n",
    "As a more complicated example, images contain millions of pixels, thus millions of random variables.  \n",
    "And in many cases images will come with a label, identifying objects in the image.  \n",
    "We can also think of the label as a random variable.  \n",
    "We can even get crazy and think of all the metadata as random variables such as location, time, aperture, focal length, ISO, focus distance, camera type, etc.  \n",
    "All of these are random variables that occur jointly.  \n",
    "When we deal with multiple random variables, there are several quantities of interest.  \n",
    "The first is called the joint distribution $\\Pr(A, B)$.  \n",
    "Given any elements $a$ and $b$, the joint distribution lets us answer, what is the probability that $A=a$ and $B=b$ simultaneously?  \n",
    "It might be clear that for any values $a$ and $b$, $\\Pr(A,B) \\leq \\Pr(A=a)$."
   ]
  },
  {
   "cell_type": "markdown",
   "metadata": {},
   "source": [
    "This has to be the case, since for $A$ and $B$ to happen, $A$ has to happen and $B$ also has to happen (and vice versa). Thus $A,B$ cannot be more likely than $A$ or $B$ individually.  \n",
    "This brings us to an interesting ratio:  \n",
    "$$0 \\leq \\frac{\\Pr(A,B)}{\\Pr(A)} \\leq 1$$.  \n",
    "We call this a conditional probability and denote it by $\\Pr(B|A)$, which is the probability that $B$ happens, provided that $A$ has happened.  \n",
    "Using the definition of conditional probabilities, we can derive one of the most useful and celebrated equations in statistics - Bayes’ theorem.  \n",
    "It goes as follows:  \n",
    "By construction, we have that $\\Pr(A, B) = \\Pr(B|A) \\Pr(A)$.  \n",
    "By symmetry, this also holds for $\\Pr(A,B) = \\Pr(A|B) \\Pr(B)$.  \n",
    "Solving for one of the conditional variables we get:  \n",
    "\n",
    "$$\\Pr(A|B) = \\frac{\\Pr(B|A) \\Pr(A)}{\\Pr(B)}$$"
   ]
  },
  {
   "cell_type": "markdown",
   "metadata": {},
   "source": [
    "This is very useful if we want to infer one thing from another, say cause and effect but we only know the properties in the reverse direction.  \n",
    "One important operation that we need to make this work is **marginalization**, meaning the operation of determining $\\Pr(A)$ and $\\Pr(B)$ from $\\Pr(A,B)$.  \n",
    "We can see that the probability of seeing $A$ amounts to accounting for all possible choices of $B$ and aggregating the joint probabilities over all of them:  \n",
    "\n",
    "$$\\Pr(A) = \\sum_{B'} \\Pr(A,B') \\text{ and } \\Pr(B) = \\sum_{A'} \\Pr(A',B)$$"
   ]
  },
  {
   "cell_type": "markdown",
   "metadata": {},
   "source": [
    "A really useful property to check is for dependence and independence.  \n",
    "Independence is when the occurrence of one event does not influence the occurrence of the other.  \n",
    "In this case $\\Pr(B|A) = \\Pr(B)$.  \n",
    "Statisticians typically use $A \\perp\\!\\!\\!\\perp B$ to express this.  \n",
    "From Bayes Theorem it follows immediately that also $\\Pr(A|B) = \\Pr(A)$.  \n",
    "In all other cases we call $A$ and $B$ dependent.  \n",
    "For instance, two successive rolls of a dice are independent.  \n",
    "On the other hand, the position of a light switch and the brightness in the room are not (they are not perfectly deterministic, though, since we could always have a broken lightbulb, power failure, or a broken switch).  "
   ]
  },
  {
   "cell_type": "markdown",
   "metadata": {},
   "source": [
    "Let's put our skills to the test.  \n",
    "Assume that a doctor administers an AIDS test to a patient.  \n",
    "This test is fairly accurate and fails only with 1% probability if the patient is healthy by reporting him as diseased and that it never fails to detect HIV if the patient actually has it.  \n",
    "We use $D$ to indicate the diagnosis and $H$ to denote the HIV status.  \n",
    "Written as a table the outcome $\\Pr(D|H)$ looks as follows:  "
   ]
  },
  {
   "cell_type": "markdown",
   "metadata": {},
   "source": [
    "| | Patient is HIV positive | Patient is HIV negative |\n",
    "|:------------|------------------------:|------------------------:|  \n",
    "|Test positive| 1 | 0.01 |\n",
    "|Test negative| 0 | 0.99 |"
   ]
  },
  {
   "cell_type": "markdown",
   "metadata": {},
   "source": [
    "Note that the column sums are all one (but the row sums aren't) since the conditional probability needs to sum up to $1$, just like the probability.  \n",
    "Let us work out the probability of the patient having AIDS if the test comes back positive.  \n",
    "Obviously this is going to depend on how common the disease is, since it affects the number of false alarms.  \n",
    "Assume that the population is quite healthy, e.g. $\\Pr(\\text{HIV positive}) = 0.0015$.  \n",
    "To apply Bayes Theorem we need to determine  \n",
    "\n",
    "$$\\Pr(\\text{Test positive}) = \\Pr(D=1|H=0) \\Pr(H=0) + \\Pr(D=1|H=1) \\Pr(H=1) = 0.01 \\cdot 0.9985 + 1 \\cdot 0.0015 = 0.011485$$  \n",
    "Hence we get $\\Pr(H = 1|D = 1) = \\frac{\\Pr(D=1|H=1) \\Pr(H=1)}{\\Pr(D=1)} = \\frac{1 \\cdot 0.0015}{0.011485} = 0.131$  \n",
    "In other words, there's only a 13.1% chance that the patient actually has AIDS, despite using a test that is 99% accurate!  \n",
    "As we can see, statistics can be quite counterintuitive."
   ]
  },
  {
   "cell_type": "markdown",
   "metadata": {},
   "source": [
    "## Conditional independence"
   ]
  },
  {
   "cell_type": "markdown",
   "metadata": {},
   "source": [
    "What should a patient do upon receiving such terrifying news?  \n",
    "Likely, he/she would ask the physician to administer another test to get clarity.  \n",
    "The second test has different characteristics (it isn't as good as the first one).  \n",
    "\n",
    "| | Patient is HIV positive | Patient is HIV negative |\n",
    "|:------------|------------------------:|------------------------:|\n",
    "|Test positive| 0.98 | 0.03 |\n",
    "|Test negative| 0.02 | 0.97 |\n",
    "\n",
    "Unfortunately, the second test comes back positive, too.  "
   ]
  },
  {
   "cell_type": "markdown",
   "metadata": {},
   "source": [
    "Let us work out the requisite probabilities to invoke Bayes' Theorem.  \n",
    "\n",
    "* $\\Pr(D_1 = 1 \\text{ and } D_2 = 1|H = 0) = 0.01 \\cdot 0.03 = 0.0001$  \n",
    "* $\\Pr(D_1 = 1 \\text{ and } D_2 = 1|H = 1) = 1 \\cdot 0.98 = 0.98$  \n",
    "* $\\Pr(D_1 = 1 \\text{ and } D_2 = 1) = 0.0001 \\cdot 0.9985 + 0.98 \\cdot 0.0015 = 0.00156985$  \n",
    "* $\\Pr(H = 1|D_1 = 1 \\text{ and } D_2 = 1) = \\frac{0.98 \\cdot 0.0015}{0.00156985} = 0.936$  \n",
    "\n",
    "That is, the second test allowed us to gain much higher confidence that not all is well.  \n",
    "Despite the second test being considerably less accurate than the first one it still improved our estimate quite a bit.  "
   ]
  },
  {
   "cell_type": "markdown",
   "metadata": {},
   "source": [
    "*Why couldn't we just run the first test a second time?*  \n",
    "*After all, the first test was more accurate.*  "
   ]
  },
  {
   "cell_type": "markdown",
   "metadata": {},
   "source": [
    "The reason is that we needed a second test that confirmed *independently* of the first test that things were dire, indeed.  \n",
    "In other words, we made the tacit assumption that  \n",
    "$$\\Pr(D_1, D_2|H) = \\Pr(D_1|H) \\Pr(D_2|H)$$ \n",
    "Statisticians call such random variables **conditionally independent**.  \n",
    "This is expressed as  \n",
    "$$D_1 \\perp\\!\\!\\!\\perp D_2 | H$$"
   ]
  },
  {
   "cell_type": "markdown",
   "metadata": {},
   "source": [
    "## Naive Bayes classification"
   ]
  },
  {
   "cell_type": "markdown",
   "metadata": {},
   "source": [
    "Conditional independence is useful when dealing with data, since it simplifies a lot of equations.  \n",
    "A popular algorithm is the Naive Bayes Classifier.  \n",
    "The key assumption in it is that the attributes are all independent of each other, given the labels.  \n",
    "In other words, we have:  \n",
    "\n",
    "$$p(x|y) = \\prod_i p(x_i|y)$$  \n",
    "\n",
    "Using Bayes Theorem this leads to the classifier $p(y|x) = \\frac{\\prod_i p(x_i|y) p(y)}{p(x)}$.  \n",
    "Unfortunately, this is still intractable, since we don't know $p(x)$.  "
   ]
  },
  {
   "cell_type": "markdown",
   "metadata": {},
   "source": [
    "Fortunately, we don't need it, since we know that $\\sum_y p(y|x) = 1$, hence we can always recover the normalization from $p(y|x) \\propto \\prod_i p(x_i|y) p(y)$.  \n",
    "After all that math, it's time for some code to show how to use a Naive Bayes classifier for distinguishing digits on the MNIST classification dataset.  \n",
    "The problem is that we don't actually know $p(y)$ and $p(x_i|y)$.  \n",
    "So we need to *estimate* it given some training data first.  \n",
    "This is what is called *training* the model.  \n",
    "In the case of 10 possible classes we simply compute $n_y$, i.e. the number of occurrences of class $y$ and then divide it by the total number of occurrences.  \n",
    "If we have a total of 60,000 pictures of digits and digit 4 occurs 5800 times, we estimate its probability as $\\frac{5800}{60000}$.  \n",
    "Likewise, to get an idea of $p(x_i|y)$ we count how many times pixel $i$ is set for digit $y$ and then divide it by the number of occurrences of digit $y$.  \n",
    "This is the probability that that very pixel will be switched on."
   ]
  },
  {
   "cell_type": "code",
   "execution_count": 15,
   "metadata": {},
   "outputs": [
    {
     "data": {
      "text/plain": [
       "\n",
       "[ 0.09871688  0.11236461  0.09930012  0.10218297  0.09736711  0.09035161\n",
       "  0.09863356  0.10441593  0.09751708  0.09915014]\n",
       "<NDArray 10 @cpu(0)>"
      ]
     },
     "execution_count": 15,
     "metadata": {},
     "output_type": "execute_result"
    }
   ],
   "source": [
    "import numpy as np\n",
    "\n",
    "# Go over one observation at a time.\n",
    "def transform(data, label):\n",
    "    return (nd.floor(data/128)).astype(np.float32), label.astype(np.float32)\n",
    "\n",
    "mnist_train = mx.gluon.data.vision.MNIST(train=True, transform=transform)\n",
    "mnist_test = mx.gluon.data.vision.MNIST(train=False, transform=transform)\n",
    "\n",
    "# Initialize the count statistics for p(y) and p(x_i|y).\n",
    "# We initialize all numbers with a count of 1 to ensure that we don't get a division by zero.  \n",
    "# Statisticians call this Laplace (or Laplacian) smoothing.\n",
    "ycount = nd.ones(shape=(10))\n",
    "xcount = nd.ones(shape=(784, 10))\n",
    "\n",
    "# Now aggregate the count statistics on how frequently a pixel is on (or off) for zeros and ones.\n",
    "for data, label in mnist_train:\n",
    "    x = data.reshape((784,))\n",
    "    y = int(label)\n",
    "    ycount[y] += 1\n",
    "    xcount[:, y] += x\n",
    "    \n",
    "# Normalize the probabilities p(x_i / y) by dividing per-pixel counts by the total count.\n",
    "for i in range(10):\n",
    "    xcount[:, i] = xcount[:, i] / ycount[i]\n",
    "    \n",
    "# Compute the probability p(y)\n",
    "py = ycount / nd.sum(ycount)\n",
    "py"
   ]
  },
  {
   "cell_type": "markdown",
   "metadata": {},
   "source": [
    "Now that we have computed per-pixel counts of occurrence for all pixels, it's time to see how our model behaves.  \n",
    "Time for plotting.  \n",
    "We show the estimated probabilities of observing a switched-on pixel.  \n",
    "These are some mean-looking digits."
   ]
  },
  {
   "cell_type": "code",
   "execution_count": 16,
   "metadata": {},
   "outputs": [
    {
     "data": {
      "image/png": "[encoded data removed]",
      "text/plain": [
       "<matplotlib.figure.Figure at 0x10f2255f8>"
      ]
     },
     "metadata": {},
     "output_type": "display_data"
    },
    {
     "data": {
      "text/plain": [
       "\n",
       "[ 0.09871688  0.11236461  0.09930012  0.10218297  0.09736711  0.09035161\n",
       "  0.09863356  0.10441593  0.09751708  0.09915014]\n",
       "<NDArray 10 @cpu(0)>"
      ]
     },
     "execution_count": 16,
     "metadata": {},
     "output_type": "execute_result"
    }
   ],
   "source": [
    "import matplotlib.pyplot as plt\n",
    "\n",
    "fig, figarr = plt.subplots(1, 10, figsize=(15, 15))\n",
    "for i in range(10):\n",
    "    figarr[i].imshow(xcount[:, i].reshape((28, 28)).asnumpy(), cmap='hot')\n",
    "    figarr[i].axes.get_xaxis().set_visible(False)\n",
    "    figarr[i].axes.get_yaxis().set_visible(False)\n",
    "plt.show()\n",
    "py"
   ]
  },
  {
   "cell_type": "markdown",
   "metadata": {},
   "source": [
    "Now we can compute the likelihoods of an image, given the model.  \n",
    "This is statistican speak for $p(x|y)$, i.e. how likely it is to see a particular image under certain conditions (such as the label).  \n",
    "Since this is computationally awkward (we might have to multiply many small numbers if many pixels have a small probability of occurring), we are better off computing its logarithm instead.  \n",
    "That is, instead of $p(x|y) = \\prod_{i} p(x_i|y)$, we compute $\\log p(x|y) = \\sum_i \\log p(x_i|y)$\n",
    "\n",
    "$$l_y := \\sum_i \\log p(x_i|y) = \\sum_i x_i \\log p(x_i = 1|y) + (1-x_i) \\log \\left(1-p(x_i=1|y)\\right)$$  \n",
    "\n",
    "To avoid recomputing logarithms all the time, we precompute them for all pixels."
   ]
  },
  {
   "cell_type": "code",
   "execution_count": 17,
   "metadata": {},
   "outputs": [
    {
     "data": {
      "image/png": "[encoded data removed]",
      "text/plain": [
       "<matplotlib.figure.Figure at 0x1111ccc50>"
      ]
     },
     "metadata": {},
     "output_type": "display_data"
    }
   ],
   "source": [
    "logxcount = nd.log(xcount)\n",
    "logxcountneg = nd.log(1-xcount)\n",
    "logpy = nd.log(py)\n",
    "\n",
    "fig, figarr = plt.subplots(2, 10, figsize=(15, 3))\n",
    "\n",
    "# Show 10 images:\n",
    "ctr = 0\n",
    "for data, label in mnist_test:\n",
    "    x = data.reshape((784,))\n",
    "    y = int(label)\n",
    "\n",
    "    # We need to incorporate the prior probability p(y) since p(y|x) is proportional to p(x|y) p(y)\n",
    "    logpx = logpy.copy()\n",
    "    for i in range(10):\n",
    "        # Compute the log probability for a digit:\n",
    "        logpx[i] += nd.dot(logxcount[:, i], x) + nd.dot(logxcountneg[:, i], 1-x)\n",
    "    # Normalize to prevent overflow or underflow by subtracting the largest value:\n",
    "    logpx -= nd.max(logpx)\n",
    "    # Compute the softmax using logpx:\n",
    "    px = nd.exp(logpx).asnumpy()\n",
    "    px /= np.sum(px)\n",
    "\n",
    "    # Plot bar chart and image of digit:\n",
    "    figarr[1, ctr].bar(range(10), px)\n",
    "    figarr[1, ctr].axes.get_yaxis().set_visible(False)\n",
    "    figarr[0, ctr].imshow(x.reshape((28, 28)).asnumpy(), cmap='hot')\n",
    "    figarr[0, ctr].axes.get_xaxis().set_visible(False)\n",
    "    figarr[0, ctr].axes.get_yaxis().set_visible(False)\n",
    "    ctr += 1\n",
    "    if ctr == 10:\n",
    "        break\n",
    "\n",
    "plt.show()"
   ]
  },
  {
   "cell_type": "markdown",
   "metadata": {},
   "source": [
    "As we can see, this classifier is both incompetent and overly confident of its incorrect estimates.  \n",
    "That is, even if it is horribly wrong, it generates probabilities close to 1 or 0.  \n",
    "Not a classifier we should use very much nowadays any longer.  \n",
    "While Naive Bayes classifiers used to be popular in the 80s and 90s, e.g. for spam filtering, their heydays are over.  \n",
    "The poor performance is due to the incorrect statistical assumptions that we made in our model: we assumed that each and every pixel are independently generated, depending only on the label.  \n",
    "This is clearly not how humans write digits, and this wrong assumption led to the downfall of our overly naive (Bayes) classifier."
   ]
  },
  {
   "cell_type": "markdown",
   "metadata": {},
   "source": [
    "## [Sampling](http://gluon.mxnet.io/chapter01_crashcourse/probability.html#Sampling)"
   ]
  },
  {
   "cell_type": "markdown",
   "metadata": {},
   "source": [
    "Random numbers are just one form of random variables, and since computers are particularly good with numbers, pretty much everything else in code ultimately gets converted to numbers anyway.  \n",
    "One of the basic tools needed to generate random numbers is to sample from a distribution.  \n",
    "Let's start with what happens when we use a random number generator.  "
   ]
  },
  {
   "cell_type": "code",
   "execution_count": 18,
   "metadata": {},
   "outputs": [
    {
     "name": "stdout",
     "output_type": "stream",
     "text": [
      "0.9214531993481256\n",
      "0.4073872304798032\n",
      "0.2763039181923379\n",
      "0.11035954032646811\n",
      "0.3348160151074775\n",
      "0.6808572560913903\n",
      "0.4450396490525491\n",
      "0.3194944401754555\n",
      "0.19127690153782828\n",
      "0.21667257306654786\n"
     ]
    }
   ],
   "source": [
    "import random \n",
    "\n",
    "for i in range(10):\n",
    "    print(random.random())"
   ]
  },
  {
   "cell_type": "markdown",
   "metadata": {},
   "source": [
    "### Uniform Distribution"
   ]
  },
  {
   "cell_type": "markdown",
   "metadata": {},
   "source": [
    "These are some pretty random numbers.  \n",
    "As we can see, their range is between 0 and 1, and they are evenly distributed.  \n",
    "That is, there is (actually, should be, since this is not a real random number generator) no interval in which numbers are more likely than in any other.  \n",
    "In other words, the chances of any of these numbers to fall into the interval, say (0.2,0.3) are as high as in the interval (.593264,.693264).  \n",
    "The way they are generated internally is to produce a random integer first, and then divide it by its maximum range.  \n",
    "If we want to have integers directly, try the following instead.  \n",
    "It generates random numbers between 0 and 101."
   ]
  },
  {
   "cell_type": "code",
   "execution_count": 19,
   "metadata": {},
   "outputs": [
    {
     "name": "stdout",
     "output_type": "stream",
     "text": [
      "79\n",
      "63\n",
      "44\n",
      "13\n",
      "52\n",
      "32\n",
      "22\n",
      "93\n",
      "1\n",
      "46\n"
     ]
    }
   ],
   "source": [
    "for i in range(10):\n",
    "    print(random.randint(1, 100))"
   ]
  },
  {
   "cell_type": "markdown",
   "metadata": {},
   "source": [
    "What if we wanted to check that `randint` is actually really uniform.  \n",
    "Intuitively the best strategy would be to run it, say 1 million times, count how many times it generates each one of the values and to ensure that the result is uniform."
   ]
  },
  {
   "cell_type": "code",
   "execution_count": 20,
   "metadata": {},
   "outputs": [
    {
     "data": {
      "image/png": "[encoded data removed]",
      "text/plain": [
       "<matplotlib.figure.Figure at 0x1111b4dd8>"
      ]
     },
     "metadata": {},
     "output_type": "display_data"
    }
   ],
   "source": [
    "import math\n",
    "\n",
    "counts = np.zeros(100)\n",
    "fig, axes = plt.subplots(2, 3, figsize=(15, 8), sharex=True,)\n",
    "axes = axes.reshape(6)\n",
    "# The odd subplot layout is so that we can index them linearly instead of in a 2D grid.\n",
    "\n",
    "for i in range(1, 1000001):\n",
    "    counts[random.randint(0, 99)] += 1\n",
    "    if i in [10, 100, 1000, 10000, 100000, 1000000]:\n",
    "        axes[int(math.log10(i))-1].bar(np.arange(1, 101), counts)\n",
    "\n",
    "plt.show()"
   ]
  },
  {
   "cell_type": "markdown",
   "metadata": {},
   "source": [
    "What we can see from the above figures is that the initial number of counts looks very uneven.  \n",
    "If we sample fewer than 100 draws from a distribution over 100 outcomes this is pretty much expected.  \n",
    "But even for 1000 samples there is a significant variability between the draws.  \n",
    "What we are really aiming for is a situation where the probability of drawing a number $x$ is given by $p(x)$."
   ]
  },
  {
   "cell_type": "markdown",
   "metadata": {},
   "source": [
    "### The categorical distribution"
   ]
  },
  {
   "cell_type": "markdown",
   "metadata": {},
   "source": [
    "Quite obviously, drawing from a uniform distribution over a set of 100 outcomes is quite simple.  \n",
    "But what if we have nonuniform probabilities?  \n",
    "Let's start with a simple case, a biased coin which comes up heads with probability 0.35 and tails with probability 0.65.  \n",
    "A simple way to sample from that is to generate a uniform random variable over $[0,1]$ and if the number is less than $0.35$, we output heads and otherwise we generate tails.  \n",
    "Let's try this out."
   ]
  },
  {
   "cell_type": "code",
   "execution_count": 24,
   "metadata": {},
   "outputs": [
    {
     "data": {
      "image/png": "[encoded data removed]",
      "text/plain": [
       "<matplotlib.figure.Figure at 0x133f28a58>"
      ]
     },
     "metadata": {},
     "output_type": "display_data"
    }
   ],
   "source": [
    "# Number of samples:\n",
    "n = 1000000\n",
    "y = np.random.uniform(0, 1, n)\n",
    "x = np.arange(1, n+1)\n",
    "# Count the number of occurrences and divide by the number of total draws:\n",
    "p0 = np.cumsum(y < 0.35) / x\n",
    "p1 = np.cumsum(y >= 0.35) / x\n",
    "\n",
    "plt.figure(figsize=(15, 8))\n",
    "plt.semilogx(x, p0)\n",
    "plt.semilogx(x, p1)\n",
    "plt.show()"
   ]
  },
  {
   "cell_type": "markdown",
   "metadata": {},
   "source": [
    "As we can see, on average this sampler will generate 35% zeros and 65% ones.  \n",
    "Now what if we have more than two possible outcomes?  \n",
    "We can simply generalize this idea as follows.  \n",
    "Given any probability distribution  \n",
    "$p = [0.1, 0.2, 0.05, 0.3, 0.25, 0.1]$  \n",
    "we can compute its cumulative distribution (Python's ``cumsum`` will do this for you)  \n",
    "$F = [0.1, 0.3, 0.35, 0.65, 0.9, 1]$.  \n",
    "Once we have this we draw a random variable $x$ from the uniform distribution $U[0,1]$ and then find the interval where $F[i-1] \\leq x < F[i]$.  \n",
    "We then return $i$ as the sample.  \n",
    "By construction, the chances of hitting interval $[F[i-1], F[i])$ has probability $p(i)$.  \n",
    "Note that there are many more efficient algorithms for sampling than the one above.  \n",
    "For instance, binary search over $F$ will run in $O(\\log n)$ time for $n$ random variables.  \n",
    "There are even more clever algorithms, such as the [Alias Method](https://en.wikipedia.org/wiki/Alias_method) to sample in constant time, after $O(n)$ preprocessing."
   ]
  },
  {
   "cell_type": "markdown",
   "metadata": {},
   "source": [
    "### The Normal distribution"
   ]
  },
  {
   "cell_type": "code",
   "execution_count": null,
   "metadata": {},
   "outputs": [],
   "source": []
  }
 ],
 "metadata": {
  "kernelspec": {
   "display_name": "Python 3",
   "language": "python",
   "name": "python3"
  },
  "language_info": {
   "codemirror_mode": {
    "name": "ipython",
    "version": 3
   },
   "file_extension": ".py",
   "mimetype": "text/x-python",
   "name": "python",
   "nbconvert_exporter": "python",
   "pygments_lexer": "ipython3",
   "version": "3.6.1"
  }
 },
 "nbformat": 4,
 "nbformat_minor": 2
}
