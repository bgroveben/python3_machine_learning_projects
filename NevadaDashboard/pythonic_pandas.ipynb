{
 "cells": [
  {
   "cell_type": "markdown",
   "metadata": {},
   "source": [
    "# Pythonic pandas\n",
    "### Using a tutorial about [fast flexible pandas](https://realpython.com/fast-flexible-pandas/)."
   ]
  },
  {
   "cell_type": "markdown",
   "metadata": {},
   "source": [
    "The [pandas Python package](https://pandas.pydata.org/pandas-docs/stable/) is an effective way to examine and manipulate data.  \n",
    "The source code is [available on Github](https://github.com/pandas-dev/pandas), and be sure to check out pandas' library of [extension modules](https://github.com/pandas-dev/pandas/tree/master/pandas/_libs).  \n",
    "Be careful when writing code for pandas, because [Pythonic code](https://stackoverflow.com/questions/25011078/what-does-pythonic-mean) may not necessarily be a good idea.  \n",
    "Like [NumPy](http://www.numpy.org/), pandas is designed for vectorized operations that replace explicit loops with array expressions.  \n",
    "This tutorial will attempt to demonstrate Pythonic pandas that will make the best use of the language and the library."
   ]
  },
  {
   "cell_type": "markdown",
   "metadata": {},
   "source": [
    "## Our Task"
   ]
  },
  {
   "cell_type": "code",
   "execution_count": null,
   "metadata": {},
   "outputs": [],
   "source": []
  }
 ],
 "metadata": {
  "kernelspec": {
   "display_name": "Python 3",
   "language": "python",
   "name": "python3"
  },
  "language_info": {
   "codemirror_mode": {
    "name": "ipython",
    "version": 3
   },
   "file_extension": ".py",
   "mimetype": "text/x-python",
   "name": "python",
   "nbconvert_exporter": "python",
   "pygments_lexer": "ipython3",
   "version": "3.6.1"
  }
 },
 "nbformat": 4,
 "nbformat_minor": 2
}
