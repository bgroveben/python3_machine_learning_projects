{
 "cells": [
  {
   "cell_type": "markdown",
   "metadata": {},
   "source": [
    "# Pythonic pandas\n",
    "### Using a tutorial about [fast flexible pandas](https://realpython.com/fast-flexible-pandas/)."
   ]
  },
  {
   "cell_type": "markdown",
   "metadata": {},
   "source": [
    "The [pandas Python package](https://pandas.pydata.org/pandas-docs/stable/) is an effective way to examine and manipulate data.  \n",
    "The source code is [available on Github](https://github.com/pandas-dev/pandas), and be sure to check out pandas' library of [extension modules](https://github.com/pandas-dev/pandas/tree/master/pandas/_libs).  \n",
    "Be careful when writing code for pandas, because [Pythonic code](https://stackoverflow.com/questions/25011078/what-does-pythonic-mean) may not necessarily be a good idea.  \n",
    "Like [NumPy](http://www.numpy.org/), pandas is designed for vectorized operations that replace explicit loops with array expressions.  \n",
    "This tutorial will attempt to demonstrate Pythonic pandas that will make the best use of the language and the library."
   ]
  },
  {
   "cell_type": "markdown",
   "metadata": {},
   "source": [
    "## Our Task"
   ]
  },
  {
   "cell_type": "markdown",
   "metadata": {},
   "source": [
    "The goal of this example will be to apply time-of-use energy tariffs to find the total cost of energy consumption for one year.  \n",
    "Make sure that you are up to speed with basic [data selection and indexing](https://pandas.pydata.org/pandas-docs/stable/indexing.html).  \n",
    "Our problem is that at different hours of the day, the price for electricity varies, so the task is to multiply the electricity consumed for each hour by the correct price for the hour in which it was consumed.  \n",
    "Let’s read our data from a [CSV file](https://raw.githubusercontent.com/realpython/materials/master/pandas-fast-flexible-intuitive/tutorial/demand_profile.csv) that has two columns: one for date plus time and one for electrical energy consumed in kilowatt hours (kWh):"
   ]
  },
  {
   "cell_type": "code",
   "execution_count": 1,
   "metadata": {},
   "outputs": [
    {
     "data": {
      "text/plain": [
       "'0.23.3'"
      ]
     },
     "execution_count": 1,
     "metadata": {},
     "output_type": "execute_result"
    }
   ],
   "source": [
    "import pandas as pd\n",
    "\n",
    "pd.__version__"
   ]
  },
  {
   "cell_type": "code",
   "execution_count": 2,
   "metadata": {},
   "outputs": [
    {
     "data": {
      "text/html": [
       "<div>\n",
       "<style scoped>\n",
       "    .dataframe tbody tr th:only-of-type {\n",
       "        vertical-align: middle;\n",
       "    }\n",
       "\n",
       "    .dataframe tbody tr th {\n",
       "        vertical-align: top;\n",
       "    }\n",
       "\n",
       "    .dataframe thead th {\n",
       "        text-align: right;\n",
       "    }\n",
       "</style>\n",
       "<table border=\"1\" class=\"dataframe\">\n",
       "  <thead>\n",
       "    <tr style=\"text-align: right;\">\n",
       "      <th></th>\n",
       "      <th>date_time</th>\n",
       "      <th>energy_kwh</th>\n",
       "    </tr>\n",
       "  </thead>\n",
       "  <tbody>\n",
       "    <tr>\n",
       "      <th>count</th>\n",
       "      <td>8760</td>\n",
       "      <td>8760.000000</td>\n",
       "    </tr>\n",
       "    <tr>\n",
       "      <th>unique</th>\n",
       "      <td>8760</td>\n",
       "      <td>NaN</td>\n",
       "    </tr>\n",
       "    <tr>\n",
       "      <th>top</th>\n",
       "      <td>27/10/13 14:00</td>\n",
       "      <td>NaN</td>\n",
       "    </tr>\n",
       "    <tr>\n",
       "      <th>freq</th>\n",
       "      <td>1</td>\n",
       "      <td>NaN</td>\n",
       "    </tr>\n",
       "    <tr>\n",
       "      <th>mean</th>\n",
       "      <td>NaN</td>\n",
       "      <td>0.653600</td>\n",
       "    </tr>\n",
       "    <tr>\n",
       "      <th>std</th>\n",
       "      <td>NaN</td>\n",
       "      <td>0.453193</td>\n",
       "    </tr>\n",
       "    <tr>\n",
       "      <th>min</th>\n",
       "      <td>NaN</td>\n",
       "      <td>0.000000</td>\n",
       "    </tr>\n",
       "    <tr>\n",
       "      <th>25%</th>\n",
       "      <td>NaN</td>\n",
       "      <td>0.285000</td>\n",
       "    </tr>\n",
       "    <tr>\n",
       "      <th>50%</th>\n",
       "      <td>NaN</td>\n",
       "      <td>0.609000</td>\n",
       "    </tr>\n",
       "    <tr>\n",
       "      <th>75%</th>\n",
       "      <td>NaN</td>\n",
       "      <td>0.941000</td>\n",
       "    </tr>\n",
       "    <tr>\n",
       "      <th>max</th>\n",
       "      <td>NaN</td>\n",
       "      <td>3.832000</td>\n",
       "    </tr>\n",
       "  </tbody>\n",
       "</table>\n",
       "</div>"
      ],
      "text/plain": [
       "             date_time   energy_kwh\n",
       "count             8760  8760.000000\n",
       "unique            8760          NaN\n",
       "top     27/10/13 14:00          NaN\n",
       "freq                 1          NaN\n",
       "mean               NaN     0.653600\n",
       "std                NaN     0.453193\n",
       "min                NaN     0.000000\n",
       "25%                NaN     0.285000\n",
       "50%                NaN     0.609000\n",
       "75%                NaN     0.941000\n",
       "max                NaN     3.832000"
      ]
     },
     "execution_count": 2,
     "metadata": {},
     "output_type": "execute_result"
    }
   ],
   "source": [
    "nrg = pd.read_csv('energy_consumption.csv'); nrg.describe(include='all')"
   ]
  },
  {
   "cell_type": "markdown",
   "metadata": {},
   "source": [
    "The rows contains the electricity used in each hour for a one year period.  \n",
    "Each row indicates the usage for the hour starting at the specified time, so `1/1/13 0:00` indicates the usage for the first hour of January 1st."
   ]
  },
  {
   "cell_type": "markdown",
   "metadata": {},
   "source": [
    "### [Working with datetime data](https://realpython.com/fast-flexible-pandas/#saving-time-with-datetime-data)"
   ]
  },
  {
   "cell_type": "markdown",
   "metadata": {},
   "source": [
    "Let's take a closer look at our data:"
   ]
  },
  {
   "cell_type": "code",
   "execution_count": 3,
   "metadata": {},
   "outputs": [
    {
     "data": {
      "text/html": [
       "<div>\n",
       "<style scoped>\n",
       "    .dataframe tbody tr th:only-of-type {\n",
       "        vertical-align: middle;\n",
       "    }\n",
       "\n",
       "    .dataframe tbody tr th {\n",
       "        vertical-align: top;\n",
       "    }\n",
       "\n",
       "    .dataframe thead th {\n",
       "        text-align: right;\n",
       "    }\n",
       "</style>\n",
       "<table border=\"1\" class=\"dataframe\">\n",
       "  <thead>\n",
       "    <tr style=\"text-align: right;\">\n",
       "      <th></th>\n",
       "      <th>date_time</th>\n",
       "      <th>energy_kwh</th>\n",
       "    </tr>\n",
       "  </thead>\n",
       "  <tbody>\n",
       "    <tr>\n",
       "      <th>0</th>\n",
       "      <td>1/1/13 0:00</td>\n",
       "      <td>0.586</td>\n",
       "    </tr>\n",
       "    <tr>\n",
       "      <th>1</th>\n",
       "      <td>1/1/13 1:00</td>\n",
       "      <td>0.580</td>\n",
       "    </tr>\n",
       "    <tr>\n",
       "      <th>2</th>\n",
       "      <td>1/1/13 2:00</td>\n",
       "      <td>0.572</td>\n",
       "    </tr>\n",
       "    <tr>\n",
       "      <th>3</th>\n",
       "      <td>1/1/13 3:00</td>\n",
       "      <td>0.596</td>\n",
       "    </tr>\n",
       "    <tr>\n",
       "      <th>4</th>\n",
       "      <td>1/1/13 4:00</td>\n",
       "      <td>0.592</td>\n",
       "    </tr>\n",
       "  </tbody>\n",
       "</table>\n",
       "</div>"
      ],
      "text/plain": [
       "     date_time  energy_kwh\n",
       "0  1/1/13 0:00       0.586\n",
       "1  1/1/13 1:00       0.580\n",
       "2  1/1/13 2:00       0.572\n",
       "3  1/1/13 3:00       0.596\n",
       "4  1/1/13 4:00       0.592"
      ]
     },
     "execution_count": 3,
     "metadata": {},
     "output_type": "execute_result"
    }
   ],
   "source": [
    "nrg.head()"
   ]
  },
  {
   "cell_type": "markdown",
   "metadata": {},
   "source": [
    "Both pandas and Numpy use the concept of `dtypes` as data types, and if no arguments are specified, `date_time` will take on an `object` dtype."
   ]
  },
  {
   "cell_type": "code",
   "execution_count": 4,
   "metadata": {},
   "outputs": [
    {
     "data": {
      "text/plain": [
       "date_time      object\n",
       "energy_kwh    float64\n",
       "dtype: object"
      ]
     },
     "execution_count": 4,
     "metadata": {},
     "output_type": "execute_result"
    }
   ],
   "source": [
    "nrg.dtypes"
   ]
  },
  {
   "cell_type": "code",
   "execution_count": 5,
   "metadata": {},
   "outputs": [
    {
     "data": {
      "text/plain": [
       "str"
      ]
     },
     "execution_count": 5,
     "metadata": {},
     "output_type": "execute_result"
    }
   ],
   "source": [
    "# https://docs.python.org/3/library/functions.html#type\n",
    "# https://pandas.pydata.org/pandas-docs/stable/generated/pandas.DataFrame.iat.html\n",
    "type(nrg.iat[0,0])"
   ]
  },
  {
   "cell_type": "markdown",
   "metadata": {},
   "source": [
    "This will be an issue with any column that can't neatly fit into a single data type.  \n",
    "Working with dates as strings is also an inefficient use of memory and programmer time (not to mention patience).  \n",
    "This exercise will work with time series data, and the `date_time` column will be formatted as an array of `datetime` objects called a [pandas.Timestamp](http://pandas.pydata.org/pandas-docs/stable/generated/pandas.Timestamp.html)."
   ]
  },
  {
   "cell_type": "code",
   "execution_count": 6,
   "metadata": {},
   "outputs": [
    {
     "data": {
      "text/plain": [
       "dtype('<M8[ns]')"
      ]
     },
     "execution_count": 6,
     "metadata": {},
     "output_type": "execute_result"
    }
   ],
   "source": [
    "nrg['date_time'] = pd.to_datetime(nrg['date_time'])\n",
    "# https://stackoverflow.com/questions/29206612/difference-between-data-type-datetime64ns-and-m8ns\n",
    "nrg['date_time'].dtype"
   ]
  },
  {
   "cell_type": "markdown",
   "metadata": {},
   "source": [
    "If you're curious about alternatives to the code above, check out [pandas.PeriodIndex](https://pandas.pydata.org/pandas-docs/stable/generated/pandas.PeriodIndex.html), which can store ordinal values indicating regular time periods.  \n",
    "We now have a [pandas.DataFrame](https://pandas.pydata.org/pandas-docs/stable/generated/pandas.DataFrame.html) called `nrg` that contains the data from our `.csv` file.  \n",
    "Notice how the time is displayed differently in the `date_time` column."
   ]
  },
  {
   "cell_type": "code",
   "execution_count": 7,
   "metadata": {},
   "outputs": [
    {
     "data": {
      "text/html": [
       "<div>\n",
       "<style scoped>\n",
       "    .dataframe tbody tr th:only-of-type {\n",
       "        vertical-align: middle;\n",
       "    }\n",
       "\n",
       "    .dataframe tbody tr th {\n",
       "        vertical-align: top;\n",
       "    }\n",
       "\n",
       "    .dataframe thead th {\n",
       "        text-align: right;\n",
       "    }\n",
       "</style>\n",
       "<table border=\"1\" class=\"dataframe\">\n",
       "  <thead>\n",
       "    <tr style=\"text-align: right;\">\n",
       "      <th></th>\n",
       "      <th>date_time</th>\n",
       "      <th>energy_kwh</th>\n",
       "    </tr>\n",
       "  </thead>\n",
       "  <tbody>\n",
       "    <tr>\n",
       "      <th>0</th>\n",
       "      <td>2013-01-01 00:00:00</td>\n",
       "      <td>0.586</td>\n",
       "    </tr>\n",
       "    <tr>\n",
       "      <th>1</th>\n",
       "      <td>2013-01-01 01:00:00</td>\n",
       "      <td>0.580</td>\n",
       "    </tr>\n",
       "    <tr>\n",
       "      <th>2</th>\n",
       "      <td>2013-01-01 02:00:00</td>\n",
       "      <td>0.572</td>\n",
       "    </tr>\n",
       "    <tr>\n",
       "      <th>3</th>\n",
       "      <td>2013-01-01 03:00:00</td>\n",
       "      <td>0.596</td>\n",
       "    </tr>\n",
       "    <tr>\n",
       "      <th>4</th>\n",
       "      <td>2013-01-01 04:00:00</td>\n",
       "      <td>0.592</td>\n",
       "    </tr>\n",
       "  </tbody>\n",
       "</table>\n",
       "</div>"
      ],
      "text/plain": [
       "            date_time  energy_kwh\n",
       "0 2013-01-01 00:00:00       0.586\n",
       "1 2013-01-01 01:00:00       0.580\n",
       "2 2013-01-01 02:00:00       0.572\n",
       "3 2013-01-01 03:00:00       0.596\n",
       "4 2013-01-01 04:00:00       0.592"
      ]
     },
     "execution_count": 7,
     "metadata": {},
     "output_type": "execute_result"
    }
   ],
   "source": [
    "nrg.head()"
   ]
  },
  {
   "cell_type": "markdown",
   "metadata": {},
   "source": [
    "### Time for a timing decorator"
   ]
  },
  {
   "cell_type": "markdown",
   "metadata": {},
   "source": [
    "The code above is pretty straightforward, but how fast does it run?  \n",
    "Let's find out by using a [timing decorator](https://github.com/realpython/materials/blob/master/pandas-fast-flexible-intuitive/tutorial/timer.py) called `@timeit` (an homage to [Python's timeit](https://docs.python.org/3/library/timeit.html)).  \n",
    "This decorator behaves like `timeit.repeat()`, but it also allows you to return the result of the function itself as well as get the average runtime from multiple trials.  \n",
    "When you create a function and place the `@timeit` decorator above it, the function will be timed every time it is called.  \n",
    "Keep in mind that the decorator runs an outer and an inner loop."
   ]
  },
  {
   "cell_type": "code",
   "execution_count": 21,
   "metadata": {},
   "outputs": [
    {
     "name": "stdout",
     "output_type": "stream",
     "text": [
      "Best of 3 trials with 10 function calls per trial:\n",
      "Function `convert_with_format` ran in average of 0.000 seconds.\n",
      "\n"
     ]
    }
   ],
   "source": [
    "import timer\n",
    "\n",
    "@timeit(repeat=3, number=10)\n",
    "def convert_with_format(nrg, column_name):\n",
    "    return pd.to_datetime(nrg[column_name], format='%d/%m/%y %H:%M')\n",
    "\n",
    "nrg['date_time'] = convert_with_format(nrg, 'date_time')"
   ]
  },
  {
   "cell_type": "markdown",
   "metadata": {},
   "source": [
    "One easily overlooked detail is that the datetimes in the `energy_consumption.csv` file are not in [ISO 8601 format](https://en.wikipedia.org/wiki/ISO_8601).  \n",
    "You need `YYYY-MM-DD HH:MM`.  \n",
    "If you don’t specify a format, Pandas will use the [dateutil package](https://dateutil.readthedocs.io/en/stable/) to convert each string to a date.  \n",
    "Conversely, if the raw datetime data is already in ISO 8601 format, pandas can immediately [take a fast route](https://github.com/pandas-dev/pandas/blob/08158c076d89177a962d00e4851649f1ef76d12f/pandas/_libs/tslib.pyx#L2129) to parsing the dates.  \n",
    "This is one reason why being explicit about the format is so beneficial here.  \n",
    "Another option is to pass the `infer_datetime_format=True` parameter, but it generally pays to be explicit.  \n",
    "Also, remember that pandas' `read_csv()` method allows you to parse dates as part of the file I/O using the `parse_dates`, `infer_datetime_format`, and `date_parser` parameters."
   ]
  },
  {
   "cell_type": "markdown",
   "metadata": {},
   "source": [
    "## [Simple Looping Over Pandas Data](https://realpython.com/fast-flexible-pandas/#simple-looping-over-pandas-data)"
   ]
  },
  {
   "cell_type": "markdown",
   "metadata": {},
   "source": [
    "Now that dates and times are in a tidy format, we can begin calculating electricity costs.  \n",
    "Cost varies by hour, so a cost factor is conditionally applied for each hour of the day: \n",
    "\n",
    "| Tariff Type | Cents per kWh | Time Range     |\n",
    "|-------------|---------------|----------------|\n",
    "| Peak        | 28            | 17:00 to 24:00 |\n",
    "| Shoulder    | 20            | 7:00 to 17:00  |\n",
    "| Off-Peak    | 12            | 0:00 to 7:00   |"
   ]
  },
  {
   "cell_type": "markdown",
   "metadata": {},
   "source": [
    "If costs were a flat rate of 28 cents per kilowatt hour every hour, we could just do this:"
   ]
  },
  {
   "cell_type": "code",
   "execution_count": 24,
   "metadata": {},
   "outputs": [
    {
     "data": {
      "text/html": [
       "<div>\n",
       "<style scoped>\n",
       "    .dataframe tbody tr th:only-of-type {\n",
       "        vertical-align: middle;\n",
       "    }\n",
       "\n",
       "    .dataframe tbody tr th {\n",
       "        vertical-align: top;\n",
       "    }\n",
       "\n",
       "    .dataframe thead th {\n",
       "        text-align: right;\n",
       "    }\n",
       "</style>\n",
       "<table border=\"1\" class=\"dataframe\">\n",
       "  <thead>\n",
       "    <tr style=\"text-align: right;\">\n",
       "      <th></th>\n",
       "      <th>date_time</th>\n",
       "      <th>energy_kwh</th>\n",
       "      <th>cost_cents</th>\n",
       "    </tr>\n",
       "  </thead>\n",
       "  <tbody>\n",
       "    <tr>\n",
       "      <th>0</th>\n",
       "      <td>2013-01-01 00:00:00</td>\n",
       "      <td>0.586</td>\n",
       "      <td>16.408</td>\n",
       "    </tr>\n",
       "    <tr>\n",
       "      <th>1</th>\n",
       "      <td>2013-01-01 01:00:00</td>\n",
       "      <td>0.580</td>\n",
       "      <td>16.240</td>\n",
       "    </tr>\n",
       "    <tr>\n",
       "      <th>2</th>\n",
       "      <td>2013-01-01 02:00:00</td>\n",
       "      <td>0.572</td>\n",
       "      <td>16.016</td>\n",
       "    </tr>\n",
       "    <tr>\n",
       "      <th>3</th>\n",
       "      <td>2013-01-01 03:00:00</td>\n",
       "      <td>0.596</td>\n",
       "      <td>16.688</td>\n",
       "    </tr>\n",
       "    <tr>\n",
       "      <th>4</th>\n",
       "      <td>2013-01-01 04:00:00</td>\n",
       "      <td>0.592</td>\n",
       "      <td>16.576</td>\n",
       "    </tr>\n",
       "  </tbody>\n",
       "</table>\n",
       "</div>"
      ],
      "text/plain": [
       "            date_time  energy_kwh  cost_cents\n",
       "0 2013-01-01 00:00:00       0.586      16.408\n",
       "1 2013-01-01 01:00:00       0.580      16.240\n",
       "2 2013-01-01 02:00:00       0.572      16.016\n",
       "3 2013-01-01 03:00:00       0.596      16.688\n",
       "4 2013-01-01 04:00:00       0.592      16.576"
      ]
     },
     "execution_count": 24,
     "metadata": {},
     "output_type": "execute_result"
    }
   ],
   "source": [
    "nrg['cost_cents'] = nrg['energy_kwh'] * 28; nrg.head()"
   ]
  },
  {
   "cell_type": "markdown",
   "metadata": {},
   "source": [
    "However, our hourly costs depend on the time of day.  \n",
    "If you use a loop to do the conditional calculation, you are not using pandas the way it was intended.  \n",
    "For the rest of this tutorial, you'll start with a sub-optimal solution and work your way up to a Pythonic approach that leverages the full power of pandas.  \n",
    "Take a look at a [loop approach](https://dbader.org/blog/pythonic-loops) and see how it performs using our timing decorator."
   ]
  },
  {
   "cell_type": "code",
   "execution_count": 25,
   "metadata": {},
   "outputs": [],
   "source": [
    "# Create a function to apply the appropriate rate to the given hour:\n",
    "def apply_rate(kwh, hour):\n",
    "    \"\"\"\n",
    "    Calculates the cost of electricity for a given hour.\n",
    "    \"\"\"\n",
    "    if 0 <= hour < 7:\n",
    "        rate = 12\n",
    "    elif 7 <= hour <= 17:\n",
    "        rate = 20\n",
    "    elif 17 <= hour <= 24:\n",
    "        rate = 28\n",
    "    else:\n",
    "        # +1 for error handling:\n",
    "        raise ValueError(f'Invalid datetime entry: {hour}')\n",
    "    return rate * kwh"
   ]
  },
  {
   "cell_type": "code",
   "execution_count": null,
   "metadata": {},
   "outputs": [],
   "source": []
  }
 ],
 "metadata": {
  "kernelspec": {
   "display_name": "Python 3",
   "language": "python",
   "name": "python3"
  },
  "language_info": {
   "codemirror_mode": {
    "name": "ipython",
    "version": 3
   },
   "file_extension": ".py",
   "mimetype": "text/x-python",
   "name": "python",
   "nbconvert_exporter": "python",
   "pygments_lexer": "ipython3",
   "version": "3.6.1"
  }
 },
 "nbformat": 4,
 "nbformat_minor": 2
}
