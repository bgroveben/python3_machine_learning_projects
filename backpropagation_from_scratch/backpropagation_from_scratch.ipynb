{
 "cells": [
  {
   "cell_type": "markdown",
   "metadata": {},
   "source": [
    "# [How to Implement the Backpropagation Algorithm From Scratch In Python](https://machinelearningmastery.com/implement-backpropagation-algorithm-scratch-python/)"
   ]
  },
  {
   "cell_type": "markdown",
   "metadata": {},
   "source": [
    "## [Courtesy of Jason Brownlee at [Machine Learning Mastery](https://machinelearningmastery.com/). Thanks Jason!"
   ]
  },
  {
   "cell_type": "markdown",
   "metadata": {},
   "source": [
    "## Description"
   ]
  },
  {
   "cell_type": "markdown",
   "metadata": {},
   "source": [
    "This section provides a brief introduction to the Backpropagation algorithm and the Wheat Seeds dataset that we will be using in this tutorial."
   ]
  },
  {
   "cell_type": "markdown",
   "metadata": {},
   "source": [
    "### Backpropagation Algorithm"
   ]
  },
  {
   "cell_type": "markdown",
   "metadata": {},
   "source": [
    "The Backpropagation algorithm is a supervised learning method for multilayer feed-forward networks from the field of Artificial Neural Networks.  \n",
    "Feed-forward neural networks are inspired by the information processing of one or more neural cells, called a neuron.  \n",
    "A neuron accepts input signals via its dendrites, which pass the electrical signal down to the cell body.  \n",
    "The axon carries the signal out to synapses, which are the connections of a cell’s axon to other cell’s dendrites.  \n",
    "The principle of the backpropagation approach is to model a given function by modifying internal weightings of input signals to produce an expected output signal.  \n",
    "The system is trained using a supervised learning method, where the error between the system’s output and a known expected output is presented to the system and used to modify its internal state."
   ]
  },
  {
   "cell_type": "markdown",
   "metadata": {},
   "source": [
    "Technically, the backpropagation algorithm is a method for training the weights in a multilayer feed-forward neural network.  \n",
    "As such, it requires a network structure to be defined of one or more layers where one layer is fully connected to the next layer.  \n",
    "A standard network structure is one input layer, one hidden layer, and one output layer.  \n",
    "Backpropagation can be used for both classification and regression problems, but we will focus on classification in this tutorial.  \n",
    "In classification problems, best results are achieved when the network has one neuron in the output layer for each class value.  \n",
    "For example, a 2-class or binary classification problem with the class values of A and B.  \n",
    "These expected outputs would have to be transformed into binary vectors with one column for each class value.  \n",
    "Such as [1, 0] and [0, 1] for A and B respectively.  \n",
    "This is called a one hot encoding."
   ]
  },
  {
   "cell_type": "markdown",
   "metadata": {},
   "source": [
    "### Wheat Seeds Dataset"
   ]
  },
  {
   "cell_type": "markdown",
   "metadata": {},
   "source": [
    "The seeds dataset involves the prediction of species given measurements seeds from different varieties of wheat.  \n",
    "There are 201 records and 7 numerical input variables.  \n",
    "It is a classification problem with 3 output classes.  \n",
    "The scale for each numeric input value vary, so some data normalization may be required for use with algorithms that weight inputs like the backpropagation algorithm.  \n",
    "Using the Zero Rule algorithm that predicts the most common class value, the baseline accuracy for the problem is 28.095%.  \n",
    "You can learn more and download the seeds dataset from the [**UCI Machine Learning Repository**](https://archive.ics.uci.edu/ml/datasets/seeds).  \n",
    "Download the seeds dataset and place it into your current working directory with the filename seeds_dataset.csv.  \n",
    "The dataset is in tab-separated format, so you must convert it to CSV using a text editor or a spreadsheet program."
   ]
  },
  {
   "cell_type": "code",
   "execution_count": 20,
   "metadata": {
    "collapsed": true
   },
   "outputs": [],
   "source": [
    "import pandas as pd\n",
    "\n",
    "seeds_dataset = pd.read_csv('seeds_dataset.csv', header=None)"
   ]
  },
  {
   "cell_type": "markdown",
   "metadata": {},
   "source": [
    "Below is a sample of the first 5 rows of the seeds dataset."
   ]
  },
  {
   "cell_type": "code",
   "execution_count": 21,
   "metadata": {},
   "outputs": [
    {
     "data": {
      "text/html": [
       "<div>\n",
       "<style>\n",
       "    .dataframe thead tr:only-child th {\n",
       "        text-align: right;\n",
       "    }\n",
       "\n",
       "    .dataframe thead th {\n",
       "        text-align: left;\n",
       "    }\n",
       "\n",
       "    .dataframe tbody tr th {\n",
       "        vertical-align: top;\n",
       "    }\n",
       "</style>\n",
       "<table border=\"1\" class=\"dataframe\">\n",
       "  <thead>\n",
       "    <tr style=\"text-align: right;\">\n",
       "      <th></th>\n",
       "      <th>0</th>\n",
       "      <th>1</th>\n",
       "      <th>2</th>\n",
       "      <th>3</th>\n",
       "      <th>4</th>\n",
       "      <th>5</th>\n",
       "      <th>6</th>\n",
       "      <th>7</th>\n",
       "    </tr>\n",
       "  </thead>\n",
       "  <tbody>\n",
       "    <tr>\n",
       "      <th>0</th>\n",
       "      <td>15.26</td>\n",
       "      <td>14.84</td>\n",
       "      <td>0.8710</td>\n",
       "      <td>5.763</td>\n",
       "      <td>3.312</td>\n",
       "      <td>2.221</td>\n",
       "      <td>5.220</td>\n",
       "      <td>1</td>\n",
       "    </tr>\n",
       "    <tr>\n",
       "      <th>1</th>\n",
       "      <td>14.88</td>\n",
       "      <td>14.57</td>\n",
       "      <td>0.8811</td>\n",
       "      <td>5.554</td>\n",
       "      <td>3.333</td>\n",
       "      <td>1.018</td>\n",
       "      <td>4.956</td>\n",
       "      <td>1</td>\n",
       "    </tr>\n",
       "    <tr>\n",
       "      <th>2</th>\n",
       "      <td>14.29</td>\n",
       "      <td>14.09</td>\n",
       "      <td>0.9050</td>\n",
       "      <td>5.291</td>\n",
       "      <td>3.337</td>\n",
       "      <td>2.699</td>\n",
       "      <td>4.825</td>\n",
       "      <td>1</td>\n",
       "    </tr>\n",
       "    <tr>\n",
       "      <th>3</th>\n",
       "      <td>13.84</td>\n",
       "      <td>13.94</td>\n",
       "      <td>0.8955</td>\n",
       "      <td>5.324</td>\n",
       "      <td>3.379</td>\n",
       "      <td>2.259</td>\n",
       "      <td>4.805</td>\n",
       "      <td>1</td>\n",
       "    </tr>\n",
       "    <tr>\n",
       "      <th>4</th>\n",
       "      <td>16.14</td>\n",
       "      <td>14.99</td>\n",
       "      <td>0.9034</td>\n",
       "      <td>5.658</td>\n",
       "      <td>3.562</td>\n",
       "      <td>1.355</td>\n",
       "      <td>5.175</td>\n",
       "      <td>1</td>\n",
       "    </tr>\n",
       "  </tbody>\n",
       "</table>\n",
       "</div>"
      ],
      "text/plain": [
       "       0      1       2      3      4      5      6  7\n",
       "0  15.26  14.84  0.8710  5.763  3.312  2.221  5.220  1\n",
       "1  14.88  14.57  0.8811  5.554  3.333  1.018  4.956  1\n",
       "2  14.29  14.09  0.9050  5.291  3.337  2.699  4.825  1\n",
       "3  13.84  13.94  0.8955  5.324  3.379  2.259  4.805  1\n",
       "4  16.14  14.99  0.9034  5.658  3.562  1.355  5.175  1"
      ]
     },
     "execution_count": 21,
     "metadata": {},
     "output_type": "execute_result"
    }
   ],
   "source": [
    "seeds_dataset[:5]"
   ]
  },
  {
   "cell_type": "markdown",
   "metadata": {},
   "source": [
    "## Tutorial"
   ]
  },
  {
   "cell_type": "markdown",
   "metadata": {},
   "source": [
    "This tutorial is broken down into 6 parts:\n",
    "\n",
    "1. Initialize Network.\n",
    "2. Forward Propagate.\n",
    "3. Back Propagate Error.\n",
    "4. Train Network.\n",
    "5. Predict.\n",
    "6. Seeds Dataset Case Study.  \n",
    "\n",
    "These steps will provide the foundation that you need to implement the backpropagation algorithm from scratch and apply it to your own predictive modeling problems."
   ]
  },
  {
   "cell_type": "markdown",
   "metadata": {},
   "source": [
    "### 1. Initialize Network"
   ]
  },
  {
   "cell_type": "markdown",
   "metadata": {},
   "source": [
    "Let’s start with something easy, the creation of a new network ready for training.  \n",
    "Each neuron has a set of weights that need to be maintained.  \n",
    "One weight for each input connection and an additional weight for the bias.  \n",
    "We will need to store additional properties for a neuron during training, therefore we will use a dictionary to represent each neuron and store properties by names such as **`weights`** for the weights.  \n",
    "A network is organized into layers.  \n",
    "The input layer is really just a row from our training dataset.  \n",
    "The first real layer is the hidden layer.  \n",
    "This is followed by the output layer that has one neuron for each class value."
   ]
  },
  {
   "cell_type": "markdown",
   "metadata": {},
   "source": [
    "We will organize layers as arrays of dictionaries and treat the whole network as an array of layers.  \n",
    "It is good practice to initialize the network weights to small random numbers.  \n",
    "In this case, will we use random numbers in the range of 0 to 1.  \n",
    "Below is a function named **`initialize_network()`** that creates a new neural network ready for training.  \n",
    "It accepts three parameters: the number of inputs, the number of neurons to have in the hidden layer, and the number of outputs.  \n",
    "You can see that for the hidden layer we create **`n_hidden`** neurons and each neuron in the hidden layer has **`n_inputs + 1`** weights, one for each input column in a dataset and an additional one for the bias.  \n",
    "You can also see that the output layer that connects to the hidden layer has **`n_outputs`** neurons, each with **`n_hidden + 1`** weights.  \n",
    "This means that each neuron in the output layer connects to (has a weight for) each neuron in the hidden layer."
   ]
  },
  {
   "cell_type": "code",
   "execution_count": 22,
   "metadata": {
    "collapsed": true
   },
   "outputs": [],
   "source": [
    "# Initialize a network:\n",
    "def initialize_network(n_inputs, n_hidden, n_outputs):\n",
    "    network = list()\n",
    "    hidden_layer = [{'weights':[random() for i in range(n_inputs + 1)]} for i in range(n_hidden)]\n",
    "    network.append(hidden_layer)\n",
    "    output_layer = [{'weights':[random() for i in range(n_hidden + 1)]} for i in range(n_outputs)]\n",
    "    network.append(output_layer)\n",
    "    return network"
   ]
  },
  {
   "cell_type": "markdown",
   "metadata": {},
   "source": [
    "Let's test out this function.  \n",
    "Below is a complete example that creates a small network:"
   ]
  },
  {
   "cell_type": "code",
   "execution_count": 23,
   "metadata": {},
   "outputs": [
    {
     "name": "stdout",
     "output_type": "stream",
     "text": [
      "[{'weights': [0.13436424411240122, 0.8474337369372327, 0.763774618976614]}]\n",
      "[{'weights': [0.2550690257394217, 0.49543508709194095]}, {'weights': [0.4494910647887381, 0.651592972722763]}]\n"
     ]
    }
   ],
   "source": [
    "from random import seed\n",
    "from random import random\n",
    "\n",
    "def initialize_network(n_inputs, n_hidden, n_outputs):\n",
    "    network = list()\n",
    "    hidden_layer = [{'weights':[random() for i in range(n_inputs + 1)]} for i in range(n_hidden)]\n",
    "    network.append(hidden_layer)\n",
    "    output_layer = [{'weights':[random() for i in range(n_hidden + 1)]} for i in range(n_outputs)]\n",
    "    network.append(output_layer)\n",
    "    return network\n",
    "\n",
    "seed(1)\n",
    "network = initialize_network(2, 1, 2)\n",
    "for layer in network:\n",
    "    print(layer)"
   ]
  },
  {
   "cell_type": "markdown",
   "metadata": {},
   "source": [
    "Running the example, you can see that the code prints out each layer one by one.  \n",
    "You can see that the hidden layer has one neuron with 2 input weights plus the bias.  \n",
    "The output layer has two neurons, each with one weight plus the bias.  \n",
    "Now that we know how to create and initialize a network, let's see how we can use it to calculate an output."
   ]
  },
  {
   "cell_type": "markdown",
   "metadata": {},
   "source": [
    "### 2. Forward Propagate"
   ]
  },
  {
   "cell_type": "markdown",
   "metadata": {
    "collapsed": true
   },
   "source": [
    "We can calculate an output from a neural network by propagating an input signal through each layer until the output layer outputs its values.  \n",
    "We call this forward-propagation.  \n",
    "It is the technique we will need to generate predictions during training that will need to be corrected, and it is the method we will need after the network is trained to make predictions on new data.  \n",
    "We can break forward propagation down into three parts:  \n",
    "1. Neuron Activation.\n",
    "2. Neuron Transfer.\n",
    "3. Forward Propagation."
   ]
  },
  {
   "cell_type": "markdown",
   "metadata": {},
   "source": [
    "#### 2.1 Neuron Activation"
   ]
  },
  {
   "cell_type": "markdown",
   "metadata": {},
   "source": [
    "The first step is to calculate the activation of one neuron given an input.  \n",
    "The input could be a row from our training dataset, as in the case of the hidden layer.  \n",
    "It may also be the outputs from each neuron in the hidden layer, in the case of the output layer.\n",
    "Neuron activation is calculated as the weighted sum of the inputs.  \n",
    "Much like linear regression."
   ]
  },
  {
   "cell_type": "raw",
   "metadata": {},
   "source": [
    "activation = sum(weight_i * input_i) + bias"
   ]
  },
  {
   "cell_type": "markdown",
   "metadata": {},
   "source": [
    "Where **weight** is a network weight, **input** is an input, i is the index of a weight or an input and **bias** is a special weight that has no input to multiply with (or you can think of the input as always being 1.0).\n",
    "Below is an implementation of this in a function named activate().  \n",
    "You can see that the function assumes that the bias is the last weight in the list of weights.  \n",
    "This helps here and later to make the code easier to read."
   ]
  },
  {
   "cell_type": "code",
   "execution_count": 24,
   "metadata": {
    "collapsed": true
   },
   "outputs": [],
   "source": [
    "# Calculate neuron activation for an input\n",
    "def activate(weights, inputs):\n",
    "    activation = weights[-1]\n",
    "    for i in range(len(weights)-1):\n",
    "        activation += weights[i] * inputs[i]\n",
    "    return activation"
   ]
  },
  {
   "cell_type": "markdown",
   "metadata": {
    "collapsed": true
   },
   "source": [
    "Now, let's see how to use the neuron activation."
   ]
  },
  {
   "cell_type": "markdown",
   "metadata": {},
   "source": [
    "#### 2.2 Neuron Transfer"
   ]
  },
  {
   "cell_type": "markdown",
   "metadata": {},
   "source": [
    "Once a neuron is activated, we need to transfer the activation to see what the neuron output actually is.  \n",
    "Different transfer functions can be used.  \n",
    "It is traditional to use the [**sigmoid activation function**](https://en.wikipedia.org/wiki/Sigmoid_function), but you can also use the [**tanh (hyperbolic tangent)**](https://en.wikipedia.org/wiki/Hyperbolic_function#Hyperbolic_tangent) function to transfer outputs.  \n",
    "More recently, the [**rectifier transfer function**](https://en.wikipedia.org/wiki/Rectifier_%28neural_networks%29) has been popular with large deep learning networks.  \n",
    "The sigmoid activation function looks like an S shape, it’s also called the logistic function.  \n",
    "It can take any input value and produce a number between 0 and 1 on an S-curve.  \n",
    "It is also a function of which we can easily calculate the derivative (slope) that we will need later when backpropagating error.  \n",
    "We can transfer an [**activation function**](https://cs231n.github.io/neural-networks-1/#actfun) using the sigmoid function as follows:"
   ]
  },
  {
   "cell_type": "markdown",
   "metadata": {},
   "source": [
    "output = 1 / (1 + e^(-activation))  \n",
    "or:  \n",
    "$\\sigma(x) = 1 / (1 + e^{-x})$"
   ]
  },
  {
   "cell_type": "markdown",
   "metadata": {},
   "source": [
    "Where **e** [(**Euler's Number**)](https://en.wikipedia.org/wiki/E_%28mathematical_constant%29) is the base of the [**natural logarithm**](https://en.wikipedia.org/wiki/Natural_logarithm)."
   ]
  },
  {
   "cell_type": "markdown",
   "metadata": {},
   "source": [
    "Below is a function named **`transfer()`** that implements the sigmoid equation."
   ]
  },
  {
   "cell_type": "code",
   "execution_count": 25,
   "metadata": {
    "collapsed": true
   },
   "outputs": [],
   "source": [
    "# Transfer neuron activation:\n",
    "def transfer(activation):\n",
    "    return 1.0 / (1.0 + exp(-activation))"
   ]
  },
  {
   "cell_type": "markdown",
   "metadata": {},
   "source": [
    "Now that we have the pieces, let's see how they are put together and used."
   ]
  },
  {
   "cell_type": "markdown",
   "metadata": {},
   "source": [
    "#### 2.3 Forward Propagation"
   ]
  },
  {
   "cell_type": "markdown",
   "metadata": {},
   "source": [
    "Forward propagating an input is straightforward.  \n",
    "We work through each layer of our network calculating the outputs for each neuron.  \n",
    "All of the outputs from one layer become inputs to the neurons on the next layer.  \n",
    "Below is a function named **`forward_propagate()`** that implements the forward propagation for a row of data from our dataset with our neural network.  \n",
    "You can see that a neuron’s output value is stored in the neuron with the name **`output`**.  \n",
    "You can also see that we collect the outputs for a layer in an array named **`new_inputs`** that becomes the array **`inputs`** and is used as inputs for the following layer.  \n",
    "The function returns the outputs from the last layer also called the output layer."
   ]
  },
  {
   "cell_type": "code",
   "execution_count": 26,
   "metadata": {
    "collapsed": true
   },
   "outputs": [],
   "source": [
    "# Forward propagate input to a network output:\n",
    "def forward_propagate(network, row):\n",
    "    inputs = row\n",
    "    for layer in network:\n",
    "        new_inputs = []\n",
    "        for neuron in layer:\n",
    "            activation = activate(neuron['weights'], inputs)\n",
    "            neuron['output'] = transfer(activation)\n",
    "            new_inputs.append(neuron['output'])\n",
    "        inputs = new_inputs\n",
    "    return inputs"
   ]
  },
  {
   "cell_type": "markdown",
   "metadata": {},
   "source": [
    "Let’s put all of these pieces together and test out the forward propagation of our network.  \n",
    "We define our network inline with one hidden neuron that expects 2 input values and an output layer with two neurons."
   ]
  },
  {
   "cell_type": "code",
   "execution_count": 27,
   "metadata": {
    "collapsed": true
   },
   "outputs": [],
   "source": [
    "from math import exp\n",
    "\n",
    "# Calculate neuron activation for an input:\n",
    "def activate(weights, inputs):\n",
    "    activation = weights[-1]\n",
    "    for i in range(len(weights)-1):\n",
    "        activation += weights[i] * inputs[i]\n",
    "    return activation\n",
    "\n",
    "# Transfer neuron activation:\n",
    "def transfer(activation):\n",
    "    return 1.0 / (1.0 + exp(-activation))\n",
    "\n",
    "# Forward propagate input to a network output:\n",
    "def forward_propagate(network, row):\n",
    "    inputs = row\n",
    "    for layer in network:\n",
    "        new_inputs = []\n",
    "        for neuron in layer:\n",
    "            activation = activate(neuron['weights'], inputs)\n",
    "            neuron['output'] = transfer(activation)\n",
    "            new_inputs.append(neuron['output'])\n",
    "        inputs = new_inputs\n",
    "    return inputs"
   ]
  },
  {
   "cell_type": "markdown",
   "metadata": {},
   "source": [
    "Time for some testing:"
   ]
  },
  {
   "cell_type": "code",
   "execution_count": 28,
   "metadata": {},
   "outputs": [
    {
     "data": {
      "text/plain": [
       "[0.6629970129852887, 0.7253160725279748]"
      ]
     },
     "execution_count": 28,
     "metadata": {},
     "output_type": "execute_result"
    }
   ],
   "source": [
    "# Test forward propagation:\n",
    "network = [[{'weights': [0.13436424411240122, 0.8474337369372327, 0.763774618976614]}],\n",
    "           [{'weights': [0.2550690257394217, 0.49543508709194095]},\n",
    "            {'weights': [0.4494910647887381, 0.651592972722763]}]]\n",
    "row = [1, 0, None]\n",
    "output = forward_propagate(network, row)\n",
    "output"
   ]
  },
  {
   "cell_type": "markdown",
   "metadata": {},
   "source": [
    "Running the example propagates the input pattern [1, 0] and produces an output value that is printed.  \n",
    "Because the output layer has two neurons, we get a list of two numbers as output.  \n",
    "The actual output values are just nonsense for now, but next, we will start to learn how to make the weights in the neurons more useful."
   ]
  },
  {
   "cell_type": "markdown",
   "metadata": {},
   "source": [
    "### 3. Back Propagate Error"
   ]
  },
  {
   "cell_type": "markdown",
   "metadata": {},
   "source": [
    "The backpropagation algorithm is named for the way in which the weights are trained (backwards propagation of errors).  \n",
    "Error is calculated between the expected outputs and the outputs forward propagated from the network.  \n",
    "These errors are then propagated backward through the network from the output layer to the hidden layer, assigning blame for the error and updating weights as they go.  \n",
    "The [**math for backpropagating error**](http://bigtheta.io/2016/02/27/the-math-behind-backpropagation.html) is [**rooted in calculus**](http://home.agh.edu.pl/~vlsi/AI/backp_t_en/backprop.html), but we will remain high level in this section and focus on what is calculated and how rather than why the calculations take this particular form.  \n",
    "This part is broken down into two sections.  \n",
    "1. Transfer Derivative.\n",
    "2. Error Backpropagation."
   ]
  },
  {
   "cell_type": "markdown",
   "metadata": {},
   "source": [
    "#### 3.1 Transfer Derivative"
   ]
  },
  {
   "cell_type": "markdown",
   "metadata": {},
   "source": [
    "Given an output from a neuron, we need to calculate its slope.  \n",
    "We are using the sigmoid transfer function, the derivative of which can be calculated as follows:"
   ]
  },
  {
   "cell_type": "raw",
   "metadata": {},
   "source": [
    "derivative = output * (1.0 - output)"
   ]
  },
  {
   "cell_type": "markdown",
   "metadata": {},
   "source": [
    "Below is a function named **`transfer_derivative()`** that implements this equation:"
   ]
  },
  {
   "cell_type": "code",
   "execution_count": 29,
   "metadata": {
    "collapsed": true
   },
   "outputs": [],
   "source": [
    "# Caculate the derivative of a neuron output:\n",
    "def transfer_derivative(output):\n",
    "    return output * (1.0 - output)"
   ]
  },
  {
   "cell_type": "markdown",
   "metadata": {},
   "source": [
    "Now let's see how this can be used."
   ]
  },
  {
   "cell_type": "markdown",
   "metadata": {},
   "source": [
    "#### 3.2 Error Backpropagation"
   ]
  },
  {
   "cell_type": "markdown",
   "metadata": {},
   "source": [
    "The first step is to calculate the error for each output neuron.  \n",
    "This will give us our error signal (aka input) to propagate backwards through the network.  \n",
    "The error for a given neuron can be calculated as follows:"
   ]
  },
  {
   "cell_type": "raw",
   "metadata": {},
   "source": [
    "error = (expected - output) * transfer_derivative(output)"
   ]
  },
  {
   "cell_type": "markdown",
   "metadata": {},
   "source": [
    "Where **`expected`** is the expected output value for the neuron, **`output`** is the actual output value for the neuron and **`transfer_derivative()`** calculates the slope of the neuron’s output value, as shown above.  \n",
    "This error calculation is used for neurons in the output layer.  \n",
    "The expected value is the class value itself.  \n",
    "In the hidden layer, things are a little more complicated."
   ]
  },
  {
   "cell_type": "markdown",
   "metadata": {},
   "source": [
    "The error signal for a neuron in the hidden layer is calculated as the weighted error of each neuron in the output layer.  \n",
    "Think of the error traveling back along the weights of the output layer to the neurons in the hidden layer.  \n",
    "The back-propagated error signal is accumulated and then used to determine the error for the neuron in the hidden layer, as follows:"
   ]
  },
  {
   "cell_type": "raw",
   "metadata": {},
   "source": [
    "error = (weight_k * error_j) * transfer_derivative(output)"
   ]
  },
  {
   "cell_type": "markdown",
   "metadata": {},
   "source": [
    "Where **`error_j`** is the error signal from the **`j`**th neuron in the output layer, **`weight_k`** is the weight that connects the **`k`**th neuron to the current neuron and **`output`** is the output for the current neuron."
   ]
  },
  {
   "cell_type": "markdown",
   "metadata": {},
   "source": [
    "Below is a function named **`backward_propagate_error()`** that implements this procedure.  \n",
    "You can see that the error signal calculated for each neuron is stored with the name **`delta`**.  \n",
    "You can see that the layers of the network are iterated in reverse order, starting at the output and working backwards.  \n",
    "This ensures that the neurons in the output layer have 'delta' values calculated first so that neurons in the hidden layer can use the result in the subsequent iteration.  \n",
    "I chose the name 'delta' to reflect the change the error implies on the neuron (e.g. the weight delta).  \n",
    "You can see that the error signal for neurons in the hidden layer is accumulated from neurons in the output layer where the hidden neuron number **`j`** is also the index of the neuron’s weight in the output layer **`neuron[‘weights’][j]`**."
   ]
  },
  {
   "cell_type": "code",
   "execution_count": 30,
   "metadata": {
    "collapsed": true
   },
   "outputs": [],
   "source": [
    "# Backpropagate error and store in neurons:\n",
    "def backward_propagate_error(network, expected):\n",
    "    for i in reversed(range(len(network))):\n",
    "        layer = network[i]\n",
    "        errors = list()\n",
    "        if i != len(network) - 1:\n",
    "            for j in range(len(layer)):\n",
    "                error = 0.0\n",
    "                for neuron in network[i + 1]:\n",
    "                    error += (neuron['weights'][j] * neuron['delta'])\n",
    "                errors.append(error)\n",
    "        else:\n",
    "            for j in range(len(layer)):\n",
    "                neuron = layer[j]\n",
    "                errors.append(expected[j] - neuron['output'])\n",
    "        for j in range(len(layer)):\n",
    "            neuron = layer[j]\n",
    "            neuron['delta'] = errors[j] * transfer_derivative(neuron['output'])"
   ]
  },
  {
   "cell_type": "markdown",
   "metadata": {},
   "source": [
    "Let's put all of the pieces together and see how it works.  \n",
    "We define a fixed neural network with output values and backpropagate an expected output pattern.  \n",
    "The complete example is listed below."
   ]
  },
  {
   "cell_type": "code",
   "execution_count": 31,
   "metadata": {
    "collapsed": true
   },
   "outputs": [],
   "source": [
    "# Calculate the derivative of a neuron output:\n",
    "def transfer_derivative(output):\n",
    "    return output * (1.0 - output)\n",
    "\n",
    "# Backpropagate error and store in neurons:\n",
    "def backward_propagate_error(network, expected):\n",
    "    for i in reversed(range(len(network))):\n",
    "        layer = network[i]\n",
    "        errors = list()\n",
    "        if i != len(network) - 1:\n",
    "            for j in range(len(layer)):\n",
    "                error = 0.0\n",
    "                for neuron in network[i + 1]:\n",
    "                    error += (neuron['weights'][j] * neuron['delta'])\n",
    "                errors.append(error)\n",
    "        else:\n",
    "            for j in range(len(layer)):\n",
    "                neuron = layer[j]\n",
    "                errors.append(expected[j] - neuron['output'])\n",
    "        for j in range(len(layer)):\n",
    "            neuron = layer[j]\n",
    "            neuron['delta'] = errors[j] * transfer_derivative(neuron['output'])"
   ]
  },
  {
   "cell_type": "markdown",
   "metadata": {},
   "source": [
    "Let's run some tests to make sure we get what we want:"
   ]
  },
  {
   "cell_type": "code",
   "execution_count": 32,
   "metadata": {},
   "outputs": [
    {
     "name": "stdout",
     "output_type": "stream",
     "text": [
      "[{'output': 0.7105668883115941, 'weights': [0.13436424411240122, 0.8474337369372327, 0.763774618976614], 'delta': -0.0005348048046610517}]\n",
      "[{'output': 0.6213859615555266, 'weights': [0.2550690257394217, 0.49543508709194095], 'delta': -0.14619064683582808}, {'output': 0.6573693455986976, 'weights': [0.4494910647887381, 0.651592972722763], 'delta': 0.0771723774346327}]\n"
     ]
    }
   ],
   "source": [
    "# Test backpropagation of error:\n",
    "network = [[{'output': 0.7105668883115941, 'weights': [0.13436424411240122, 0.8474337369372327, 0.763774618976614]}],\n",
    "           [{'output': 0.6213859615555266, 'weights': [0.2550690257394217, 0.49543508709194095]},\n",
    "            {'output': 0.6573693455986976, 'weights': [0.4494910647887381, 0.651592972722763]}]]\n",
    "expected = [0, 1]\n",
    "backward_propagate_error(network, expected)\n",
    "for layer in network:\n",
    "    print(layer)"
   ]
  },
  {
   "cell_type": "markdown",
   "metadata": {},
   "source": [
    "Running the example prints the network after the backpropagation of errors is complete.  \n",
    "You can see that error values are calculated and stored in the neurons for the output layer and the hidden layer.  \n",
    "Now let's use the backpropagation of errors to train the network."
   ]
  },
  {
   "cell_type": "markdown",
   "metadata": {},
   "source": [
    "### 4. Train Network"
   ]
  },
  {
   "cell_type": "markdown",
   "metadata": {
    "collapsed": true
   },
   "source": [
    "The network is trained using stochastic gradient descent.  \n",
    "This involves multiple iterations of exposing a training dataset to the network and for each row of data forward propagating the inputs, backpropagating the error and updating the network weights.  \n",
    "This part is broken down into two sections:  \n",
    "1. Update Weights.\n",
    "2. Train Network."
   ]
  },
  {
   "cell_type": "markdown",
   "metadata": {},
   "source": [
    "#### Update Weights"
   ]
  },
  {
   "cell_type": "markdown",
   "metadata": {},
   "source": [
    "Once errors are calculated for each neuron in the network via the backpropagation method above, they can be used to update the weights.  \n",
    "Network weights are updated as follows:"
   ]
  },
  {
   "cell_type": "raw",
   "metadata": {},
   "source": [
    "weight = weight + learning rate * error * input"
   ]
  },
  {
   "cell_type": "markdown",
   "metadata": {},
   "source": [
    "Where **`weight`** is a given weight, **`learning_rate`** is a parameter that you must specify, **`error`** is the error calculated by the backpropagation procedure for the neuron and **`input`** is the input value that caused the error.  \n",
    "The same procedure can be used for updating the bias weight, except there is no input term, or input is the fixed value of 1.0.  \n",
    "Learning rate controls how much to change the weight to correct for the error.  \n",
    "For example, a value of 0.1 will update the weight 10% of the amount that it possibly could be updated.  \n",
    "Small learning rates that cause slower learning over a large number of training iterations are preferred.  \n",
    "This increases the likelihood of the network finding a good set of weights across all layers rather than the fastest set of weights that minimize error (called premature convergence)."
   ]
  },
  {
   "cell_type": "markdown",
   "metadata": {},
   "source": [
    "Below is a function named **`update_weights()`** that updates the weights for a network given an input row of data, a learning rate and assume that a forward and backward propagation have already been performed.  \n",
    "Remember that the input for the output layer is a collection of outputs from the hidden layer."
   ]
  },
  {
   "cell_type": "code",
   "execution_count": 33,
   "metadata": {
    "collapsed": true
   },
   "outputs": [],
   "source": [
    "# Update network weights with error:\n",
    "def update_weights(network, row, l_rate):\n",
    "    for i in range(len(network)):\n",
    "        inputs = row[:-1]\n",
    "        if i != 0:\n",
    "            inputs = [neuron['output'] for neuron in network[i - 1]]\n",
    "        for neuron in network[i]:\n",
    "            for j in range(len(inputs)):\n",
    "                neuron['weights'][j] += l_rate * neuron['delta'] * inputs[j]\n",
    "            neuron['weights'][-1] += l_rate * neuron['delta']"
   ]
  },
  {
   "cell_type": "markdown",
   "metadata": {},
   "source": [
    "Now that we know how to update network weights, let's tell the machine how to do it repeatedly."
   ]
  },
  {
   "cell_type": "markdown",
   "metadata": {},
   "source": [
    "#### 4.2 Train Network"
   ]
  },
  {
   "cell_type": "markdown",
   "metadata": {
    "collapsed": true
   },
   "source": [
    "As mentioned, the network is updated using stochastic gradient descent.  \n",
    "This involves first looping for a fixed number of epochs and within each epoch updating the network for each row in the training dataset.  \n",
    "Because updates are made for each training pattern, this type of learning is called [online learning](https://en.wikipedia.org/wiki/Online_machine_learning).  \n",
    "If errors were accumulated across an epoch before updating the weights, this is called [batch learning](https://en.wikipedia.org/wiki/Online_machine_learning#Batch_learning) or batch gradient descent."
   ]
  },
  {
   "cell_type": "markdown",
   "metadata": {},
   "source": [
    "Below is a function that implements the training of an already initialized neural network with a given training dataset, learning rate, fixed number of epochs and an expected number of output values.  \n",
    "The expected number of output values is used to transform class values in the training data into a [one hot encoding](https://www.quora.com/What-is-one-hot-encoding-and-when-is-it-used-in-data-science).  \n",
    "That is a binary vector with one column for each class value to match the output of the network.  \n",
    "This is required to calculate the error for the output layer.  \n",
    "You can also see that the sum squared error between the expected output and the network output is accumulated each epoch and printed.  \n",
    "This is helpful to create a trace of how much the network is learning and improving each epoch."
   ]
  },
  {
   "cell_type": "code",
   "execution_count": 34,
   "metadata": {
    "collapsed": true
   },
   "outputs": [],
   "source": [
    "# Train an ANN for a fixed number of epochs:\n",
    "def train_network(network, train, l_rate, n_epoch, n_outputs):\n",
    "    for epoch in range(n_epoch):\n",
    "        sum_error = 0\n",
    "        for row in train:\n",
    "            outputs = forward_propagate(network, row)\n",
    "            expected = [0 for i in range(n_outputs)]\n",
    "            expected[row[-1]] = 1\n",
    "            sum_error += sum([(expected[i] - outputs[i]) ** 2 \\\n",
    "                         for i in range(len(expected))])\n",
    "            backward_propagate_error(network, expected)\n",
    "            update_weights(network, row, l_rate)\n",
    "        print(\">epoch: {}, l_rate: {:.3f}, sum_error: {:.3f}\".format(epoch, l_rate, sum_error))"
   ]
  },
  {
   "cell_type": "markdown",
   "metadata": {},
   "source": [
    "We now have all of the pieces to train the network.  \n",
    "We can put together an example that includes everything we’ve seen so far including network initialization and train a network on a small dataset.  \n",
    "Below is a small contrived dataset that we can use to test out training our neural network:"
   ]
  },
  {
   "cell_type": "raw",
   "metadata": {},
   "source": [
    "X1              X2              Y\n",
    "2.7810836       2.550537003     0\n",
    "1.465489372     2.362125076     0\n",
    "3.396561688     4.400293529     0\n",
    "1.38807019      1.850220317     0\n",
    "3.06407232      3.005305973     0\n",
    "7.627531214     2.759262235     1\n",
    "5.332441248     2.088626775     1\n",
    "6.922596716     1.77106367      1\n",
    "8.675418651     -0.242068655    1\n",
    "7.673756466     3.508563011     1"
   ]
  },
  {
   "cell_type": "markdown",
   "metadata": {},
   "source": [
    "Now we are ready to work through the complete example.  \n",
    "We will use 2 neurons in the hidden layer.  \n",
    "It is a binary classification problem (2 classes) so there will be two neurons in the output layer.  \n",
    "The network will be trained for 20 epochs with a learning rate of 0.5, which is high because we are training for so few iterations."
   ]
  },
  {
   "cell_type": "code",
   "execution_count": 35,
   "metadata": {},
   "outputs": [
    {
     "name": "stdout",
     "output_type": "stream",
     "text": [
      ">epoch=0, lrate=0.500, error=6.350\n",
      ">epoch=1, lrate=0.500, error=5.531\n",
      ">epoch=2, lrate=0.500, error=5.221\n",
      ">epoch=3, lrate=0.500, error=4.951\n",
      ">epoch=4, lrate=0.500, error=4.519\n",
      ">epoch=5, lrate=0.500, error=4.173\n",
      ">epoch=6, lrate=0.500, error=3.835\n",
      ">epoch=7, lrate=0.500, error=3.506\n",
      ">epoch=8, lrate=0.500, error=3.192\n",
      ">epoch=9, lrate=0.500, error=2.898\n",
      ">epoch=10, lrate=0.500, error=2.626\n",
      ">epoch=11, lrate=0.500, error=2.377\n",
      ">epoch=12, lrate=0.500, error=2.153\n",
      ">epoch=13, lrate=0.500, error=1.953\n",
      ">epoch=14, lrate=0.500, error=1.774\n",
      ">epoch=15, lrate=0.500, error=1.614\n",
      ">epoch=16, lrate=0.500, error=1.472\n",
      ">epoch=17, lrate=0.500, error=1.346\n",
      ">epoch=18, lrate=0.500, error=1.233\n",
      ">epoch=19, lrate=0.500, error=1.132\n",
      "[{'weights': [-1.4688375095432327, 1.850887325439514, 1.0858178629550297], 'output': 0.029980305604426185, 'delta': -0.0059546604162323625}, {'weights': [0.37711098142462157, -0.0625909894552989, 0.2765123702642716], 'output': 0.9456229000211323, 'delta': 0.0026279652850863837}]\n",
      "[{'weights': [2.515394649397849, -0.3391927502445985, -0.9671565426390275], 'output': 0.23648794202357587, 'delta': -0.04270059278364587}, {'weights': [-2.5584149848484263, 1.0036422106209202, 0.42383086467582715], 'output': 0.7790535202438367, 'delta': 0.03803132596437354}]\n"
     ]
    }
   ],
   "source": [
    "from math import exp\n",
    "from random import seed\n",
    "from random import random\n",
    "\n",
    "# Initialize a network\n",
    "def initialize_network(n_inputs, n_hidden, n_outputs):\n",
    "    network = list()\n",
    "    hidden_layer = [{'weights':[random() for i in range(n_inputs + 1)]} for i in range(n_hidden)]\n",
    "    network.append(hidden_layer)\n",
    "    output_layer = [{'weights':[random() for i in range(n_hidden + 1)]} for i in range(n_outputs)]\n",
    "    network.append(output_layer)\n",
    "    return network\n",
    "\n",
    "# Calculate neuron activation for an input\n",
    "def activate(weights, inputs):\n",
    "    activation = weights[-1]\n",
    "    for i in range(len(weights)-1):\n",
    "        activation += weights[i] * inputs[i]\n",
    "    return activation\n",
    "\n",
    "# Transfer neuron activation\n",
    "def transfer(activation):\n",
    "    return 1.0 / (1.0 + exp(-activation))\n",
    "\n",
    "# Forward propagate input to a network output\n",
    "def forward_propagate(network, row):\n",
    "    inputs = row\n",
    "    for layer in network:\n",
    "        new_inputs = []\n",
    "        for neuron in layer:\n",
    "            activation = activate(neuron['weights'], inputs)\n",
    "            neuron['output'] = transfer(activation)\n",
    "            new_inputs.append(neuron['output'])\n",
    "        inputs = new_inputs\n",
    "    return inputs\n",
    "\n",
    "# Calculate the derivative of an neuron output\n",
    "def transfer_derivative(output):\n",
    "    return output * (1.0 - output)\n",
    "\n",
    "# Backpropagate error and store in neurons\n",
    "def backward_propagate_error(network, expected):\n",
    "    for i in reversed(range(len(network))):\n",
    "        layer = network[i]\n",
    "        errors = list()\n",
    "        if i != len(network)-1:\n",
    "            for j in range(len(layer)):\n",
    "                error = 0.0\n",
    "                for neuron in network[i + 1]:\n",
    "                    error += (neuron['weights'][j] * neuron['delta'])\n",
    "                errors.append(error)\n",
    "        else:\n",
    "            for j in range(len(layer)):\n",
    "                neuron = layer[j]\n",
    "                errors.append(expected[j] - neuron['output'])\n",
    "        for j in range(len(layer)):\n",
    "            neuron = layer[j]\n",
    "            neuron['delta'] = errors[j] * transfer_derivative(neuron['output'])\n",
    "\n",
    "# Update network weights with error\n",
    "def update_weights(network, row, l_rate):\n",
    "    for i in range(len(network)):\n",
    "        inputs = row[:-1]\n",
    "        if i != 0:\n",
    "            inputs = [neuron['output'] for neuron in network[i - 1]]\n",
    "        for neuron in network[i]:\n",
    "            for j in range(len(inputs)):\n",
    "                neuron['weights'][j] += l_rate * neuron['delta'] * inputs[j]\n",
    "            neuron['weights'][-1] += l_rate * neuron['delta']\n",
    "\n",
    "# Train a network for a fixed number of epochs\n",
    "def train_network(network, train, l_rate, n_epoch, n_outputs):\n",
    "    for epoch in range(n_epoch):\n",
    "        sum_error = 0\n",
    "        for row in train:\n",
    "            outputs = forward_propagate(network, row)\n",
    "            expected = [0 for i in range(n_outputs)]\n",
    "            expected[row[-1]] = 1\n",
    "            sum_error += sum([(expected[i]-outputs[i])**2 for i in range(len(expected))])\n",
    "            backward_propagate_error(network, expected)\n",
    "            update_weights(network, row, l_rate)\n",
    "        print('>epoch=%d, lrate=%.3f, error=%.3f' % (epoch, l_rate, sum_error))\n",
    "\n",
    "# Test training backprop algorithm\n",
    "seed(1)\n",
    "dataset = [[2.7810836,2.550537003,0],\n",
    "    [1.465489372,2.362125076,0],\n",
    "    [3.396561688,4.400293529,0],\n",
    "    [1.38807019,1.850220317,0],\n",
    "    [3.06407232,3.005305973,0],\n",
    "    [7.627531214,2.759262235,1],\n",
    "    [5.332441248,2.088626775,1],\n",
    "    [6.922596716,1.77106367,1],\n",
    "    [8.675418651,-0.242068655,1],\n",
    "    [7.673756466,3.508563011,1]]\n",
    "n_inputs = len(dataset[0]) - 1\n",
    "n_outputs = len(set([row[-1] for row in dataset]))\n",
    "network = initialize_network(n_inputs, 2, n_outputs)\n",
    "train_network(network, dataset, 0.5, 20, n_outputs)\n",
    "for layer in network:\n",
    "    print(layer)"
   ]
  },
  {
   "cell_type": "markdown",
   "metadata": {},
   "source": [
    "Running the example first prints the sum squared error each training epoch.  \n",
    "We can see a trend of this error decreasing with each epoch.  \n",
    "Once trained, the network is printed, showing the learned weights.  \n",
    "Also still in the network are output and delta values that can be ignored.  \n",
    "We could update our training function to delete these data if we wanted.\n",
    "Once a network is trained, we need to use it to make predictions."
   ]
  },
  {
   "cell_type": "markdown",
   "metadata": {},
   "source": [
    "### 5. Predict"
   ]
  },
  {
   "cell_type": "markdown",
   "metadata": {
    "collapsed": true
   },
   "source": [
    "Making predictions with a trained neural network is easy enough.  \n",
    "We have already seen how to forward-propagate an input pattern to get an output.  \n",
    "This is all we need to do to make a prediction.  \n",
    "We can use the output values themselves directly as the probability of a pattern belonging to each output class.  \n",
    "It may be more useful to turn this output back into a crisp class prediction.  \n",
    "We can do this by selecting the class value with the larger probability.\n",
    "This is also called the [arg max function](https://en.wikipedia.org/wiki/Arg_max).  \n",
    "Below is a function named **`predict()`** that implements this procedure.  \n",
    "It returns the index in the network output that has the largest probability.  \n",
    "It assumes that class values have been converted to integers starting at 0."
   ]
  },
  {
   "cell_type": "code",
   "execution_count": 36,
   "metadata": {
    "collapsed": true
   },
   "outputs": [],
   "source": [
    "# Make a prediction with the network:\n",
    "def predict(network, row):\n",
    "    outputs = forward_propagate(network, row)\n",
    "    return outputs.index(max(outputs))"
   ]
  },
  {
   "cell_type": "markdown",
   "metadata": {},
   "source": [
    "We can put this together with our code above for forward propagating input with our small contrived dataset to test making predictions with a network that has already been trained.  \n",
    "The example hardcodes a network trained from the previous step above.  \n",
    "The complete example is listed below."
   ]
  },
  {
   "cell_type": "code",
   "execution_count": 37,
   "metadata": {},
   "outputs": [
    {
     "name": "stdout",
     "output_type": "stream",
     "text": [
      "Expected=0, Actual=0\n",
      "Expected=0, Actual=0\n",
      "Expected=0, Actual=0\n",
      "Expected=0, Actual=0\n",
      "Expected=0, Actual=0\n",
      "Expected=1, Actual=1\n",
      "Expected=1, Actual=1\n",
      "Expected=1, Actual=1\n",
      "Expected=1, Actual=1\n",
      "Expected=1, Actual=1\n"
     ]
    }
   ],
   "source": [
    "from math import exp\n",
    "\n",
    "# Calculate neuron activation for an input:\n",
    "def activate(weights, inputs):\n",
    "    activation = weights[-1]\n",
    "    for i in range(len(weights)-1):\n",
    "        activation += weights[i] * inputs[i]\n",
    "    return activation\n",
    "\n",
    "# Transfer neuron activation:\n",
    "def transfer(activation):\n",
    "    return 1.0 / (1.0 + exp(-activation))\n",
    "\n",
    "# Forward propagate inputs to a network output:\n",
    "def forward_propagate(network, row):\n",
    "    inputs = row\n",
    "    for layer in network:\n",
    "        new_inputs = []\n",
    "        for neuron in layer:\n",
    "            activation = activate(neuron['weights'], inputs)\n",
    "            neuron['output'] = transfer(activation)\n",
    "            new_inputs.append(neuron['output'])\n",
    "        inputs = new_inputs\n",
    "    return inputs\n",
    "\n",
    "# Make a prediction with a network:\n",
    "def predict(network, row):\n",
    "    outputs = forward_propagate(network, row)\n",
    "    return outputs.index(max(outputs))\n",
    "\n",
    "# Test making predictions with the network:\n",
    "dataset = [[2.7810836,2.550537003,0],\n",
    "    [1.465489372,2.362125076,0],\n",
    "    [3.396561688,4.400293529,0],\n",
    "    [1.38807019,1.850220317,0],\n",
    "    [3.06407232,3.005305973,0],\n",
    "    [7.627531214,2.759262235,1],\n",
    "    [5.332441248,2.088626775,1],\n",
    "    [6.922596716,1.77106367,1],\n",
    "    [8.675418651,-0.242068655,1],\n",
    "    [7.673756466,3.508563011,1]]\n",
    "network = [[{'weights': [-1.482313569067226, 1.8308790073202204, 1.078381922048799]},\n",
    "            {'weights': [0.23244990332399884, 0.3621998343835864, 0.40289821191094327]}],\n",
    "           [{'weights': [2.5001872433501404, 0.7887233511355132, -1.1026649757805829]},\n",
    "            {'weights': [-2.429350576245497, 0.8357651039198697, 1.0699217181280656]}]]\n",
    "\n",
    "for row in dataset:\n",
    "    prediction = predict(network, row)\n",
    "    print('Expected=%d, Actual=%d' % (row[-1], prediction))"
   ]
  },
  {
   "cell_type": "markdown",
   "metadata": {},
   "source": [
    "running the example prints the expected output for each record in the training dataset, followed by the crisp prediction made by the network.  \n",
    "It shows that the network achieves 100% accuracy on this small dataset.  \n",
    "Now we are ready to apply our backpropagation algorithm to a real world dataset."
   ]
  },
  {
   "cell_type": "markdown",
   "metadata": {},
   "source": [
    "### 6. Wheat Seeds Dataset"
   ]
  },
  {
   "cell_type": "code",
   "execution_count": null,
   "metadata": {
    "collapsed": true
   },
   "outputs": [],
   "source": []
  }
 ],
 "metadata": {
  "kernelspec": {
   "display_name": "Python 3",
   "language": "python",
   "name": "python3"
  },
  "language_info": {
   "codemirror_mode": {
    "name": "ipython",
    "version": 3
   },
   "file_extension": ".py",
   "mimetype": "text/x-python",
   "name": "python",
   "nbconvert_exporter": "python",
   "pygments_lexer": "ipython3",
   "version": "3.6.1"
  }
 },
 "nbformat": 4,
 "nbformat_minor": 2
}
