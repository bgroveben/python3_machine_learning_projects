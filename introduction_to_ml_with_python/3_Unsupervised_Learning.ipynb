{
 "cells": [
  {
   "cell_type": "markdown",
   "metadata": {},
   "source": [
    "# Chapter 3. Unsupervised Learning and Preprocessing"
   ]
  },
  {
   "cell_type": "markdown",
   "metadata": {},
   "source": [
    "The second family of machine learning algorithms that we will discuss is unsupervised learning algorithms.  \n",
    "Unsupervised learning subsumes all kinds of machine learning where there is no known output, no teacher to instruct the learning algorithm.  \n",
    "In unsupervised learning, the learning algorithm is just shown the input data and asked to extract knowledge from this data."
   ]
  },
  {
   "cell_type": "markdown",
   "metadata": {},
   "source": [
    "## Types of Unsupervised Learning"
   ]
  },
  {
   "cell_type": "markdown",
   "metadata": {},
   "source": [
    "We will look into two kinds of unsupervised learning in this chapter: transformations of the dataset and clustering."
   ]
  },
  {
   "cell_type": "markdown",
   "metadata": {},
   "source": [
    "**Unsupervised transformations** of a dataset are algorithms that create a new representation of the data which might be easier for humans or other machine learning algorithms to understand compared to the original representation of the data.  \n",
    "A common application of unsupervised transformations is dimensionality reduction, which takes a high-dimensional representation of the data, consisting of many features, and finds a new way to represent this data that summarizes the essential characteristics with fewer features.  \n",
    "A common application for dimensionality reduction is reduction to two dimensions for visualization purposes.  \n",
    "Another application for unsupervised transformations is finding the parts or components that “make up” the data.  \n",
    "An example of this is topic extraction on collections of text documents.  \n",
    "Here, the task is to find the unknown topics that are talked about in each document, and to learn what topics appear in each document.  \n",
    "This can be useful for tracking the discussion of themes like elections, gun control, or pop stars on social media."
   ]
  },
  {
   "cell_type": "markdown",
   "metadata": {},
   "source": [
    "**Clustering algorithms**, on the other hand, partition data into distinct groups of similar items.  \n",
    "Consider the example of uploading photos to a social media site.  \n",
    "To allow you to organize your pictures, the site might want to group together pictures that show the same person.  \n",
    "However, the site doesn’t know which pictures show whom, and it doesn’t know how many different people appear in your photo collection.  \n",
    "A sensible approach would be to extract all the faces and divide them into groups of faces that look similar.  \n",
    "Hopefully, these correspond to the same person, and the images can be grouped together for you."
   ]
  },
  {
   "cell_type": "markdown",
   "metadata": {},
   "source": [
    "## Challenges in Unsupervised Learning"
   ]
  },
  {
   "cell_type": "markdown",
   "metadata": {},
   "source": [
    "A major challenge in unsupervised learning is evaluating whether the algorithm learned something useful.  \n",
    "Unsupervised learning algorithms are usually applied to data that does not contain any label information, so we don’t know what the right output should be.  \n",
    "Therefore, it is very hard to say whether a model “did well.”  \n",
    "For example, our hypothetical clustering algorithm could have grouped together all the pictures that show faces in profile and all the full-face pictures.  \n",
    "This would certainly be a possible way to divide a collection of pictures of people’s faces, but it’s not the one we were looking for.  \n",
    "However, there is no way for us to “tell” the algorithm what we are looking for, and often the only way to evaluate the result of an unsupervised algorithm is to inspect it manually.  \n",
    "As a consequence, unsupervised algorithms are used often in an exploratory setting, when a data scientist wants to understand the data better, rather than as part of a larger automatic system.  \n",
    "Another common application for unsupervised algorithms is as a preprocessing step for supervised algorithms.  \n",
    "Learning a new representation of the data can sometimes improve the accuracy of supervised algorithms, or can lead to reduced memory and time consumption.\n",
    "Before we start with “real” unsupervised algorithms, we will briefly discuss some simple preprocessing methods that often come in handy.  \n",
    "Even though preprocessing and scaling are often used in tandem with supervised learning algorithms, scaling methods don’t make use of the supervised information, making them unsupervised."
   ]
  },
  {
   "cell_type": "markdown",
   "metadata": {},
   "source": [
    "## Preprocessing and Scaling"
   ]
  },
  {
   "cell_type": "code",
   "execution_count": null,
   "metadata": {
    "collapsed": true
   },
   "outputs": [],
   "source": []
  }
 ],
 "metadata": {
  "kernelspec": {
   "display_name": "Python 3",
   "language": "python",
   "name": "python3"
  },
  "language_info": {
   "codemirror_mode": {
    "name": "ipython",
    "version": 3
   },
   "file_extension": ".py",
   "mimetype": "text/x-python",
   "name": "python",
   "nbconvert_exporter": "python",
   "pygments_lexer": "ipython3",
   "version": "3.6.1"
  }
 },
 "nbformat": 4,
 "nbformat_minor": 2
}
