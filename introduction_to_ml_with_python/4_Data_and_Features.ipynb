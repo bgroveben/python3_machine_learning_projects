{
 "cells": [
  {
   "cell_type": "code",
   "execution_count": 1,
   "metadata": {
    "collapsed": true
   },
   "outputs": [],
   "source": [
    "import numpy as np\n",
    "import matplotlib.pyplot as plt\n",
    "import pandas as pd\n",
    "import mglearn\n",
    "from IPython.display import display\n",
    "%matplotlib inline"
   ]
  },
  {
   "cell_type": "markdown",
   "metadata": {},
   "source": [
    "# Chapter 4. Representing Data and Engineering Features"
   ]
  },
  {
   "cell_type": "markdown",
   "metadata": {},
   "source": [
    "So far, we’ve assumed that our data comes in as a two-dimensional array of floating-point numbers, where each column is a [continuous feature](https://www.mathsisfun.com/data/data-discrete-continuous.html) that describes the data points.  \n",
    "For many applications, this is not how the data is collected.  \n",
    "A particularly common type of feature is the [categorical features](http://www.dummies.com/education/math/statistics/types-of-statistical-data-numerical-categorical-and-ordinal/).  \n",
    "Also known as [discrete features](https://www.mathsisfun.com/data/data-discrete-continuous.html), these are usually not numeric.  \n",
    "The distinction between categorical features and continuous features is analogous to the distinction between classification and regression, only on the input side rather than the output side.  \n",
    "Examples of continuous features that we have seen are pixel brightnesses and size measurements of plant flowers.  \n",
    "Examples of categorical features are the brand of a product, the color of a product, or the department (books, clothing, hardware) it is sold in.  \n",
    "These are all properties that can describe a product, but they don’t vary in a continuous way.  \n",
    "A product belongs either in the clothing department or in the books department.  \n",
    "There is no middle ground between books and clothing, and no natural order for the different categories (books is not greater or less than clothing, hardware is not between books and clothing, etc.)."
   ]
  },
  {
   "cell_type": "markdown",
   "metadata": {},
   "source": [
    "Regardless of the types of features your data consists of, how you represent them can have an enormous effect on the performance of machine learning models.  \n",
    "We saw in Chapters 2 and 3 that scaling of the data is important.  \n",
    "In other words, if you don’t rescale your data (say, to unit variance), then it makes a difference whether you represent a measurement in centimeters or inches.  \n",
    "We also saw in Chapter 2 that it can be helpful to *augment* your data with additional features, like adding interactions (products) of features or more general polynomials."
   ]
  },
  {
   "cell_type": "markdown",
   "metadata": {},
   "source": [
    "The question of how to represent your data best for a particular application is known as feature engineering, and it is one of the main tasks of data scientists and machine learning practitioners trying to solve real-world problems.  \n",
    "Representing your data in the right way can have a bigger influence on the performance of a supervised model than the exact parameters you choose.  \n",
    "In this chapter, we will first go over the important and very common case of categorical features, and then give some examples of helpful transformations for specific combinations of features and models."
   ]
  },
  {
   "cell_type": "markdown",
   "metadata": {},
   "source": [
    "## Categorical Variables"
   ]
  },
  {
   "cell_type": "markdown",
   "metadata": {},
   "source": [
    "As an example, we will use the dataset of adult incomes in the United States, derived from the 1994 census database.  \n",
    "The task of the adult dataset is to predict whether a worker has an income of over \\$50,000 or under \\$50,000.  \n",
    "The features in this dataset include the workers’ ages, how they are employed (self employed, private industry employee, government employee, etc.), their education, their gender, their working hours per week, occupation, and more.  \n",
    "Table 4-1 shows the first few entries in the dataset:"
   ]
  },
  {
   "cell_type": "markdown",
   "metadata": {},
   "source": [
    "![title](images/adult_incomes_data.png)"
   ]
  },
  {
   "cell_type": "raw",
   "metadata": {},
   "source": [
    "Table 4-1. The first few entries in the adult employment dataset"
   ]
  },
  {
   "cell_type": "markdown",
   "metadata": {},
   "source": [
    "The task is phrased as a classification task with the two classes being income `<=50k` and `>50k`.  \n",
    "It would also be possible to predict the exact income, and make this a regression task.  \n",
    "However, that would be much more difficult, and the 50K division is interesting to understand on its own.  \n",
    "In this dataset, `age` and `hours-per-week` are continuous features, which we know how to treat.  \n",
    "The `workclass`, `education`, `sex`, and `occupation` features are categorical, however.  \n",
    "All of them come from a fixed list of possible values, as opposed to a range, and denote a qualitative property, as opposed to a quantity.  \n",
    "As a starting point, let’s say we want to learn a logistic regression classifier on this data.  \n",
    "We know from Chapter 2 that a logistic regression makes predictions, $ŷ$, using the following formula:"
   ]
  },
  {
   "cell_type": "markdown",
   "metadata": {},
   "source": [
    "$ŷ = w[0] * x[0] +w[1] * x[1] + \\ldots + w[p] * x[p] + b > 0$"
   ]
  },
  {
   "cell_type": "markdown",
   "metadata": {},
   "source": [
    "where $w[i]$ and $b$ are coefficients learned from the training set and $x[i]$ are the input features.  \n",
    "This formula makes sense when $x[i]$ are numbers, but not when $x[2]$ is `\"Masters\"` or `\"Bachelors\"`.  \n",
    "Clearly we need to represent our data in some different way when applying logistic regression.  \n",
    "The next section will explain how we can overcome this problem."
   ]
  },
  {
   "cell_type": "markdown",
   "metadata": {},
   "source": [
    "### One-Hot-Encoding (Dummy Variables)"
   ]
  },
  {
   "cell_type": "markdown",
   "metadata": {
    "collapsed": true
   },
   "source": [
    "By far the most common way to represent categorical variables is using the [one-hot-encoding](https://www.quora.com/What-is-one-hot-encoding-and-when-is-it-used-in-data-science) or *one-out-of-N encoding*, also known as [dummy variables](https://en.wikipedia.org/wiki/Dummy_variable_%28statistics%29).  \n",
    "The idea behind dummy variables is to replace a categorical variable with one or more new features that can have the values 0 and 1.  \n",
    "The values 0 and 1 make sense in the formula for linear binary classification (and for all other models in `scikit-learn`), and we can represent any number of categories by introducing one new feature per category, as described here.  \n",
    "Let’s say for the workclass feature we have possible values of `\"Government Employee\"`, `\"Private Employee\"`, `\"Self Employed\"`, and `\"Self Employed Incorporated\"`.  \n",
    "To encode these four possible values, we create four new features, called `\"Government Employee\"`, `\"Private Employee\"`, `\"Self Employed\"`, and `\"Self Employed Incorporated\"`.  \n",
    "A feature is 1 if `workclass` for this person has the corresponding value and 0 otherwise, so exactly one of the four new features will be 1 for each data point.  \n",
    "This is why this is called *one-hot* or *one-out-of-N* encoding."
   ]
  },
  {
   "cell_type": "markdown",
   "metadata": {},
   "source": [
    "The principle is illustrated in Table 4-2.  \n",
    "A single feature is encoded using four new features.  \n",
    "When using this data in a machine learning algorithm, we would drop the original `workclass` feature and only keep the 0-1 features."
   ]
  },
  {
   "cell_type": "markdown",
   "metadata": {},
   "source": [
    "![title](images/Table_4-2.png)"
   ]
  },
  {
   "cell_type": "raw",
   "metadata": {},
   "source": [
    "Table 4-2. Encoding the workclass feature using one-hot encoding"
   ]
  },
  {
   "cell_type": "markdown",
   "metadata": {},
   "source": [
    "**NOTE**  \n",
    "The one-hot encoding we use is quite similar, but not identical, to the dummy coding used in statistics.  \n",
    "For simplicity, we encode each category with a different binary feature.  \n",
    "In statistics, it is common to encode a categorical feature with k different possible values into k–1 features (the last one is represented as all zeros).  \n",
    "This is done to simplify the analysis (more technically, this will avoid making the data matrix rank-deficient."
   ]
  },
  {
   "cell_type": "markdown",
   "metadata": {},
   "source": [
    "There are two ways to convert your data to a one-hot encoding of categorical variables, using either [pandas](http://pandas.pydata.org/pandas-docs/stable/generated/pandas.get_dummies.html) or [scikit-learn](http://scikit-learn.org/stable/modules/generated/sklearn.preprocessing.OneHotEncoder.html).  \n",
    "At the time of writing, using pandas is slightly easier, so let’s go this route.  \n",
    "First we load the data using pandas from a comma-separated values (CSV) file:"
   ]
  },
  {
   "cell_type": "code",
   "execution_count": 2,
   "metadata": {},
   "outputs": [
    {
     "name": "stdout",
     "output_type": "stream",
     "text": [
      "/Users/benjamingrove/.pyenv/versions/3.6.1/lib/python3.6/site-packages/mglearn/data/adult.data\n"
     ]
    }
   ],
   "source": [
    "import os\n",
    "# The file has no headers naking the columns, so we pass \n",
    "# header=None and provide the column names explicitly in \"names\".\n",
    "adult_path = os.path.join(mglearn.datasets.DATA_PATH, \"adult.data\")\n",
    "print(adult_path)"
   ]
  },
  {
   "cell_type": "code",
   "execution_count": 3,
   "metadata": {},
   "outputs": [
    {
     "data": {
      "text/html": [
       "<div>\n",
       "<style>\n",
       "    .dataframe thead tr:only-child th {\n",
       "        text-align: right;\n",
       "    }\n",
       "\n",
       "    .dataframe thead th {\n",
       "        text-align: left;\n",
       "    }\n",
       "\n",
       "    .dataframe tbody tr th {\n",
       "        vertical-align: top;\n",
       "    }\n",
       "</style>\n",
       "<table border=\"1\" class=\"dataframe\">\n",
       "  <thead>\n",
       "    <tr style=\"text-align: right;\">\n",
       "      <th></th>\n",
       "      <th>age</th>\n",
       "      <th>workclass</th>\n",
       "      <th>education</th>\n",
       "      <th>gender</th>\n",
       "      <th>hours-per-week</th>\n",
       "      <th>occupation</th>\n",
       "      <th>income</th>\n",
       "    </tr>\n",
       "  </thead>\n",
       "  <tbody>\n",
       "    <tr>\n",
       "      <th>0</th>\n",
       "      <td>39</td>\n",
       "      <td>State-gov</td>\n",
       "      <td>Bachelors</td>\n",
       "      <td>Male</td>\n",
       "      <td>40</td>\n",
       "      <td>Adm-clerical</td>\n",
       "      <td>&lt;=50K</td>\n",
       "    </tr>\n",
       "    <tr>\n",
       "      <th>1</th>\n",
       "      <td>50</td>\n",
       "      <td>Self-emp-not-inc</td>\n",
       "      <td>Bachelors</td>\n",
       "      <td>Male</td>\n",
       "      <td>13</td>\n",
       "      <td>Exec-managerial</td>\n",
       "      <td>&lt;=50K</td>\n",
       "    </tr>\n",
       "    <tr>\n",
       "      <th>2</th>\n",
       "      <td>38</td>\n",
       "      <td>Private</td>\n",
       "      <td>HS-grad</td>\n",
       "      <td>Male</td>\n",
       "      <td>40</td>\n",
       "      <td>Handlers-cleaners</td>\n",
       "      <td>&lt;=50K</td>\n",
       "    </tr>\n",
       "    <tr>\n",
       "      <th>3</th>\n",
       "      <td>53</td>\n",
       "      <td>Private</td>\n",
       "      <td>11th</td>\n",
       "      <td>Male</td>\n",
       "      <td>40</td>\n",
       "      <td>Handlers-cleaners</td>\n",
       "      <td>&lt;=50K</td>\n",
       "    </tr>\n",
       "    <tr>\n",
       "      <th>4</th>\n",
       "      <td>28</td>\n",
       "      <td>Private</td>\n",
       "      <td>Bachelors</td>\n",
       "      <td>Female</td>\n",
       "      <td>40</td>\n",
       "      <td>Prof-specialty</td>\n",
       "      <td>&lt;=50K</td>\n",
       "    </tr>\n",
       "  </tbody>\n",
       "</table>\n",
       "</div>"
      ],
      "text/plain": [
       "   age          workclass   education   gender  hours-per-week  \\\n",
       "0   39          State-gov   Bachelors     Male              40   \n",
       "1   50   Self-emp-not-inc   Bachelors     Male              13   \n",
       "2   38            Private     HS-grad     Male              40   \n",
       "3   53            Private        11th     Male              40   \n",
       "4   28            Private   Bachelors   Female              40   \n",
       "\n",
       "           occupation  income  \n",
       "0        Adm-clerical   <=50K  \n",
       "1     Exec-managerial   <=50K  \n",
       "2   Handlers-cleaners   <=50K  \n",
       "3   Handlers-cleaners   <=50K  \n",
       "4      Prof-specialty   <=50K  "
      ]
     },
     "metadata": {},
     "output_type": "display_data"
    }
   ],
   "source": [
    "data = pd.read_csv(adult_path, header=None, index_col=False,\n",
    "       names=['age', 'workclass', 'fnlwgt', 'education',\n",
    "              'education-num', 'marital-status', 'occupation',\n",
    "              'relationship', 'race', 'gender', 'capital-gain',\n",
    "              'capital-loss', 'hours-per-week', 'native-country',\n",
    "              'income'])\n",
    "# For illustrative purposes, we'll only select some of the columns:\n",
    "data = data[['age', 'workclass', 'education', 'gender',\n",
    "             'hours-per-week', 'occupation', 'income']]\n",
    "# IPython.display allows nice output formatting within the \n",
    "# Jupyter notebook:\n",
    "display(data.head())"
   ]
  },
  {
   "cell_type": "raw",
   "metadata": {},
   "source": [
    "Table 4-3. The first five rows of the adult employment dataset"
   ]
  },
  {
   "cell_type": "markdown",
   "metadata": {},
   "source": [
    "#### Checking string-encoded categorical data"
   ]
  },
  {
   "cell_type": "markdown",
   "metadata": {
    "collapsed": true
   },
   "source": [
    "After reading a dataset like this, it is often good to first check if a column actually contains meaningful categorical data.  \n",
    "When working with data that was input by humans (say, users on a website), there might not be a fixed set of categories, and differences in spelling and capitalization might require preprocessing.  \n",
    "For example, it might be that some people specified gender as “male” and some as “man,” and we might want to represent these two inputs using the same category.  \n",
    "A good way to check the contents of a column is using the `value_counts` method of a `pandas` `Series` (the type of a single column in a `DataFrame`), to show us what the unique values are and how often they appear:"
   ]
  },
  {
   "cell_type": "code",
   "execution_count": 4,
   "metadata": {},
   "outputs": [
    {
     "name": "stdout",
     "output_type": "stream",
     "text": [
      " Male      21790\n",
      " Female    10771\n",
      "Name: gender, dtype: int64\n"
     ]
    }
   ],
   "source": [
    "print(data.gender.value_counts())"
   ]
  },
  {
   "cell_type": "markdown",
   "metadata": {},
   "source": [
    "We can see that there are exactly two values for gender in this dataset, `Male` and `Female`, meaning the data is already in a good format to be represented using one-hot-encoding.  \n",
    "In a real application, you should look at all columns and check their values.  \n",
    "We will skip this here for brevity’s sake.  \n",
    "There is a very simple way to encode the data in pandas, using the `get_dummies()` function.  \n",
    "The [get_dummies()](https://pandas.pydata.org/pandas-docs/stable/generated/pandas.get_dummies.html) function automatically transforms all columns that have object type (like strings) or are categorical (which is a special `pandas` concept that we haven’t talked about yet):"
   ]
  },
  {
   "cell_type": "code",
   "execution_count": 5,
   "metadata": {},
   "outputs": [
    {
     "name": "stdout",
     "output_type": "stream",
     "text": [
      "Original Features: \n",
      " ['age', 'workclass', 'education', 'gender', 'hours-per-week', 'occupation', 'income']\n"
     ]
    }
   ],
   "source": [
    "print(\"Original Features: \\n\", list(data.columns))"
   ]
  },
  {
   "cell_type": "code",
   "execution_count": 6,
   "metadata": {},
   "outputs": [
    {
     "name": "stdout",
     "output_type": "stream",
     "text": [
      "Features After Applying get_dummies(): \n",
      " ['age', 'hours-per-week', 'workclass_ ?', 'workclass_ Federal-gov', 'workclass_ Local-gov', 'workclass_ Never-worked', 'workclass_ Private', 'workclass_ Self-emp-inc', 'workclass_ Self-emp-not-inc', 'workclass_ State-gov', 'workclass_ Without-pay', 'education_ 10th', 'education_ 11th', 'education_ 12th', 'education_ 1st-4th', 'education_ 5th-6th', 'education_ 7th-8th', 'education_ 9th', 'education_ Assoc-acdm', 'education_ Assoc-voc', 'education_ Bachelors', 'education_ Doctorate', 'education_ HS-grad', 'education_ Masters', 'education_ Preschool', 'education_ Prof-school', 'education_ Some-college', 'gender_ Female', 'gender_ Male', 'occupation_ ?', 'occupation_ Adm-clerical', 'occupation_ Armed-Forces', 'occupation_ Craft-repair', 'occupation_ Exec-managerial', 'occupation_ Farming-fishing', 'occupation_ Handlers-cleaners', 'occupation_ Machine-op-inspct', 'occupation_ Other-service', 'occupation_ Priv-house-serv', 'occupation_ Prof-specialty', 'occupation_ Protective-serv', 'occupation_ Sales', 'occupation_ Tech-support', 'occupation_ Transport-moving', 'income_ <=50K', 'income_ >50K']\n"
     ]
    }
   ],
   "source": [
    "data_dummies = pd.get_dummies(data)\n",
    "print(\"Features After Applying get_dummies(): \\n\",\n",
    "      list(data_dummies.columns))"
   ]
  },
  {
   "cell_type": "markdown",
   "metadata": {},
   "source": [
    "You can see that the continuous features `age` and `hours-per-week` were not touched, while the categorical features were expanded into one new feature for each possible value:"
   ]
  },
  {
   "cell_type": "code",
   "execution_count": 7,
   "metadata": {},
   "outputs": [
    {
     "data": {
      "text/html": [
       "<div>\n",
       "<style>\n",
       "    .dataframe thead tr:only-child th {\n",
       "        text-align: right;\n",
       "    }\n",
       "\n",
       "    .dataframe thead th {\n",
       "        text-align: left;\n",
       "    }\n",
       "\n",
       "    .dataframe tbody tr th {\n",
       "        vertical-align: top;\n",
       "    }\n",
       "</style>\n",
       "<table border=\"1\" class=\"dataframe\">\n",
       "  <thead>\n",
       "    <tr style=\"text-align: right;\">\n",
       "      <th></th>\n",
       "      <th>age</th>\n",
       "      <th>hours-per-week</th>\n",
       "      <th>workclass_ ?</th>\n",
       "      <th>workclass_ Federal-gov</th>\n",
       "      <th>workclass_ Local-gov</th>\n",
       "      <th>workclass_ Never-worked</th>\n",
       "      <th>workclass_ Private</th>\n",
       "      <th>workclass_ Self-emp-inc</th>\n",
       "      <th>workclass_ Self-emp-not-inc</th>\n",
       "      <th>workclass_ State-gov</th>\n",
       "      <th>...</th>\n",
       "      <th>occupation_ Machine-op-inspct</th>\n",
       "      <th>occupation_ Other-service</th>\n",
       "      <th>occupation_ Priv-house-serv</th>\n",
       "      <th>occupation_ Prof-specialty</th>\n",
       "      <th>occupation_ Protective-serv</th>\n",
       "      <th>occupation_ Sales</th>\n",
       "      <th>occupation_ Tech-support</th>\n",
       "      <th>occupation_ Transport-moving</th>\n",
       "      <th>income_ &lt;=50K</th>\n",
       "      <th>income_ &gt;50K</th>\n",
       "    </tr>\n",
       "  </thead>\n",
       "  <tbody>\n",
       "    <tr>\n",
       "      <th>0</th>\n",
       "      <td>39</td>\n",
       "      <td>40</td>\n",
       "      <td>0</td>\n",
       "      <td>0</td>\n",
       "      <td>0</td>\n",
       "      <td>0</td>\n",
       "      <td>0</td>\n",
       "      <td>0</td>\n",
       "      <td>0</td>\n",
       "      <td>1</td>\n",
       "      <td>...</td>\n",
       "      <td>0</td>\n",
       "      <td>0</td>\n",
       "      <td>0</td>\n",
       "      <td>0</td>\n",
       "      <td>0</td>\n",
       "      <td>0</td>\n",
       "      <td>0</td>\n",
       "      <td>0</td>\n",
       "      <td>1</td>\n",
       "      <td>0</td>\n",
       "    </tr>\n",
       "    <tr>\n",
       "      <th>1</th>\n",
       "      <td>50</td>\n",
       "      <td>13</td>\n",
       "      <td>0</td>\n",
       "      <td>0</td>\n",
       "      <td>0</td>\n",
       "      <td>0</td>\n",
       "      <td>0</td>\n",
       "      <td>0</td>\n",
       "      <td>1</td>\n",
       "      <td>0</td>\n",
       "      <td>...</td>\n",
       "      <td>0</td>\n",
       "      <td>0</td>\n",
       "      <td>0</td>\n",
       "      <td>0</td>\n",
       "      <td>0</td>\n",
       "      <td>0</td>\n",
       "      <td>0</td>\n",
       "      <td>0</td>\n",
       "      <td>1</td>\n",
       "      <td>0</td>\n",
       "    </tr>\n",
       "    <tr>\n",
       "      <th>2</th>\n",
       "      <td>38</td>\n",
       "      <td>40</td>\n",
       "      <td>0</td>\n",
       "      <td>0</td>\n",
       "      <td>0</td>\n",
       "      <td>0</td>\n",
       "      <td>1</td>\n",
       "      <td>0</td>\n",
       "      <td>0</td>\n",
       "      <td>0</td>\n",
       "      <td>...</td>\n",
       "      <td>0</td>\n",
       "      <td>0</td>\n",
       "      <td>0</td>\n",
       "      <td>0</td>\n",
       "      <td>0</td>\n",
       "      <td>0</td>\n",
       "      <td>0</td>\n",
       "      <td>0</td>\n",
       "      <td>1</td>\n",
       "      <td>0</td>\n",
       "    </tr>\n",
       "    <tr>\n",
       "      <th>3</th>\n",
       "      <td>53</td>\n",
       "      <td>40</td>\n",
       "      <td>0</td>\n",
       "      <td>0</td>\n",
       "      <td>0</td>\n",
       "      <td>0</td>\n",
       "      <td>1</td>\n",
       "      <td>0</td>\n",
       "      <td>0</td>\n",
       "      <td>0</td>\n",
       "      <td>...</td>\n",
       "      <td>0</td>\n",
       "      <td>0</td>\n",
       "      <td>0</td>\n",
       "      <td>0</td>\n",
       "      <td>0</td>\n",
       "      <td>0</td>\n",
       "      <td>0</td>\n",
       "      <td>0</td>\n",
       "      <td>1</td>\n",
       "      <td>0</td>\n",
       "    </tr>\n",
       "    <tr>\n",
       "      <th>4</th>\n",
       "      <td>28</td>\n",
       "      <td>40</td>\n",
       "      <td>0</td>\n",
       "      <td>0</td>\n",
       "      <td>0</td>\n",
       "      <td>0</td>\n",
       "      <td>1</td>\n",
       "      <td>0</td>\n",
       "      <td>0</td>\n",
       "      <td>0</td>\n",
       "      <td>...</td>\n",
       "      <td>0</td>\n",
       "      <td>0</td>\n",
       "      <td>0</td>\n",
       "      <td>1</td>\n",
       "      <td>0</td>\n",
       "      <td>0</td>\n",
       "      <td>0</td>\n",
       "      <td>0</td>\n",
       "      <td>1</td>\n",
       "      <td>0</td>\n",
       "    </tr>\n",
       "  </tbody>\n",
       "</table>\n",
       "<p>5 rows × 46 columns</p>\n",
       "</div>"
      ],
      "text/plain": [
       "   age  hours-per-week  workclass_ ?  workclass_ Federal-gov  \\\n",
       "0   39              40             0                       0   \n",
       "1   50              13             0                       0   \n",
       "2   38              40             0                       0   \n",
       "3   53              40             0                       0   \n",
       "4   28              40             0                       0   \n",
       "\n",
       "   workclass_ Local-gov  workclass_ Never-worked  workclass_ Private  \\\n",
       "0                     0                        0                   0   \n",
       "1                     0                        0                   0   \n",
       "2                     0                        0                   1   \n",
       "3                     0                        0                   1   \n",
       "4                     0                        0                   1   \n",
       "\n",
       "   workclass_ Self-emp-inc  workclass_ Self-emp-not-inc  workclass_ State-gov  \\\n",
       "0                        0                            0                     1   \n",
       "1                        0                            1                     0   \n",
       "2                        0                            0                     0   \n",
       "3                        0                            0                     0   \n",
       "4                        0                            0                     0   \n",
       "\n",
       "       ...       occupation_ Machine-op-inspct  occupation_ Other-service  \\\n",
       "0      ...                                   0                          0   \n",
       "1      ...                                   0                          0   \n",
       "2      ...                                   0                          0   \n",
       "3      ...                                   0                          0   \n",
       "4      ...                                   0                          0   \n",
       "\n",
       "   occupation_ Priv-house-serv  occupation_ Prof-specialty  \\\n",
       "0                            0                           0   \n",
       "1                            0                           0   \n",
       "2                            0                           0   \n",
       "3                            0                           0   \n",
       "4                            0                           1   \n",
       "\n",
       "   occupation_ Protective-serv  occupation_ Sales  occupation_ Tech-support  \\\n",
       "0                            0                  0                         0   \n",
       "1                            0                  0                         0   \n",
       "2                            0                  0                         0   \n",
       "3                            0                  0                         0   \n",
       "4                            0                  0                         0   \n",
       "\n",
       "   occupation_ Transport-moving  income_ <=50K  income_ >50K  \n",
       "0                             0              1             0  \n",
       "1                             0              1             0  \n",
       "2                             0              1             0  \n",
       "3                             0              1             0  \n",
       "4                             0              1             0  \n",
       "\n",
       "[5 rows x 46 columns]"
      ]
     },
     "execution_count": 7,
     "metadata": {},
     "output_type": "execute_result"
    }
   ],
   "source": [
    "data_dummies.head()"
   ]
  },
  {
   "cell_type": "markdown",
   "metadata": {},
   "source": [
    "We can now use the values attribute to convert the `data_dummies` `DataFrame` into a `NumPy` array, and then train a machine learning model on it.  \n",
    "Be careful to separate the target variable (which is now encoded in two income columns) from the data before training a model.  \n",
    "Including the output variable, or some derived property of the output variable, into the feature representation is a very common mistake in building supervised machine learning models."
   ]
  },
  {
   "cell_type": "markdown",
   "metadata": {},
   "source": [
    "**WARNING**  \n",
    "Be careful: column indexing in pandas includes the end of the range, so `'age'`:`'occupation_ Transport-moving'` is inclusive of `occupation_` `Transport-moving`.  \n",
    "This is different from slicing a NumPy array, where the end of a range is not included: for example, `np.arange(11)[0:10]` doesn’t include the entry with index 10."
   ]
  },
  {
   "cell_type": "markdown",
   "metadata": {},
   "source": [
    "In this case, we extract only the columns containing features -- that is, all columns from `age` to `occupation_ Transport-moving`.  \n",
    "This range contains all of the features but not the target:"
   ]
  },
  {
   "cell_type": "code",
   "execution_count": 8,
   "metadata": {},
   "outputs": [
    {
     "name": "stdout",
     "output_type": "stream",
     "text": [
      "X[:5]: \n",
      " [[39 40  0  0  0  0  0  0  0  1  0  0  0  0  0  0  0  0  0  0  1  0  0  0\n",
      "   0  0  0  0  1  0  1  0  0  0  0  0  0  0  0  0  0  0  0  0]\n",
      " [50 13  0  0  0  0  0  0  1  0  0  0  0  0  0  0  0  0  0  0  1  0  0  0\n",
      "   0  0  0  0  1  0  0  0  0  1  0  0  0  0  0  0  0  0  0  0]\n",
      " [38 40  0  0  0  0  1  0  0  0  0  0  0  0  0  0  0  0  0  0  0  0  1  0\n",
      "   0  0  0  0  1  0  0  0  0  0  0  1  0  0  0  0  0  0  0  0]\n",
      " [53 40  0  0  0  0  1  0  0  0  0  0  1  0  0  0  0  0  0  0  0  0  0  0\n",
      "   0  0  0  0  1  0  0  0  0  0  0  1  0  0  0  0  0  0  0  0]\n",
      " [28 40  0  0  0  0  1  0  0  0  0  0  0  0  0  0  0  0  0  0  1  0  0  0\n",
      "   0  0  0  1  0  0  0  0  0  0  0  0  0  0  0  1  0  0  0  0]] \n",
      "\n",
      "y[:5]: \n",
      " [0 0 0 0 0] \n",
      "\n",
      "X.shape: (32561, 44)  y.shape: (32561,)\n"
     ]
    }
   ],
   "source": [
    "features = data_dummies.loc[:, 'age':'occupation_ Transport-moving']\n",
    "# Extract NumPy arrays:\n",
    "X = features.values\n",
    "print(\"X[:5]: \\n\", X[:5], \"\\n\")\n",
    "y = data_dummies['income_ >50K'].values\n",
    "print(\"y[:5]: \\n\", y[:5], \"\\n\")\n",
    "print(\"X.shape: {}  y.shape: {}\".format(X.shape, y.shape))"
   ]
  },
  {
   "cell_type": "markdown",
   "metadata": {},
   "source": [
    "Now the data is represented in a way that `scikit-learn` can work with, and we can proceed as usual:"
   ]
  },
  {
   "cell_type": "code",
   "execution_count": 9,
   "metadata": {},
   "outputs": [
    {
     "name": "stdout",
     "output_type": "stream",
     "text": [
      "Test Score: 0.81\n"
     ]
    }
   ],
   "source": [
    "from sklearn.linear_model import LogisticRegression\n",
    "from sklearn.model_selection import train_test_split\n",
    "\n",
    "X_train, X_test, y_train, y_test = train_test_split(X, y,\n",
    "                                                    random_state=0)\n",
    "logreg = LogisticRegression()\n",
    "logreg.fit(X_train, y_train)\n",
    "print(\"Test Score: {:.2f}\".format(logreg.score(X_test, y_test)))"
   ]
  },
  {
   "cell_type": "markdown",
   "metadata": {},
   "source": [
    "**WARNING**  \n",
    "In this example, we called `get_dummies()` on a `DataFrame` containing both the training and the test data.  \n",
    "This is important to ensure categorical values are represented in the same way in the training set and the test set.  \n",
    "Imagine we have the training and test sets in two different `DataFrames`.  \n",
    "If the `\"Private Employee\"` value for the `workclass` feature does not appear in the test set, `pandas` will assume there are only three possible values for this feature and will create only three new dummy features.  \n",
    "Now our training and test sets have different numbers of features, and we can’t apply the model we learned on the training set to the test set anymore.  \n",
    "Even worse, imagine the workclass feature has the values `\"Government Employee\"` and `\"Private Employee\"` in the training set, and `\"Self Employed\"` and `\"Self Employed Incorporated\"` in the test set.  \n",
    "In both cases, `pandas` will create two new dummy features, so the encoded `DataFrames` will have the same number of features.  \n",
    "However, the two dummy features have entirely different meanings in the training and test sets.  \n",
    "The column that means `\"Government Employee\"` for the training set would encode `\"Self Employed\"` for the test set.  \n",
    "If we built a machine learning model on this data it would work very badly, because it would assume the columns mean the same things (because they are in the same position) when in fact they mean very different things.  \n",
    "To fix this, either call `get_dummies()` on a DataFrame that contains both the training and the test data points, or make sure that the column names are the same for the training and test sets after calling `get_dummies()`, to ensure they have the same semantics."
   ]
  },
  {
   "cell_type": "markdown",
   "metadata": {},
   "source": [
    "### Numbers Can Encode Categoricals"
   ]
  },
  {
   "cell_type": "markdown",
   "metadata": {},
   "source": [
    "In the example of the adult dataset, the categorical variables were encoded as strings.  \n",
    "On the one hand, that opens up the possibility of spelling errors, but on the other hand, it clearly marks a variable as categorical.  \n",
    "Often, whether for ease of storage or because of the way the data is collected, categorical variables are encoded as integers.  \n",
    "For example, imagine the census data in the adult dataset was collected using a questionnaire, and the answers for `workclass` were recorded as 0 (first box ticked), 1 (second box ticked), 2 (third box ticked), and so on.  \n",
    "Now the column will contain numbers from 0 to 8, instead of strings like `\"Private\"`, and it won’t be immediately obvious to someone looking at the table representing the dataset whether they should treat this variable as continuous or categorical.  \n",
    "Knowing that the numbers indicate employment status, however, it is clear that these are very distinct states and should not be modeled by a single continuous variable."
   ]
  },
  {
   "cell_type": "markdown",
   "metadata": {},
   "source": [
    "**WARNING**  \n",
    "Categorical features are often encoded using integers.  \n",
    "That they are numbers doesn’t mean that they should necessarily be treated as continuous features.  \n",
    "It is not always clear whether an integer feature should be treated as continuous or discrete (and one-hot-encoded).  \n",
    "If there is no ordering between the semantics that are encoded (like in the `workclass` example), the feature must be treated as discrete.  \n",
    "For other cases, like five-star ratings, the better encoding depends on the particular task and data and which machine learning algorithm is used."
   ]
  },
  {
   "cell_type": "markdown",
   "metadata": {},
   "source": [
    "The `get_dummies()` function in `pandas` treats all numbers as continuous and will not create dummy variables for them.  \n",
    "To get around this, you can either use `scikit-learn`’s [OneHotEncoder](http://scikit-learn.org/stable/modules/generated/sklearn.preprocessing.OneHotEncoder.html), for which you can specify which variables are continuous and which are discrete, or convert numeric columns in the `DataFrame` to strings.  \n",
    "To illustrate, let’s create a `DataFrame` object with two columns, one containing strings and one containing integers:"
   ]
  },
  {
   "cell_type": "code",
   "execution_count": 10,
   "metadata": {},
   "outputs": [
    {
     "data": {
      "text/html": [
       "<div>\n",
       "<style>\n",
       "    .dataframe thead tr:only-child th {\n",
       "        text-align: right;\n",
       "    }\n",
       "\n",
       "    .dataframe thead th {\n",
       "        text-align: left;\n",
       "    }\n",
       "\n",
       "    .dataframe tbody tr th {\n",
       "        vertical-align: top;\n",
       "    }\n",
       "</style>\n",
       "<table border=\"1\" class=\"dataframe\">\n",
       "  <thead>\n",
       "    <tr style=\"text-align: right;\">\n",
       "      <th></th>\n",
       "      <th>Categorical Feature</th>\n",
       "      <th>Integer Feature</th>\n",
       "    </tr>\n",
       "  </thead>\n",
       "  <tbody>\n",
       "    <tr>\n",
       "      <th>0</th>\n",
       "      <td>socks</td>\n",
       "      <td>0</td>\n",
       "    </tr>\n",
       "    <tr>\n",
       "      <th>1</th>\n",
       "      <td>fox</td>\n",
       "      <td>1</td>\n",
       "    </tr>\n",
       "    <tr>\n",
       "      <th>2</th>\n",
       "      <td>socks</td>\n",
       "      <td>2</td>\n",
       "    </tr>\n",
       "    <tr>\n",
       "      <th>3</th>\n",
       "      <td>box</td>\n",
       "      <td>1</td>\n",
       "    </tr>\n",
       "  </tbody>\n",
       "</table>\n",
       "</div>"
      ],
      "text/plain": [
       "  Categorical Feature  Integer Feature\n",
       "0               socks                0\n",
       "1                 fox                1\n",
       "2               socks                2\n",
       "3                 box                1"
      ]
     },
     "metadata": {},
     "output_type": "display_data"
    }
   ],
   "source": [
    "# Create a DataFrame with an integer feature and a categorical\n",
    "# string feature:\n",
    "demo_df = pd.DataFrame({'Integer Feature': [0, 1, 2, 1],\n",
    "                        'Categorical Feature': ['socks',\n",
    "                                                'fox',\n",
    "                                                'socks',\n",
    "                                                'box']})\n",
    "display(demo_df)"
   ]
  },
  {
   "cell_type": "raw",
   "metadata": {},
   "source": [
    "Table 4-4. DataFrame containig categorical string features and integer features"
   ]
  },
  {
   "cell_type": "markdown",
   "metadata": {
    "collapsed": true
   },
   "source": [
    "Using `get_dummies()` will only encode the string feature and will not change the integer feature, as you can see in Table 4-5:"
   ]
  },
  {
   "cell_type": "code",
   "execution_count": 11,
   "metadata": {},
   "outputs": [
    {
     "data": {
      "text/html": [
       "<div>\n",
       "<style>\n",
       "    .dataframe thead tr:only-child th {\n",
       "        text-align: right;\n",
       "    }\n",
       "\n",
       "    .dataframe thead th {\n",
       "        text-align: left;\n",
       "    }\n",
       "\n",
       "    .dataframe tbody tr th {\n",
       "        vertical-align: top;\n",
       "    }\n",
       "</style>\n",
       "<table border=\"1\" class=\"dataframe\">\n",
       "  <thead>\n",
       "    <tr style=\"text-align: right;\">\n",
       "      <th></th>\n",
       "      <th>Integer Feature</th>\n",
       "      <th>Categorical Feature_box</th>\n",
       "      <th>Categorical Feature_fox</th>\n",
       "      <th>Categorical Feature_socks</th>\n",
       "    </tr>\n",
       "  </thead>\n",
       "  <tbody>\n",
       "    <tr>\n",
       "      <th>0</th>\n",
       "      <td>0</td>\n",
       "      <td>0</td>\n",
       "      <td>0</td>\n",
       "      <td>1</td>\n",
       "    </tr>\n",
       "    <tr>\n",
       "      <th>1</th>\n",
       "      <td>1</td>\n",
       "      <td>0</td>\n",
       "      <td>1</td>\n",
       "      <td>0</td>\n",
       "    </tr>\n",
       "    <tr>\n",
       "      <th>2</th>\n",
       "      <td>2</td>\n",
       "      <td>0</td>\n",
       "      <td>0</td>\n",
       "      <td>1</td>\n",
       "    </tr>\n",
       "    <tr>\n",
       "      <th>3</th>\n",
       "      <td>1</td>\n",
       "      <td>1</td>\n",
       "      <td>0</td>\n",
       "      <td>0</td>\n",
       "    </tr>\n",
       "  </tbody>\n",
       "</table>\n",
       "</div>"
      ],
      "text/plain": [
       "   Integer Feature  Categorical Feature_box  Categorical Feature_fox  \\\n",
       "0                0                        0                        0   \n",
       "1                1                        0                        1   \n",
       "2                2                        0                        0   \n",
       "3                1                        1                        0   \n",
       "\n",
       "   Categorical Feature_socks  \n",
       "0                          1  \n",
       "1                          0  \n",
       "2                          1  \n",
       "3                          0  "
      ]
     },
     "metadata": {},
     "output_type": "display_data"
    }
   ],
   "source": [
    "display(pd.get_dummies(demo_df))"
   ]
  },
  {
   "cell_type": "raw",
   "metadata": {},
   "source": [
    "Table 4-5. One-hot-encoded version of the data from Table 4-4, leaving the integer feature unchanged"
   ]
  },
  {
   "cell_type": "markdown",
   "metadata": {},
   "source": [
    "If you want dummy variables to be created for the `\"Integer Feature\"` column, you can explicitly list the columns you want to encode using the `columns` parameter.  \n",
    "Then, both features will be treated as categorical (see Table 4-6):"
   ]
  },
  {
   "cell_type": "code",
   "execution_count": 12,
   "metadata": {},
   "outputs": [
    {
     "data": {
      "text/html": [
       "<div>\n",
       "<style>\n",
       "    .dataframe thead tr:only-child th {\n",
       "        text-align: right;\n",
       "    }\n",
       "\n",
       "    .dataframe thead th {\n",
       "        text-align: left;\n",
       "    }\n",
       "\n",
       "    .dataframe tbody tr th {\n",
       "        vertical-align: top;\n",
       "    }\n",
       "</style>\n",
       "<table border=\"1\" class=\"dataframe\">\n",
       "  <thead>\n",
       "    <tr style=\"text-align: right;\">\n",
       "      <th></th>\n",
       "      <th>Integer Feature_0</th>\n",
       "      <th>Integer Feature_1</th>\n",
       "      <th>Integer Feature_2</th>\n",
       "      <th>Categorical Feature_box</th>\n",
       "      <th>Categorical Feature_fox</th>\n",
       "      <th>Categorical Feature_socks</th>\n",
       "    </tr>\n",
       "  </thead>\n",
       "  <tbody>\n",
       "    <tr>\n",
       "      <th>0</th>\n",
       "      <td>1</td>\n",
       "      <td>0</td>\n",
       "      <td>0</td>\n",
       "      <td>0</td>\n",
       "      <td>0</td>\n",
       "      <td>1</td>\n",
       "    </tr>\n",
       "    <tr>\n",
       "      <th>1</th>\n",
       "      <td>0</td>\n",
       "      <td>1</td>\n",
       "      <td>0</td>\n",
       "      <td>0</td>\n",
       "      <td>1</td>\n",
       "      <td>0</td>\n",
       "    </tr>\n",
       "    <tr>\n",
       "      <th>2</th>\n",
       "      <td>0</td>\n",
       "      <td>0</td>\n",
       "      <td>1</td>\n",
       "      <td>0</td>\n",
       "      <td>0</td>\n",
       "      <td>1</td>\n",
       "    </tr>\n",
       "    <tr>\n",
       "      <th>3</th>\n",
       "      <td>0</td>\n",
       "      <td>1</td>\n",
       "      <td>0</td>\n",
       "      <td>1</td>\n",
       "      <td>0</td>\n",
       "      <td>0</td>\n",
       "    </tr>\n",
       "  </tbody>\n",
       "</table>\n",
       "</div>"
      ],
      "text/plain": [
       "   Integer Feature_0  Integer Feature_1  Integer Feature_2  \\\n",
       "0                  1                  0                  0   \n",
       "1                  0                  1                  0   \n",
       "2                  0                  0                  1   \n",
       "3                  0                  1                  0   \n",
       "\n",
       "   Categorical Feature_box  Categorical Feature_fox  Categorical Feature_socks  \n",
       "0                        0                        0                          1  \n",
       "1                        0                        1                          0  \n",
       "2                        0                        0                          1  \n",
       "3                        1                        0                          0  "
      ]
     },
     "metadata": {},
     "output_type": "display_data"
    }
   ],
   "source": [
    "demo_df['Integer Feature'] = demo_df['Integer Feature'].astype(str)\n",
    "display(pd.get_dummies(demo_df,\n",
    "                       columns=['Integer Feature',\n",
    "                                'Categorical Feature']))"
   ]
  },
  {
   "cell_type": "raw",
   "metadata": {},
   "source": [
    "Table 4-6. One-hot-encoding of the data shown in Table 4-4, encoding the integer and string features."
   ]
  },
  {
   "cell_type": "markdown",
   "metadata": {},
   "source": [
    "## Binning, Discretization, Linear Models, and Trees"
   ]
  },
  {
   "cell_type": "markdown",
   "metadata": {},
   "source": [
    "The best way to represent data depends not only on the semantics of the data, but also on the kind of model you are using.  \n",
    "Linear models and tree-based models (such as decision trees, gradient boosted trees, and random forests), two large and very commonly used families, have very different properties when it comes to how they work with different feature representations.  \n",
    "Let’s go back to the wave regression dataset that we used in Chapter 2.  \n",
    "It has only a single input feature.  \n",
    "Here is a comparison of a linear regression model and a decision tree regressor on this dataset (see Figure 4-1):"
   ]
  },
  {
   "cell_type": "code",
   "execution_count": 13,
   "metadata": {},
   "outputs": [
    {
     "name": "stderr",
     "output_type": "stream",
     "text": [
      "/Users/benjamingrove/.pyenv/versions/3.6.1/lib/python3.6/site-packages/scipy/linalg/basic.py:1018: RuntimeWarning: internal gelsd driver lwork query error, required iwork dimension not returned. This is likely the result of LAPACK bug 0038, fixed in LAPACK 3.2.2 (released July 21, 2010). Falling back to 'gelss' driver.\n",
      "  warnings.warn(mesg, RuntimeWarning)\n"
     ]
    },
    {
     "data": {
      "text/plain": [
       "<matplotlib.legend.Legend at 0x1037660f0>"
      ]
     },
     "execution_count": 13,
     "metadata": {},
     "output_type": "execute_result"
    },
    {
     "data": {
      "image/png": "[encoded data removed]",
      "text/plain": [
       "<matplotlib.figure.Figure at 0x109852278>"
      ]
     },
     "metadata": {},
     "output_type": "display_data"
    }
   ],
   "source": [
    "from sklearn.linear_model import LinearRegression\n",
    "from sklearn.tree import DecisionTreeRegressor\n",
    "\n",
    "X, y = mglearn.datasets.make_wave(n_samples=100)\n",
    "line = np.linspace(-3, 3, 1000, endpoint=False).reshape(-1, 1)\n",
    "\n",
    "reg = DecisionTreeRegressor(min_samples_split=3).fit(X, y)\n",
    "plt.plot(line, reg.predict(line), label='decision tree')\n",
    "\n",
    "reg = LinearRegression().fit(X, y)\n",
    "plt.plot(line, reg.predict(line), label='linear regression')\n",
    "\n",
    "plt.plot(X[:, 0], y, 'o', c='k')\n",
    "plt.ylabel(\"Regression Output\")\n",
    "plt.xlabel(\"Input Feature\")\n",
    "plt.legend(loc=\"best\")"
   ]
  },
  {
   "cell_type": "raw",
   "metadata": {},
   "source": [
    "Figure 4-1. Comparing linear regression and a decision tree on the wave dataset"
   ]
  },
  {
   "cell_type": "markdown",
   "metadata": {},
   "source": [
    "As you know, linear models can only model linear relationships, which are lines in the case of a single feature.  \n",
    "The decision tree can build a much more complex model of the data.  \n",
    "However, this is strongly dependent on the representation of the data.  \n",
    "One way to make linear models more powerful on continuous data is to use [binning (also known as discretization)](https://en.wikipedia.org/wiki/Discretization) of the feature to split it up into multiple features, as described here."
   ]
  },
  {
   "cell_type": "markdown",
   "metadata": {},
   "source": [
    "We imagine a partition of the input range for the feature (in this case, the numbers from –3 to 3) into a fixed number of *bins* -- say, 10.  \n",
    "A data point will then be represented by which bin it falls into.  \n",
    "To determine this, we first have to define the bins.  \n",
    "In this case, we’ll define 10 bins equally spaced between –3 and 3.  \n",
    "We use the np.linspace function for this, creating 11 entries, which will create 10 bins -- they are the spaces in between two consecutive boundaries:"
   ]
  },
  {
   "cell_type": "code",
   "execution_count": 14,
   "metadata": {},
   "outputs": [
    {
     "name": "stdout",
     "output_type": "stream",
     "text": [
      "bins: [-3.  -2.4 -1.8 -1.2 -0.6  0.   0.6  1.2  1.8  2.4  3. ]\n"
     ]
    }
   ],
   "source": [
    "bins = np.linspace(-3, 3, 11)\n",
    "print(\"bins: {}\".format(bins))"
   ]
  },
  {
   "cell_type": "markdown",
   "metadata": {},
   "source": [
    "Here, the first bin contains all data points with feature values –3 to –2.4, the second bin contains all points with feature values from –2.4 to –1.8, and so on.  \n",
    "Next, we record for each data point which bin it falls into.  \n",
    "This can be easily computed using the `np.digitize()` function:"
   ]
  },
  {
   "cell_type": "code",
   "execution_count": 15,
   "metadata": {},
   "outputs": [
    {
     "name": "stdout",
     "output_type": "stream",
     "text": [
      "\n",
      "Data Points:\n",
      " [[-0.75275929]\n",
      " [ 2.70428584]\n",
      " [ 1.39196365]\n",
      " [ 0.59195091]\n",
      " [-2.06388816]]\n",
      "\n",
      "Bin Membership for Data Points:\n",
      " [[ 4]\n",
      " [10]\n",
      " [ 8]\n",
      " [ 6]\n",
      " [ 2]]\n"
     ]
    }
   ],
   "source": [
    "which_bin = np.digitize(X, bins=bins)\n",
    "print(\"\\nData Points:\\n\", X[:5])\n",
    "print(\"\\nBin Membership for Data Points:\\n\", which_bin[:5])"
   ]
  },
  {
   "cell_type": "markdown",
   "metadata": {
    "collapsed": true
   },
   "source": [
    "What we did here is transform the single continuous input feature in the wave dataset into a categorical feature that encodes which bin a data point is in.  \n",
    "To use a `scikit-learn` model on this data, we transform this discrete feature to a one-hot encoding using the `OneHotEncoder` from the preprocessing module.  \n",
    "The `OneHotEncoder` does the same encoding as `pandas.get_dummies()`, though it currently only works on categorical variables that are integers:"
   ]
  },
  {
   "cell_type": "code",
   "execution_count": 16,
   "metadata": {},
   "outputs": [
    {
     "name": "stdout",
     "output_type": "stream",
     "text": [
      "[[ 0.  0.  0.  1.  0.  0.  0.  0.  0.  0.]\n",
      " [ 0.  0.  0.  0.  0.  0.  0.  0.  0.  1.]\n",
      " [ 0.  0.  0.  0.  0.  0.  0.  1.  0.  0.]\n",
      " [ 0.  0.  0.  0.  0.  1.  0.  0.  0.  0.]\n",
      " [ 0.  1.  0.  0.  0.  0.  0.  0.  0.  0.]]\n"
     ]
    }
   ],
   "source": [
    "from sklearn.preprocessing import OneHotEncoder\n",
    "\n",
    "# Transform data using the OneHotEncoder:\n",
    "encoder = OneHotEncoder(sparse=False)\n",
    "# Use encoder.fit to find the unique values that appear\n",
    "# in which_bin:\n",
    "encoder.fit(which_bin)\n",
    "# Transform creates the one-hot encoding:\n",
    "X_binned = encoder.transform(which_bin)\n",
    "print(X_binned[:5])"
   ]
  },
  {
   "cell_type": "markdown",
   "metadata": {},
   "source": [
    "Because we specified 10 bins, the transformed dataset `X_binned` now is made up of 10 features:"
   ]
  },
  {
   "cell_type": "code",
   "execution_count": 17,
   "metadata": {},
   "outputs": [
    {
     "name": "stdout",
     "output_type": "stream",
     "text": [
      "X_binned.shape: (100, 10)\n"
     ]
    }
   ],
   "source": [
    "print(\"X_binned.shape: {}\".format(X_binned.shape))"
   ]
  },
  {
   "cell_type": "markdown",
   "metadata": {},
   "source": [
    "Now we can build a new linear regression model and a new decision tree model on the one-hot-encoded data.  \n",
    "The result is visualized in Figure 4-2, together with the bin boundaries, shown as dotted black lines:"
   ]
  },
  {
   "cell_type": "code",
   "execution_count": 18,
   "metadata": {},
   "outputs": [
    {
     "data": {
      "text/plain": [
       "<matplotlib.text.Text at 0x1043c22e8>"
      ]
     },
     "execution_count": 18,
     "metadata": {},
     "output_type": "execute_result"
    },
    {
     "data": {
      "image/png": "[encoded data removed]",
      "text/plain": [
       "<matplotlib.figure.Figure at 0x1037994a8>"
      ]
     },
     "metadata": {},
     "output_type": "display_data"
    }
   ],
   "source": [
    "line_binned = encoder.transform(np.digitize(line, bins=bins))\n",
    "\n",
    "reg = LinearRegression().fit(X_binned, y)\n",
    "plt.plot(line, reg.predict(line_binned),\n",
    "         label=\"Linear Regression Binned\")\n",
    "\n",
    "reg = DecisionTreeRegressor(min_samples_split=3).fit(X_binned, y)\n",
    "plt.plot(line, reg.predict(line_binned),\n",
    "         label=\"Decision Tree Binned\")\n",
    "\n",
    "plt.plot(X[:, 0], y, 'o', c='k')\n",
    "plt.vlines(bins, -3, 3, linewidth=1, alpha=.2)\n",
    "plt.legend(loc=\"best\")\n",
    "plt.ylabel(\"Regression Output\")\n",
    "plt.xlabel(\"Input Feature\")"
   ]
  },
  {
   "cell_type": "raw",
   "metadata": {},
   "source": [
    "Figure 4-2. Comparing linear regression and decision tree regression on binned features. The lines for linear regression and decision tree regression are exactly on top of one another."
   ]
  },
  {
   "cell_type": "markdown",
   "metadata": {},
   "source": [
    "The dashed line and solid line are exactly on top of each other, meaning the linear regression model and the decision tree make exactly the same predictions.  \n",
    "For each bin, they predict a constant value.  \n",
    "As features are constant within each bin, any model must predict the same value for all points within a bin.  \n",
    "Comparing what the models learned before binning the features and after, we see that the linear model became much more flexible, because it now has a different value for each bin, while the decision tree model got much less flexible."
   ]
  },
  {
   "cell_type": "markdown",
   "metadata": {},
   "source": [
    "Binning features generally has no beneficial effect for tree-based models, as these models can learn to split up the data anywhere.  \n",
    "In a sense, that means decision trees can learn whatever binning is most useful for predicting on this data.  \n",
    "Additionally, decision trees look at multiple features at once, while binning is usually done on a per-feature basis.  \n",
    "However, the linear model benefited greatly in expressiveness from the transformation of the data.  \n",
    "If there are good reasons to use a linear model for a particular dataset -- say, because it is very large and high-dimensional, but some features have nonlinear relations with the output -- binning can be a great way to increase modeling power."
   ]
  },
  {
   "cell_type": "markdown",
   "metadata": {},
   "source": [
    "## Interactions and Polynomials"
   ]
  },
  {
   "cell_type": "markdown",
   "metadata": {
    "collapsed": true
   },
   "source": [
    "Another way to enrich a feature representation, particularly for linear models, is adding interaction features and polynomial features of the original data.  \n",
    "This kind of feature engineering is often used in statistical modeling, but it’s also common in many practical machine learning applications."
   ]
  },
  {
   "cell_type": "markdown",
   "metadata": {},
   "source": [
    "As a first example, look again at Figure 4-2.  \n",
    "The linear model learned a constant value for each bin in the wave dataset.  \n",
    "We know, however, that linear models can learn not only offsets, but also slopes.  \n",
    "One way to add a slope to the linear model on the binned data is to add the original feature (the x-axis in the plot) back in.  \n",
    "This leads to an 11-dimensional dataset, as seen in Figure 4-3:"
   ]
  },
  {
   "cell_type": "code",
   "execution_count": 19,
   "metadata": {},
   "outputs": [
    {
     "name": "stdout",
     "output_type": "stream",
     "text": [
      "(100, 11)\n"
     ]
    }
   ],
   "source": [
    "X_combined = np.hstack([X, X_binned])\n",
    "print(X_combined.shape)"
   ]
  },
  {
   "cell_type": "code",
   "execution_count": 20,
   "metadata": {},
   "outputs": [
    {
     "data": {
      "text/plain": [
       "[<matplotlib.lines.Line2D at 0x109fc1be0>]"
      ]
     },
     "execution_count": 20,
     "metadata": {},
     "output_type": "execute_result"
    },
    {
     "data": {
      "image/png": "[encoded data removed]",
      "text/plain": [
       "<matplotlib.figure.Figure at 0x1037995f8>"
      ]
     },
     "metadata": {},
     "output_type": "display_data"
    }
   ],
   "source": [
    "reg = LinearRegression().fit(X_combined, y)\n",
    "\n",
    "line_combined = np.hstack([line, line_binned])\n",
    "plt.plot(line, reg.predict(line_combined),\n",
    "         label=\"Linear Regression Combined\")\n",
    "\n",
    "for bin in bins:\n",
    "    plt.plot([bin, bin], [-3, 3], ':', c='k', linewidth=1)\n",
    "plt.legend(loc=\"best\")\n",
    "plt.ylabel(\"Regression Output\")\n",
    "plt.xlabel(\"Input Feature\")\n",
    "plt.plot(X[:, 0], y, 'o', c='k')"
   ]
  },
  {
   "cell_type": "raw",
   "metadata": {},
   "source": [
    "Figure 4-3. Linear Regression using binned features and a single global scope"
   ]
  },
  {
   "cell_type": "markdown",
   "metadata": {},
   "source": [
    "In this example, the model learned an offset for each bin, together with a slope.  \n",
    "The learned slope is downward, and shared across all the bins --there is a single x-axis feature, which has a single slope.  \n",
    "Because the slope is shared across all bins, it doesn’t seem to be very helpful.  \n",
    "We would rather have a separate slope for each bin!  \n",
    "We can achieve this by adding an interaction or product feature that indicates which bin a data point is in and where it lies on the x-axis.  \n",
    "This feature is a product of the bin indicator and the original feature.  \n",
    "Let’s create this dataset:"
   ]
  },
  {
   "cell_type": "code",
   "execution_count": 21,
   "metadata": {},
   "outputs": [
    {
     "name": "stdout",
     "output_type": "stream",
     "text": [
      "(100, 20)\n"
     ]
    }
   ],
   "source": [
    "X_product = np.hstack([X_binned, X * X_binned])\n",
    "print(X_product.shape)"
   ]
  },
  {
   "cell_type": "markdown",
   "metadata": {},
   "source": [
    "The dataset now has 20 features: the indicators for which bin a data point is in, and a product of the original feature and the bin indicator.  \n",
    "You can think of the product feature as a separate copy of the x-axis feature for each bin.  \n",
    "It is the original feature within the bin, and zero everywhere else.  \n",
    "Figure 4-4 shows the result of the linear model on this new representation:"
   ]
  },
  {
   "cell_type": "code",
   "execution_count": 22,
   "metadata": {},
   "outputs": [
    {
     "data": {
      "text/plain": [
       "<matplotlib.legend.Legend at 0x103ead5c0>"
      ]
     },
     "execution_count": 22,
     "metadata": {},
     "output_type": "execute_result"
    },
    {
     "data": {
      "image/png": "[encoded data removed]",
      "text/plain": [
       "<matplotlib.figure.Figure at 0x109ff0d30>"
      ]
     },
     "metadata": {},
     "output_type": "display_data"
    }
   ],
   "source": [
    "reg = LinearRegression().fit(X_product, y)\n",
    "\n",
    "line_product = np.hstack([line_binned, line * line_binned])\n",
    "plt.plot(line, reg.predict(line_product),\n",
    "         label=\"Linear Regression Product\")\n",
    "\n",
    "for bin in bins:\n",
    "    plt.plot([bin, bin], [-3, 3], ':', c='k', linewidth=1)\n",
    "    \n",
    "plt.plot(X[:, 0], y, 'o', c='k')\n",
    "plt.ylabel(\"Regression Output\")\n",
    "plt.xlabel(\"Input Features\")\n",
    "plt.legend()"
   ]
  },
  {
   "cell_type": "raw",
   "metadata": {},
   "source": [
    "Figure 4-4. Linear regression with a separate slope per bin"
   ]
  },
  {
   "cell_type": "markdown",
   "metadata": {},
   "source": [
    "As you can see, now each bin has its own offset and slope in this model.  \n",
    "Using binning is one way to expand a continuous feature.  \n",
    "Another one is to use [polynomials](https://en.wikipedia.org/wiki/Polynomial) of the original features.  \n",
    "For a given feature `x`, we might want to consider `x ** 2`, `x ** 3`, `x ** 4`, and so on.  \n",
    "This is implemented in PolynomialFeatures in the preprocessing module:"
   ]
  },
  {
   "cell_type": "code",
   "execution_count": 23,
   "metadata": {
    "collapsed": true
   },
   "outputs": [],
   "source": [
    "from sklearn.preprocessing import PolynomialFeatures\n",
    "# Include polynomials up to x ** 10.\n",
    "# The default \"include_bias=True\" adds a feature that's\n",
    "# constantly 1.\n",
    "poly = PolynomialFeatures(degree=10, include_bias=False)\n",
    "poly.fit(X)\n",
    "X_poly = poly.transform(X)"
   ]
  },
  {
   "cell_type": "markdown",
   "metadata": {},
   "source": [
    "Using a degree of 10 yields 10 features:"
   ]
  },
  {
   "cell_type": "code",
   "execution_count": 24,
   "metadata": {},
   "outputs": [
    {
     "name": "stdout",
     "output_type": "stream",
     "text": [
      "X_poly.shape: (100, 10)\n"
     ]
    }
   ],
   "source": [
    "print(\"X_poly.shape: {}\".format(X_poly.shape))"
   ]
  },
  {
   "cell_type": "markdown",
   "metadata": {},
   "source": [
    "Let's compare the entries of X_poly to those of X:"
   ]
  },
  {
   "cell_type": "code",
   "execution_count": 25,
   "metadata": {},
   "outputs": [
    {
     "name": "stdout",
     "output_type": "stream",
     "text": [
      "Entries of X: \n",
      "[[-0.75275929]\n",
      " [ 2.70428584]\n",
      " [ 1.39196365]\n",
      " [ 0.59195091]\n",
      " [-2.06388816]]\n"
     ]
    }
   ],
   "source": [
    "print(\"Entries of X: \\n{}\".format(X[:5]))"
   ]
  },
  {
   "cell_type": "code",
   "execution_count": 26,
   "metadata": {},
   "outputs": [
    {
     "name": "stdout",
     "output_type": "stream",
     "text": [
      "Entries of X_poly: \n",
      "[[ -7.52759287e-01   5.66646544e-01  -4.26548448e-01   3.21088306e-01\n",
      "   -2.41702204e-01   1.81943579e-01  -1.36959719e-01   1.03097700e-01\n",
      "   -7.76077513e-02   5.84199555e-02]\n",
      " [  2.70428584e+00   7.31316190e+00   1.97768801e+01   5.34823369e+01\n",
      "    1.44631526e+02   3.91124988e+02   1.05771377e+03   2.86036036e+03\n",
      "    7.73523202e+03   2.09182784e+04]\n",
      " [  1.39196365e+00   1.93756281e+00   2.69701700e+00   3.75414962e+00\n",
      "    5.22563982e+00   7.27390068e+00   1.01250053e+01   1.40936394e+01\n",
      "    1.96178338e+01   2.73073115e+01]\n",
      " [  5.91950905e-01   3.50405874e-01   2.07423074e-01   1.22784277e-01\n",
      "    7.26822637e-02   4.30243318e-02   2.54682921e-02   1.50759786e-02\n",
      "    8.92423917e-03   5.28271146e-03]\n",
      " [ -2.06388816e+00   4.25963433e+00  -8.79140884e+00   1.81444846e+01\n",
      "   -3.74481869e+01   7.72888694e+01  -1.59515582e+02   3.29222321e+02\n",
      "   -6.79478050e+02   1.40236670e+03]]\n"
     ]
    }
   ],
   "source": [
    "print(\"Entries of X_poly: \\n{}\".format(X_poly[:5]))"
   ]
  },
  {
   "cell_type": "markdown",
   "metadata": {},
   "source": [
    "You can obtain the semantics of the features by calling the `get_feature_names()` method, which provides the exponent for each feature:"
   ]
  },
  {
   "cell_type": "code",
   "execution_count": 27,
   "metadata": {},
   "outputs": [
    {
     "name": "stdout",
     "output_type": "stream",
     "text": [
      "Polynomial feature names: \n",
      "['x0', 'x0^2', 'x0^3', 'x0^4', 'x0^5', 'x0^6', 'x0^7', 'x0^8', 'x0^9', 'x0^10']\n"
     ]
    }
   ],
   "source": [
    "print(\"Polynomial feature names: \\n{}\".format(\n",
    "      poly.get_feature_names()))"
   ]
  },
  {
   "cell_type": "markdown",
   "metadata": {},
   "source": [
    "You can see that the first column of `X_poly` corresponds exactly to `X`, while the other columns are the powers of the first entry.  \n",
    "It’s interesting to see how large some of the values can get.  \n",
    "The second row has entries above 20,000, orders of magnitude different from the rest.  \n",
    "Using polynomial features together with a linear regression model yields the classical model of [polynomial regression](https://en.wikipedia.org/wiki/Polynomial_regression) (see Figure 4-5):"
   ]
  },
  {
   "cell_type": "code",
   "execution_count": 28,
   "metadata": {},
   "outputs": [
    {
     "data": {
      "text/plain": [
       "<matplotlib.legend.Legend at 0x10d8f3cc0>"
      ]
     },
     "execution_count": 28,
     "metadata": {},
     "output_type": "execute_result"
    },
    {
     "data": {
      "image/png": "[encoded data removed]",
      "text/plain": [
       "<matplotlib.figure.Figure at 0x109eec828>"
      ]
     },
     "metadata": {},
     "output_type": "display_data"
    }
   ],
   "source": [
    "reg = LinearRegression().fit(X_poly, y)\n",
    "line_poly = poly.transform(line)\n",
    "\n",
    "plt.plot(line, reg.predict(line_poly),\n",
    "         label=\"Polynomial Linear Regression\")\n",
    "plt.plot(X[:, 0], y, 'o', c='k')\n",
    "plt.ylabel(\"Regression Output\")\n",
    "plt.xlabel(\"Input Feature\")\n",
    "plt.legend()"
   ]
  },
  {
   "cell_type": "raw",
   "metadata": {},
   "source": [
    "Figure 4-5. Linear regression with tenth-degree polynomial features"
   ]
  },
  {
   "cell_type": "markdown",
   "metadata": {},
   "source": [
    "As you can see, polynomial features yield a very smooth fit on this one-dimensional data.  \n",
    "However, polynomials of high degree tend to behave in extreme ways on the boundaries or in regions with little data.  \n",
    "As a comparison, here is a kernel SVM model learned on the original data, without any transformation (see Figure 4-6):"
   ]
  },
  {
   "cell_type": "code",
   "execution_count": 29,
   "metadata": {},
   "outputs": [
    {
     "data": {
      "text/plain": [
       "<matplotlib.legend.Legend at 0x10d904e48>"
      ]
     },
     "execution_count": 29,
     "metadata": {},
     "output_type": "execute_result"
    },
    {
     "data": {
      "image/png": "[encoded data removed]",
      "text/plain": [
       "<matplotlib.figure.Figure at 0x10d904d30>"
      ]
     },
     "metadata": {},
     "output_type": "display_data"
    }
   ],
   "source": [
    "from sklearn.svm import SVR\n",
    "\n",
    "for gamma in [1, 10]:\n",
    "    svr = SVR(gamma=gamma).fit(X, y)\n",
    "    plt.plot(line, svr.predict(line),\n",
    "             label=\"SVR gamma={}\".format(gamma))\n",
    "    \n",
    "plt.plot(X[:, 0], y, 'o', c='k')\n",
    "plt.ylabel(\"Regression Output\")\n",
    "plt.xlabel(\"Input Feature\")\n",
    "plt.legend()"
   ]
  },
  {
   "cell_type": "raw",
   "metadata": {},
   "source": [
    "Figure 4-6. Comparison of different gamma parameters for an SVM with RBF kernel"
   ]
  },
  {
   "cell_type": "markdown",
   "metadata": {},
   "source": [
    "Using a more complex model, a kernel SVM, we are able to learn a similarly complex prediction to the polynomial regression without an explicit transformation of the features."
   ]
  },
  {
   "cell_type": "markdown",
   "metadata": {},
   "source": [
    "As a more realistic application of interactions and polynomials, let’s look again at the Boston Housing dataset.  \n",
    "We already used polynomial features on this dataset in Chapter 2.  \n",
    "Now let’s have a look at how these features were constructed, and at how much the polynomial features help.  \n",
    "First we load the data, and rescale it to between 0 and 1 using `MinMaxScaler`:"
   ]
  },
  {
   "cell_type": "code",
   "execution_count": 30,
   "metadata": {
    "collapsed": true
   },
   "outputs": [],
   "source": [
    "from sklearn.datasets import load_boston\n",
    "from sklearn.model_selection import train_test_split\n",
    "from sklearn.preprocessing import MinMaxScaler\n",
    "\n",
    "boston = load_boston()\n",
    "X_train, X_test, y_train, y_test = train_test_split(\n",
    "    boston.data, boston.target, random_state=0)\n",
    "# Rescale the data:\n",
    "scaler = MinMaxScaler()\n",
    "X_train_scaled = scaler.fit_transform(X_train)\n",
    "X_test_scaled = scaler.transform(X_test)"
   ]
  },
  {
   "cell_type": "markdown",
   "metadata": {},
   "source": [
    "Now we extract polynomial features and interactions up to a degree of 2:"
   ]
  },
  {
   "cell_type": "code",
   "execution_count": 31,
   "metadata": {},
   "outputs": [
    {
     "name": "stdout",
     "output_type": "stream",
     "text": [
      "X_train.shape: (379, 13)\n",
      "X_train_poly.shape: (379, 105)\n"
     ]
    }
   ],
   "source": [
    "poly = PolynomialFeatures(degree=2).fit(X_train_scaled)\n",
    "X_train_poly = poly.transform(X_train_scaled)\n",
    "X_test_poly = poly.transform(X_test_scaled)\n",
    "print(\"X_train.shape: {}\".format(X_train.shape))\n",
    "print(\"X_train_poly.shape: {}\".format(X_train_poly.shape))"
   ]
  },
  {
   "cell_type": "markdown",
   "metadata": {},
   "source": [
    "The data originally had 13 features, which were expanded into 105 interaction features.  \n",
    "These new features represent all possible interactions between two different original features, as well as the square of each original feature.  \n",
    "`degree=2` here means that we look at all features that are the product of up to two original features.  \n",
    "The exact correspondence between input and output features can be found using the `get_feature_names()` method:"
   ]
  },
  {
   "cell_type": "code",
   "execution_count": 32,
   "metadata": {},
   "outputs": [
    {
     "name": "stdout",
     "output_type": "stream",
     "text": [
      "Polynomial Feature Names: \n",
      "['1', 'x0', 'x1', 'x2', 'x3', 'x4', 'x5', 'x6', 'x7', 'x8', 'x9', 'x10', 'x11', 'x12', 'x0^2', 'x0 x1', 'x0 x2', 'x0 x3', 'x0 x4', 'x0 x5', 'x0 x6', 'x0 x7', 'x0 x8', 'x0 x9', 'x0 x10', 'x0 x11', 'x0 x12', 'x1^2', 'x1 x2', 'x1 x3', 'x1 x4', 'x1 x5', 'x1 x6', 'x1 x7', 'x1 x8', 'x1 x9', 'x1 x10', 'x1 x11', 'x1 x12', 'x2^2', 'x2 x3', 'x2 x4', 'x2 x5', 'x2 x6', 'x2 x7', 'x2 x8', 'x2 x9', 'x2 x10', 'x2 x11', 'x2 x12', 'x3^2', 'x3 x4', 'x3 x5', 'x3 x6', 'x3 x7', 'x3 x8', 'x3 x9', 'x3 x10', 'x3 x11', 'x3 x12', 'x4^2', 'x4 x5', 'x4 x6', 'x4 x7', 'x4 x8', 'x4 x9', 'x4 x10', 'x4 x11', 'x4 x12', 'x5^2', 'x5 x6', 'x5 x7', 'x5 x8', 'x5 x9', 'x5 x10', 'x5 x11', 'x5 x12', 'x6^2', 'x6 x7', 'x6 x8', 'x6 x9', 'x6 x10', 'x6 x11', 'x6 x12', 'x7^2', 'x7 x8', 'x7 x9', 'x7 x10', 'x7 x11', 'x7 x12', 'x8^2', 'x8 x9', 'x8 x10', 'x8 x11', 'x8 x12', 'x9^2', 'x9 x10', 'x9 x11', 'x9 x12', 'x10^2', 'x10 x11', 'x10 x12', 'x11^2', 'x11 x12', 'x12^2']\n"
     ]
    }
   ],
   "source": [
    "print(\"Polynomial Feature Names: \\n{}\".format(\n",
    "    poly.get_feature_names()))"
   ]
  },
  {
   "cell_type": "markdown",
   "metadata": {},
   "source": [
    "The first new feature is a constant feature, called `\"1\"` here. The next 13 features are the original features (called `\"x0\"` to `\"x12\"`).  \n",
    "Then follows the first feature squared (`\"x0^2\"`) and combinations of the first and the other features."
   ]
  },
  {
   "cell_type": "markdown",
   "metadata": {},
   "source": [
    "Let’s compare the performance using `Ridge` on the data with and without interactions:"
   ]
  },
  {
   "cell_type": "code",
   "execution_count": 33,
   "metadata": {},
   "outputs": [
    {
     "name": "stdout",
     "output_type": "stream",
     "text": [
      "Score without interactions: 0.621\n",
      "Score with interactions: 0.753\n"
     ]
    }
   ],
   "source": [
    "from sklearn.linear_model import Ridge\n",
    "\n",
    "ridge = Ridge().fit(X_train_scaled, y_train)\n",
    "print(\"Score without interactions: {:.3f}\".format(\n",
    "    ridge.score(X_test_scaled, y_test)))\n",
    "\n",
    "ridge = Ridge().fit(X_train_poly, y_train)\n",
    "print(\"Score with interactions: {:.3f}\".format(\n",
    "    ridge.score(X_test_poly, y_test)))"
   ]
  },
  {
   "cell_type": "markdown",
   "metadata": {},
   "source": [
    "Clearly, the interactions and polynomial features gave us a good boost inperformance when using `Ridge`.  \n",
    "When using a more complex model like a random forest, the story is a bit different:"
   ]
  },
  {
   "cell_type": "code",
   "execution_count": 34,
   "metadata": {},
   "outputs": [
    {
     "name": "stdout",
     "output_type": "stream",
     "text": [
      "Score without interactions: 0.806\n",
      "Score with interactions: 0.761\n"
     ]
    }
   ],
   "source": [
    "from sklearn.ensemble import RandomForestRegressor\n",
    "\n",
    "rf = RandomForestRegressor(n_estimators=100).fit(\n",
    "    X_train_scaled, y_train)\n",
    "print(\"Score without interactions: {:.3f}\".format(\n",
    "    rf.score(X_test_scaled, y_test)))\n",
    "\n",
    "rf = RandomForestRegressor(n_estimators=100).fit(\n",
    "    X_train_poly, y_train)\n",
    "print(\"Score with interactions: {:.3f}\".format(\n",
    "    rf.score(X_test_poly, y_test)))"
   ]
  },
  {
   "cell_type": "markdown",
   "metadata": {},
   "source": [
    "You can see that even without additional features, the random forest beats the performance of `Ridge`.  \n",
    "Adding interactions and polynomials actually decreases performance slightly."
   ]
  },
  {
   "cell_type": "markdown",
   "metadata": {},
   "source": [
    "## Univariate Nonlinear Transformations"
   ]
  },
  {
   "cell_type": "markdown",
   "metadata": {},
   "source": [
    "We just saw that adding squared or cubed features can help linear models for regression.  \n",
    "There are other transformations that often prove useful for transforming certain features: in particular, applying mathematical functions like `log()`, `exp()`, or `sin()`.  \n",
    "While tree-based models only care about the ordering of the features, linear models and neural networks are very tied to the scale and distribution of each feature, and if there is a nonlinear relation between the feature and the target, that becomes hard to model -- particularly in regression.  \n",
    "The functions `log()` and `exp()` can help by adjusting the relative scales in the data so that they can be captured better by a linear model or neural network.  \n",
    "We saw an application of that in Chapter 2 with the memory price data.  \n",
    "The `sin()` and `cos()` functions can come in handy when dealing with data that encodes periodic patterns."
   ]
  },
  {
   "cell_type": "markdown",
   "metadata": {},
   "source": [
    "Most models work best when each feature (and in regression also the target) is loosely Gaussian distributed -- that is, a histogram of each feature should have something resembling the familiar \"bell curve\" shape.  \n",
    "Using transformations like `log()` and `exp()` is a hacky but simple and efficient way to achieve this.  \n",
    "A particularly common case when such a transformation can be helpful is when dealing with integer count data.  \n",
    "By count data, we mean features like \"how often did user A log in?\"  \n",
    "Counts are never negative, and often follow particular statistical patterns.  \n",
    "We are using a synthetic dataset of counts here that has properties similar to those you can find in the wild.  \n",
    "The features are all integer-valued, while the response is continuous:"
   ]
  },
  {
   "cell_type": "code",
   "execution_count": 35,
   "metadata": {
    "collapsed": true
   },
   "outputs": [],
   "source": [
    "rnd = np.random.RandomState(0)\n",
    "X_org = rnd.normal(size=(1000, 3))\n",
    "w = rnd.normal(size=3)\n",
    "\n",
    "# The Poisson distribution is a discrete probability distribution\n",
    "# that expresses the probability of a given number of events \n",
    "# occurring in a fixed interval of time and/or space if these \n",
    "# events occur with a known constant rate and independently of\n",
    "# the time since the last event.\n",
    "X = rnd.poisson(10 * np.exp(X_org))\n",
    "y = np.dot(X_org, w)"
   ]
  },
  {
   "cell_type": "markdown",
   "metadata": {},
   "source": [
    "Let’s look at the first 10 entries of the first feature.  \n",
    "All are integer values and positive, but apart from that it’s hard to make out a particular pattern.  \n",
    "If we count the appearance of each value, the distribution of values becomes clearer:"
   ]
  },
  {
   "cell_type": "code",
   "execution_count": 36,
   "metadata": {},
   "outputs": [
    {
     "name": "stdout",
     "output_type": "stream",
     "text": [
      "Number of Feature Appearances: \n",
      "[28 38 68 48 61 59 45 56 37 40 35 34 36 26 23 26 27 21 23 23 18 21 10  9 17\n",
      "  9  7 14 12  7  3  8  4  5  5  3  4  2  4  1  1  3  2  5  3  8  2  5  2  1\n",
      "  2  3  3  2  2  3  3  0  1  2  1  0  0  3  1  0  0  0  1  3  0  1  0  2  0\n",
      "  1  1  0  0  0  0  1  0  0  2  2  0  1  1  0  0  0  0  1  1  0  0  0  0  0\n",
      "  0  0  1  0  0  0  0  0  1  1  0  0  1  0  0  0  0  0  0  0  1  0  0  0  0\n",
      "  1  0  0  0  0  0  0  0  0  0  0  0  0  0  0  1]\n"
     ]
    }
   ],
   "source": [
    "print(\"Number of Feature Appearances: \\n{}\".format(\n",
    "    np.bincount(X[:, 0])))"
   ]
  },
  {
   "cell_type": "markdown",
   "metadata": {},
   "source": [
    "The value 2 seems to be the most common, with 68 appearances (`bincount` always starts at 0), and the counts for higher values fall quickly.  \n",
    "However, there are some very high values, like 84 and 85, that are appearing twice.  \n",
    "We visualize the counts in Figure 4-7:"
   ]
  },
  {
   "cell_type": "code",
   "execution_count": 37,
   "metadata": {},
   "outputs": [
    {
     "data": {
      "text/plain": [
       "<matplotlib.text.Text at 0x10db60f28>"
      ]
     },
     "execution_count": 37,
     "metadata": {},
     "output_type": "execute_result"
    },
    {
     "data": {
      "image/png": "[encoded data removed]",
      "text/plain": [
       "<matplotlib.figure.Figure at 0x10aee8c88>"
      ]
     },
     "metadata": {},
     "output_type": "display_data"
    }
   ],
   "source": [
    "bins = np.bincount(X[:, 0])\n",
    "plt.bar(range(len(bins)), bins, color='r')\n",
    "plt.ylabel(\"Number of Appearances\")\n",
    "plt.xlabel(\"Value\")"
   ]
  },
  {
   "cell_type": "raw",
   "metadata": {},
   "source": [
    "Figure 4-7. Histogram of feature values for X[0]"
   ]
  },
  {
   "cell_type": "markdown",
   "metadata": {},
   "source": [
    "Features `X[:, 1]` and `X[:, 2]` have similar properties.  \n",
    "This kind of distribution of values (many small ones and a few very large ones) is very common in practice.  \n",
    "However, it is something most linear models can’t handle very well.  \n",
    "Let’s try to fit a ridge regression to this model:"
   ]
  },
  {
   "cell_type": "code",
   "execution_count": 38,
   "metadata": {},
   "outputs": [
    {
     "name": "stdout",
     "output_type": "stream",
     "text": [
      "Test score: 0.622\n"
     ]
    }
   ],
   "source": [
    "from sklearn.linear_model import Ridge\n",
    "\n",
    "X_train, X_test, y_train, y_test = train_test_split(\n",
    "                                X, y, random_state=0)\n",
    "score = Ridge().fit(X_train, y_train).score(X_test, y_test)\n",
    "print(\"Test score: {:.3f}\".format(score))"
   ]
  },
  {
   "cell_type": "markdown",
   "metadata": {},
   "source": [
    "As you can see from the relatively low $R^2$ score, `Ridge` was not able to really capture the relationship between `X` and `y`.  \n",
    "Applying a logarithmic transformation can help, though.  \n",
    "Because the value 0 appears in the data (and the logarithm is not defined at 0), we can’t actually just apply `log()`, but we have to compute `log(X + 1)`:"
   ]
  },
  {
   "cell_type": "code",
   "execution_count": 39,
   "metadata": {},
   "outputs": [
    {
     "name": "stdout",
     "output_type": "stream",
     "text": [
      "First entries of X_test: \n",
      "[[10  7 22]\n",
      " [16  5  4]\n",
      " [ 2 51  7]\n",
      " [11 24 14]\n",
      " [16 16  0]]\n",
      "\n",
      "First entries of X_test_log: \n",
      "[[ 2.39789527  2.07944154  3.13549422]\n",
      " [ 2.83321334  1.79175947  1.60943791]\n",
      " [ 1.09861229  3.95124372  2.07944154]\n",
      " [ 2.48490665  3.21887582  2.7080502 ]\n",
      " [ 2.83321334  2.83321334  0.        ]]\n"
     ]
    }
   ],
   "source": [
    "X_train_log = np.log(X_train + 1)\n",
    "X_test_log = np.log(X_test + 1)\n",
    "print(\"First entries of X_test: \\n{}\".format(X_test[:5]))\n",
    "print()\n",
    "print(\"First entries of X_test_log: \\n{}\".format(X_test_log[:5]))"
   ]
  },
  {
   "cell_type": "markdown",
   "metadata": {},
   "source": [
    "After the transformation, the distibution of the data is less asymmetrical and doesn't have any large outliers anymore (see Figure 4-8 and Figure 4-8A):"
   ]
  },
  {
   "cell_type": "code",
   "execution_count": 40,
   "metadata": {},
   "outputs": [
    {
     "data": {
      "text/plain": [
       "<matplotlib.text.Text at 0x10dc7da58>"
      ]
     },
     "execution_count": 40,
     "metadata": {},
     "output_type": "execute_result"
    },
    {
     "data": {
      "image/png": "[encoded data removed]",
      "text/plain": [
       "<matplotlib.figure.Figure at 0x10df12898>"
      ]
     },
     "metadata": {},
     "output_type": "display_data"
    }
   ],
   "source": [
    "plt.hist(X_train_log[:, 0], bins=25, color='gray')\n",
    "plt.ylabel(\"Number of Appearances\")\n",
    "plt.xlabel(\"Value\")"
   ]
  },
  {
   "cell_type": "raw",
   "metadata": {},
   "source": [
    "Figure 4-8. Histogram of feature values for X[0] after logarithmic transformation"
   ]
  },
  {
   "cell_type": "markdown",
   "metadata": {},
   "source": [
    "Let's show a comparison with the un-transformed `X_train` data:"
   ]
  },
  {
   "cell_type": "code",
   "execution_count": 41,
   "metadata": {},
   "outputs": [
    {
     "data": {
      "text/plain": [
       "<matplotlib.text.Text at 0x10dff3f98>"
      ]
     },
     "execution_count": 41,
     "metadata": {},
     "output_type": "execute_result"
    },
    {
     "data": {
      "image/png": "[encoded data removed]",
      "text/plain": [
       "<matplotlib.figure.Figure at 0x10e050358>"
      ]
     },
     "metadata": {},
     "output_type": "display_data"
    }
   ],
   "source": [
    "plt.hist(X_train[:, 0], bins=25, color='gray')\n",
    "plt.ylabel(\"Number of Appearances\")\n",
    "plt.xlabel(\"Value\")"
   ]
  },
  {
   "cell_type": "raw",
   "metadata": {},
   "source": [
    "Figure 4-8A. Histogram of feature values for X[0] before logarithmic transformation"
   ]
  },
  {
   "cell_type": "markdown",
   "metadata": {},
   "source": [
    "As you will see, building a ridge model on the new data provides a much better fit:"
   ]
  },
  {
   "cell_type": "code",
   "execution_count": 42,
   "metadata": {},
   "outputs": [
    {
     "name": "stdout",
     "output_type": "stream",
     "text": [
      "Test Score: 0.875\n"
     ]
    }
   ],
   "source": [
    "score = Ridge().fit(X_train_log, y_train).score(\n",
    "                             X_test_log, y_test)\n",
    "print(\"Test Score: {:.3f}\".format(score))"
   ]
  },
  {
   "cell_type": "markdown",
   "metadata": {},
   "source": [
    "Finding the transformation that works best for each combination of dataset and model is somewhat of an art.  \n",
    "In this example, all the features had the same properties.  \n",
    "This is rarely the case in practice, and usually only a subset of the features should be transformed, or sometimes each feature needs to be transformed in a different way.  \n",
    "As we mentioned earlier, these kinds of transformations are irrelevant for tree-based models but might be essential for linear models.  \n",
    "Sometimes it is also a good idea to transform the target variable y in regression.  \n",
    "Trying to predict counts (say, number of orders) is a fairly common task, and using the `log(y + 1`) transformation often helps."
   ]
  },
  {
   "cell_type": "markdown",
   "metadata": {},
   "source": [
    "As you saw in the previous examples, binning, polynomials, and interactions can have a huge influence on how models perform on a given dataset.  \n",
    "This is particularly true for less complex models like linear models and naive Bayes models.  \n",
    "Tree-based models, on the other hand, are often able to discover important interactions themselves, and don’t require transforming the data explicitly most of the time.  \n",
    "Other models, like SVMs, nearest neighbors, and neural networks, might sometimes benefit from using binning, interactions, or polynomials, but the implications there are usually much less clear than in the case of linear models."
   ]
  },
  {
   "cell_type": "markdown",
   "metadata": {},
   "source": [
    "## Automatic Feature Selection"
   ]
  },
  {
   "cell_type": "markdown",
   "metadata": {},
   "source": [
    "With so many ways to create new features, you might get tempted to increase the dimensionality of the data way beyond the number of original features.  \n",
    "However, adding more features makes all models more complex, and so increases the chance of overfitting.  \n",
    "When adding new features, or with high-dimensional datasets in general, it can be a good idea to reduce the number of features to only the most useful ones, and discard the rest.  \n",
    "This can lead to simpler models that generalize better."
   ]
  },
  {
   "cell_type": "markdown",
   "metadata": {},
   "source": [
    "But how can you know how good each feature is?  \n",
    "There are three basic strategies: [univariate statistics](http://www.statisticshowto.com/univariate/), [model-based selection](https://arxiv.org/abs/1703.02293), and [iterative selection](https://link.springer.com/article/10.1007/s10796-013-9430-0).  \n",
    "We will discuss all three of them in detail.  \n",
    "All of these methods are supervised methods, meaning they need the target for fitting the model.  \n",
    "This means we need to split the data into training and test sets, and fit the feature selection only on the training part of the data."
   ]
  },
  {
   "cell_type": "markdown",
   "metadata": {},
   "source": [
    "### Univariate Statistics"
   ]
  },
  {
   "cell_type": "markdown",
   "metadata": {},
   "source": [
    "In univariate statistics, we compute whether there is a statistically significant relationship between each feature and the target.  \n",
    "Then the features that are related with the highest confidence are selected.  \n",
    "In the case of classification, this is also known as [analysis of variance (ANOVA)](https://en.wikipedia.org/wiki/Analysis_of_variance).  \n",
    "A key property of these tests is that they are univariate, meaning that they only consider each feature individually.  \n",
    "Consequently, a feature will be discarded if it is only informative when combined with another feature.  \n",
    "Univariate tests are often very fast to compute, and don’t require building a model.  \n",
    "On the other hand, they are completely independent of the model that you might want to apply after the feature selection."
   ]
  },
  {
   "cell_type": "markdown",
   "metadata": {},
   "source": [
    "To [use univariate feature selection in `scikit-learn`](http://scikit-learn.org/stable/auto_examples/feature_selection/plot_feature_selection.html), you need to choose a test, usually either `f_classif` (the default) for classification or `f_regression` for regression, and a method to discard features based on the $p$-values determined in the test.  \n",
    "All methods for discarding parameters use a threshold to discard all features with too high a $p$-value (which means they are unlikely to be related to the target).  \n",
    "The methods differ in how they compute this threshold, with the simplest ones being `SelectKBest`, which selects a fixed number $k$ of features, and `SelectPercentile`, which selects a fixed percentage of features.  \n",
    "Let’s apply the feature selection for classification on the `cancer` dataset.  \n",
    "To make the task a bit harder, we’ll add some noninformative noise features to the data.  \n",
    "We expect the feature selection to be able to identify the features that are noninformative and remove them:"
   ]
  },
  {
   "cell_type": "code",
   "execution_count": 43,
   "metadata": {},
   "outputs": [
    {
     "data": {
      "text/plain": [
       "array([  1.79900000e+01,   1.03800000e+01,   1.22800000e+02,\n",
       "         1.00100000e+03,   1.18400000e-01,   2.77600000e-01,\n",
       "         3.00100000e-01,   1.47100000e-01,   2.41900000e-01,\n",
       "         7.87100000e-02,   1.09500000e+00,   9.05300000e-01,\n",
       "         8.58900000e+00,   1.53400000e+02,   6.39900000e-03,\n",
       "         4.90400000e-02,   5.37300000e-02,   1.58700000e-02,\n",
       "         3.00300000e-02,   6.19300000e-03,   2.53800000e+01,\n",
       "         1.73300000e+01,   1.84600000e+02,   2.01900000e+03,\n",
       "         1.62200000e-01,   6.65600000e-01,   7.11900000e-01,\n",
       "         2.65400000e-01,   4.60100000e-01,   1.18900000e-01,\n",
       "         4.96714153e-01,  -1.38264301e-01,   6.47688538e-01,\n",
       "         1.52302986e+00,  -2.34153375e-01,  -2.34136957e-01,\n",
       "         1.57921282e+00,   7.67434729e-01,  -4.69474386e-01,\n",
       "         5.42560044e-01,  -4.63417693e-01,  -4.65729754e-01,\n",
       "         2.41962272e-01,  -1.91328024e+00,  -1.72491783e+00,\n",
       "        -5.62287529e-01,  -1.01283112e+00,   3.14247333e-01,\n",
       "        -9.08024076e-01,  -1.41230370e+00,   1.46564877e+00,\n",
       "        -2.25776300e-01,   6.75282047e-02,  -1.42474819e+00,\n",
       "        -5.44382725e-01,   1.10922590e-01,  -1.15099358e+00,\n",
       "         3.75698018e-01,  -6.00638690e-01,  -2.91693750e-01,\n",
       "        -6.01706612e-01,   1.85227818e+00,  -1.34972247e-02,\n",
       "        -1.05771093e+00,   8.22544912e-01,  -1.22084365e+00,\n",
       "         2.08863595e-01,  -1.95967012e+00,  -1.32818605e+00,\n",
       "         1.96861236e-01,   7.38466580e-01,   1.71368281e-01,\n",
       "        -1.15648282e-01,  -3.01103696e-01,  -1.47852199e+00,\n",
       "        -7.19844208e-01,  -4.60638771e-01,   1.05712223e+00,\n",
       "         3.43618290e-01,  -1.76304016e+00])"
      ]
     },
     "execution_count": 43,
     "metadata": {},
     "output_type": "execute_result"
    }
   ],
   "source": [
    "from sklearn.datasets import load_breast_cancer\n",
    "from sklearn.feature_selection import SelectPercentile\n",
    "from sklearn.model_selection import train_test_split\n",
    "\n",
    "cancer = load_breast_cancer()\n",
    "\n",
    "# Get deterministic random numbers\n",
    "rng = np.random.RandomState(42)\n",
    "noise = rng.normal(size=(len(cancer.data), 50))\n",
    "# Add noise features to the data.\n",
    "# The first 30 features are from the dataset.\n",
    "# The next 50 features are randomly generated noise.\n",
    "X_w_noise = np.hstack([cancer.data, noise])\n",
    "X_w_noise[0]"
   ]
  },
  {
   "cell_type": "code",
   "execution_count": 44,
   "metadata": {},
   "outputs": [
    {
     "name": "stdout",
     "output_type": "stream",
     "text": [
      "X_train.shape: (284, 80)\n",
      "X_train_selected.shape: (284, 40)\n"
     ]
    }
   ],
   "source": [
    "X_train, X_test, y_train, y_test = train_test_split(\n",
    "    X_w_noise, cancer.target, random_state=0, test_size=0.5)\n",
    "# Use f_classif (the default) and SelectPercentile to\n",
    "# select 50% of features:\n",
    "select = SelectPercentile(percentile=50)\n",
    "select.fit(X_train, y_train)\n",
    "# Transform training set:\n",
    "X_train_selected = select.transform(X_train)\n",
    "\n",
    "print(\"X_train.shape: {}\".format(X_train.shape))\n",
    "print(\"X_train_selected.shape: {}\".format(\n",
    "                  X_train_selected.shape))"
   ]
  },
  {
   "cell_type": "markdown",
   "metadata": {},
   "source": [
    "As you can see, the number of features was reduced from 80 to 40 (50 percent of the original features).  \n",
    "We can find out which features have been selected using the `get_support()` method, which returns a Boolean mask of the slected features (visualized in Figure 4-9):"
   ]
  },
  {
   "cell_type": "code",
   "execution_count": 45,
   "metadata": {},
   "outputs": [
    {
     "name": "stdout",
     "output_type": "stream",
     "text": [
      "[ True  True  True  True  True  True  True  True  True False  True False\n",
      "  True  True  True  True  True  True False False  True  True  True  True\n",
      "  True  True  True  True  True  True False False False  True False  True\n",
      " False False  True False False False False  True False False  True False\n",
      " False  True False  True False False False False False False  True False\n",
      "  True False False False False  True False  True False False False False\n",
      "  True  True False  True False False False False]\n"
     ]
    }
   ],
   "source": [
    "mask = select.get_support()\n",
    "print(mask)"
   ]
  },
  {
   "cell_type": "markdown",
   "metadata": {},
   "source": [
    "Nice, but visualizing the mask may be a bit more helpful.  \n",
    "Black is true, white is False:"
   ]
  },
  {
   "cell_type": "code",
   "execution_count": 46,
   "metadata": {},
   "outputs": [
    {
     "data": {
      "text/plain": [
       "([], <a list of 0 Text yticklabel objects>)"
      ]
     },
     "execution_count": 46,
     "metadata": {},
     "output_type": "execute_result"
    },
    {
     "data": {
      "image/png": "[encoded data removed]",
      "text/plain": [
       "<matplotlib.figure.Figure at 0x10de52908>"
      ]
     },
     "metadata": {},
     "output_type": "display_data"
    }
   ],
   "source": [
    "plt.matshow(mask.reshape(1, -1), cmap=\"gray_r\")\n",
    "plt.xlabel(\"Sample Index\")\n",
    "plt.yticks(())"
   ]
  },
  {
   "cell_type": "raw",
   "metadata": {},
   "source": [
    "Figure 4-9. Features selected by SelectPercentile"
   ]
  },
  {
   "cell_type": "markdown",
   "metadata": {},
   "source": [
    "As you can see from the visualization of the mask, most of the selected features are the original features, and most of the noise features were removed.  \n",
    "However, the recovery of the original features is not perfect.  \n",
    "Let’s compare the performance of logistic regression on all features against the performance using only the selected features:"
   ]
  },
  {
   "cell_type": "code",
   "execution_count": 47,
   "metadata": {},
   "outputs": [
    {
     "name": "stdout",
     "output_type": "stream",
     "text": [
      "Score with all features: \n",
      "0.930\n",
      "Score with only the selected features: \n",
      "0.940\n"
     ]
    }
   ],
   "source": [
    "from sklearn.linear_model import LogisticRegression\n",
    "\n",
    "# Transform test data:\n",
    "X_test_selected = select.transform(X_test)\n",
    "\n",
    "lr = LogisticRegression()\n",
    "\n",
    "lr.fit(X_train, y_train)\n",
    "print(\"Score with all features: \\n{:.3f}\".format(\n",
    "                        lr.score(X_test, y_test)))\n",
    "\n",
    "lr.fit(X_train_selected, y_train)\n",
    "print(\"Score with only the selected features: \\n{:.3f}\".format(\n",
    "                            lr.score(X_test_selected, y_test)))"
   ]
  },
  {
   "cell_type": "markdown",
   "metadata": {},
   "source": [
    "In this case, removing the noise features improved performance, even though some of the original features were lost.  \n",
    "This was a very simple synthetic example, and outcomes on real data are usually mixed.  \n",
    "Univariate feature selection can still be very helpful, though, if there is such a large number of features that building a model on them is infeasible, or if you suspect that many features are completely uninformative."
   ]
  },
  {
   "cell_type": "markdown",
   "metadata": {},
   "source": [
    "### Model-Based Feature Selection"
   ]
  },
  {
   "cell_type": "markdown",
   "metadata": {
    "collapsed": true
   },
   "source": [
    "Model-based feature selection uses a supervised machine learning model to judge the importance of each feature, and keeps only the most important ones.  \n",
    "The supervised model that is used for feature selection doesn’t need to be the same model that is used for the final supervised modeling.  \n",
    "The feature selection model needs to provide some measure of importance for each feature, so that they can be ranked by this measure.  \n",
    "Decision trees and decision tree–based models provide a `feature_importances_` attribute, which directly encodes the importance of each feature.  \n",
    "Linear models have coefficients, which can also be used to capture feature importances by considering the absolute values.  \n",
    "As we saw in Chapter 2, linear models with `L1` penalty learn sparse coefficients, which only use a small subset of features.  \n",
    "This can be viewed as a form of feature selection for the model itself, but can also be used as a preprocessing step to select features for another model.  \n",
    "In contrast to univariate selection, model-based selection considers all features at once, and so can capture interactions (if the model can capture them).  \n",
    "To use model-based feature selection, we need to use the [SelectFromModel](http://scikit-learn.org/stable/modules/generated/sklearn.feature_selection.SelectFromModel.html) transformer:"
   ]
  },
  {
   "cell_type": "code",
   "execution_count": 48,
   "metadata": {},
   "outputs": [
    {
     "name": "stdout",
     "output_type": "stream",
     "text": [
      "SelectFromModel(estimator=RandomForestClassifier(bootstrap=True, class_weight=None, criterion='gini',\n",
      "            max_depth=None, max_features='auto', max_leaf_nodes=None,\n",
      "            min_impurity_split=1e-07, min_samples_leaf=1,\n",
      "            min_samples_split=2, min_weight_fraction_leaf=0.0,\n",
      "            n_estimators=100, n_jobs=1, oob_score=False, random_state=42,\n",
      "            verbose=0, warm_start=False),\n",
      "        prefit=False, threshold='median')\n"
     ]
    }
   ],
   "source": [
    "from sklearn.feature_selection import SelectFromModel\n",
    "from sklearn.ensemble import RandomForestClassifier\n",
    "\n",
    "select = SelectFromModel(\n",
    "    RandomForestClassifier(n_estimators=100, random_state=42),\n",
    "                           threshold=\"median\")\n",
    "print(select)"
   ]
  },
  {
   "cell_type": "markdown",
   "metadata": {},
   "source": [
    "The `SelectFromModel` class selects all features that have an importance measure of the feature (as provided by the supervised model) greater than the provided threshold.  \n",
    "To get a comparable result to what we got with univariate feature selection, we used the median as a threshold, so that half of the features will be selected.  \n",
    "We use a random forest classifier with 100 trees to compute the feature importances.  \n",
    "This is a quite complex model and much more powerful than using univariate tests.  \n",
    "Now let’s actually fit the model:"
   ]
  },
  {
   "cell_type": "code",
   "execution_count": 49,
   "metadata": {},
   "outputs": [
    {
     "name": "stdout",
     "output_type": "stream",
     "text": [
      "X_train.shape: (284, 80)\n",
      "X_train_l1.shape: (284, 40)\n"
     ]
    }
   ],
   "source": [
    "select.fit(X_train, y_train)\n",
    "X_train_l1 = select.transform(X_train)\n",
    "print(\"X_train.shape: {}\".format(X_train.shape))\n",
    "print(\"X_train_l1.shape: {}\".format(X_train_l1.shape))"
   ]
  },
  {
   "cell_type": "markdown",
   "metadata": {},
   "source": [
    "Again, we can have a look at the features that were selected (Figure 4-10):"
   ]
  },
  {
   "cell_type": "code",
   "execution_count": 50,
   "metadata": {},
   "outputs": [
    {
     "data": {
      "text/plain": [
       "([], <a list of 0 Text yticklabel objects>)"
      ]
     },
     "execution_count": 50,
     "metadata": {},
     "output_type": "execute_result"
    },
    {
     "data": {
      "image/png": "[encoded data removed]",
      "text/plain": [
       "<matplotlib.figure.Figure at 0x10e2b39b0>"
      ]
     },
     "metadata": {},
     "output_type": "display_data"
    }
   ],
   "source": [
    "mask = select.get_support()\n",
    "# Visualize the mask; black is True, white is False\n",
    "plt.matshow(mask.reshape(1, -1), cmap='gray_r')\n",
    "plt.xlabel(\"Sample Index\")\n",
    "plt.yticks(())"
   ]
  },
  {
   "cell_type": "raw",
   "metadata": {},
   "source": [
    "Figure 4-10. Features selected by SelectFromModel using the RandomForestClassifier"
   ]
  },
  {
   "cell_type": "markdown",
   "metadata": {},
   "source": [
    "This time, all but two of the original features were selected.  \n",
    "Because we told the machine learning classifier to select 40 features, some of the noise features are also selected.  \n",
    "Let's take a look at the performance:"
   ]
  },
  {
   "cell_type": "code",
   "execution_count": 51,
   "metadata": {},
   "outputs": [
    {
     "name": "stdout",
     "output_type": "stream",
     "text": [
      "Test score: 0.951\n"
     ]
    }
   ],
   "source": [
    "X_test_l1 = select.transform(X_test)\n",
    "score = LogisticRegression().fit(\n",
    "    X_train_l1, y_train).score(X_test_l1, y_test)\n",
    "print(\"Test score: {:.3f}\".format(score))"
   ]
  },
  {
   "cell_type": "markdown",
   "metadata": {},
   "source": [
    "With the better feature selection, we also gained some improvements here."
   ]
  },
  {
   "cell_type": "markdown",
   "metadata": {},
   "source": [
    "### Iterative Feature Selection"
   ]
  },
  {
   "cell_type": "markdown",
   "metadata": {
    "collapsed": true
   },
   "source": [
    "In univariate testing we used no model, while in model-based selection we used a single model to select features.  \n",
    "In iterative feature selection, a series of models are built, with varying numbers of features.  \n",
    "There are two basic methods: starting with no features and adding features one by one until some stopping criterion is reached, or starting with all features and removing features one by one until some stopping criterion is reached.  \n",
    "Because a series of models are built, these methods are much more computationally expensive than the methods we discussed previously.  \n",
    "One particular method of this kind is [recursive feature elimination (RFE)](http://scikit-learn.org/stable/modules/feature_selection.html#recursive-feature-elimination), which starts with all features, builds a model, and discards the least important feature according to the model.  \n",
    "Then a new model is built using all but the discarded feature, and so on until only a prespecified number of features are left.  \n",
    "For this to work, the model used for selection needs to provide some way to determine feature importance, as was the case for the model-based selection.  \n",
    "Here, we use the same random forest model that we used earlier, and get the results shown in Figure 4-11:"
   ]
  },
  {
   "cell_type": "code",
   "execution_count": 52,
   "metadata": {},
   "outputs": [
    {
     "data": {
      "text/plain": [
       "([], <a list of 0 Text yticklabel objects>)"
      ]
     },
     "execution_count": 52,
     "metadata": {},
     "output_type": "execute_result"
    },
    {
     "data": {
      "image/png": "[encoded data removed]",
      "text/plain": [
       "<matplotlib.figure.Figure at 0x10e0953c8>"
      ]
     },
     "metadata": {},
     "output_type": "display_data"
    }
   ],
   "source": [
    "from sklearn.feature_selection import RFE\n",
    "\n",
    "select = RFE(\n",
    "    RandomForestClassifier(n_estimators=100, random_state=42),\n",
    "                           n_features_to_select=40)\n",
    "select.fit(X_train, y_train)\n",
    "# Visualize the selected features:\n",
    "mask = select.get_support()\n",
    "plt.matshow(mask.reshape(1, -1), cmap='gray_r')\n",
    "plt.xlabel(\"Sample Index\")\n",
    "plt.yticks(())"
   ]
  },
  {
   "cell_type": "raw",
   "metadata": {},
   "source": [
    "Figure 4-11. Features selected by recursive feature elimination with the random forest classifier model."
   ]
  },
  {
   "cell_type": "markdown",
   "metadata": {},
   "source": [
    "The feature selection got better compared to the univariate and model-based selection, but one feature was still missed.  \n",
    "Running this code also takes significantly longer than that for the model-based selection, because a random forest model is trained 40 times, once for each feature that is dropped.  \n",
    "Let’s test the accuracy of the logistic regression model when using RFE for feature selection:"
   ]
  },
  {
   "cell_type": "code",
   "execution_count": 53,
   "metadata": {},
   "outputs": [
    {
     "name": "stdout",
     "output_type": "stream",
     "text": [
      "Test Score: 0.951\n"
     ]
    }
   ],
   "source": [
    "X_train_rfe = select.transform(X_train)\n",
    "X_test_rfe = select.transform(X_test)\n",
    "\n",
    "score = LogisticRegression().fit(\n",
    "    X_train_rfe, y_train).score(X_test_rfe, y_test)\n",
    "print(\"Test Score: {:.3f}\".format(score))"
   ]
  },
  {
   "cell_type": "markdown",
   "metadata": {},
   "source": [
    "We can also use the model used inside the RFE to make predictions.  \n",
    "This uses only the feature set that was selected:"
   ]
  },
  {
   "cell_type": "code",
   "execution_count": 54,
   "metadata": {},
   "outputs": [
    {
     "name": "stdout",
     "output_type": "stream",
     "text": [
      "Test Score: 0.951\n"
     ]
    }
   ],
   "source": [
    "print(\"Test Score: {:.3f}\".format(select.score(X_test, y_test)))"
   ]
  },
  {
   "cell_type": "markdown",
   "metadata": {},
   "source": [
    "Here, the performance of the random forest used inside the RFE is the same as that achieved by training a logistic regression model on top of the selected features.  \n",
    "In other words, once we’ve selected the right features, the linear model performs as well as the random forest."
   ]
  },
  {
   "cell_type": "markdown",
   "metadata": {},
   "source": [
    "If you are unsure when selecting what to use as input to your machine learning algorithms, automatic feature selection can be quite helpful.  \n",
    "It is also great for reducing the amount of features needed—for example, to speed up prediction or to allow for more interpretable models.  \n",
    "In most real-world cases, applying feature selection is unlikely to provide large gains in performance.  \n",
    "However, it is still a valuable tool in the toolbox of the feature engineer."
   ]
  },
  {
   "cell_type": "markdown",
   "metadata": {},
   "source": [
    "## Utilizing Expert Knowledge"
   ]
  },
  {
   "cell_type": "markdown",
   "metadata": {
    "collapsed": true
   },
   "source": [
    "[Feature engineering](https://en.wikipedia.org/wiki/Feature_engineering) is often an important place to use [expert knowledge](https://en.wikipedia.org/wiki/Subject-matter_expert) for a particular application.  \n",
    "While the purpose of machine learning in many cases is to avoid having to create a set of expert-designed rules, that doesn’t mean that prior knowledge of the application or domain should be discarded.  \n",
    "Often, domain experts can help in identifying useful features that are much more informative than the initial representation of the data.  \n",
    "Imagine you work for a travel agency and want to predict flight prices.  \n",
    "Let’s say you have a record of prices together with dates, airlines, start locations, and destinations.  \n",
    "A machine learning model might be able to build a decent model from that.  \n",
    "Some important factors in flight prices, however, cannot be learned.  \n",
    "For example, flights are usually more expensive during peak vacation months and around holidays.  \n",
    "While the dates of some holidays (like Christmas) are fixed, and their effect can therefore be learned from the date, others might depend on the phases of the moon (like Hanukkah and Easter) or be set by authorities (like school holidays).  \n",
    "These events cannot be learned from the data if each flight is only recorded using the (Gregorian) date.  \n",
    "However, it is easy to add a feature that encodes whether a flight was on, preceding, or following a public or school holiday.  \n",
    "In this way, prior knowledge about the nature of the task can be encoded in the features to aid a machine learning algorithm.  \n",
    "Adding a feature does not force a machine learning algorithm to use it, and even if the holiday information turns out to be noninformative for flight prices, augmenting the data with this information doesn’t hurt."
   ]
  },
  {
   "cell_type": "markdown",
   "metadata": {},
   "source": [
    "We'll now look at one particular case of using expert knowledge -- though in this case it might be more rightfully called \"common sense\".  \n",
    "The task is predicting bicycle rentals in front of Andreas’s house.  \n",
    "In New York, Citi Bike operates a network of bicycle rental stations with a subscription system.  \n",
    "The stations are all over the city and provide a convenient way to get around.  \n",
    "Bike rental data is made public in an anonymized form and has been analyzed in various ways.  \n",
    "The task we want to solve is to predict for a given time and day how many people will rent a bike in front of Andreas’s house—so he knows if any bikes will be left for him.  \n",
    "We first load the data for August 2015 for this particular station as a `pandas DataFrame`.  \n",
    "We resample the data into three-hour intervals to obtain the main trends for each day:"
   ]
  },
  {
   "cell_type": "code",
   "execution_count": 57,
   "metadata": {},
   "outputs": [
    {
     "name": "stdout",
     "output_type": "stream",
     "text": [
      "Citi Bike Data: \n",
      "starttime\n",
      "2015-08-01 00:00:00     3.0\n",
      "2015-08-01 03:00:00     0.0\n",
      "2015-08-01 06:00:00     9.0\n",
      "2015-08-01 09:00:00    41.0\n",
      "2015-08-01 12:00:00    39.0\n",
      "Freq: 3H, Name: one, dtype: float64\n"
     ]
    }
   ],
   "source": [
    "citibike = mglearn.datasets.load_citibike()\n",
    "print(\"Citi Bike Data: \\n{}\".format(citibike.head()))"
   ]
  },
  {
   "cell_type": "markdown",
   "metadata": {},
   "source": [
    "The following example shows a visualization of the rental frequencies for the whole month (Figure 4-12):"
   ]
  },
  {
   "cell_type": "code",
   "execution_count": null,
   "metadata": {
    "collapsed": true
   },
   "outputs": [],
   "source": []
  }
 ],
 "metadata": {
  "kernelspec": {
   "display_name": "Python 3",
   "language": "python",
   "name": "python3"
  },
  "language_info": {
   "codemirror_mode": {
    "name": "ipython",
    "version": 3
   },
   "file_extension": ".py",
   "mimetype": "text/x-python",
   "name": "python",
   "nbconvert_exporter": "python",
   "pygments_lexer": "ipython3",
   "version": "3.6.1"
  }
 },
 "nbformat": 4,
 "nbformat_minor": 2
}
