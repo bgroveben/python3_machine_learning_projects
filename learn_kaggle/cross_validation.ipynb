{
 "cells": [
  {
   "cell_type": "markdown",
   "metadata": {},
   "source": [
    "# [Cross-Validation](https://www.kaggle.com/dansbecker/cross-validation)"
   ]
  },
  {
   "cell_type": "markdown",
   "metadata": {},
   "source": [
    "Machine learning is an iterative process.  \n",
    "You will face choices about predictive variables to use, what types of models to use, what arguments to supply those models, and many other options.  \n",
    "We make these choices in a data-driven way by measuring model quality of various alternatives.  \n",
    "You've already learned to use `train_test_split` to split the data, so you can measure model quality on the test data.  \n",
    "Cross-validation extends this approach to model scoring (or \"model validation.\")  \n",
    "Compared to `train_test_split`, cross-validation gives you a more reliable measure of your model's quality, though it takes longer to run."
   ]
  },
  {
   "cell_type": "markdown",
   "metadata": {},
   "source": [
    "### The shortcomings of train-test split:"
   ]
  },
  {
   "cell_type": "markdown",
   "metadata": {},
   "source": [
    "Imagine you have a dataset with 5000 rows.  \n",
    "The `train_test_split` function has an argument for `test_size` that you can use to decide how many rows go to the training set and how many go to the test set.   \n",
    "The larger the test set, the more reliable your measures of model quality will be.  \n",
    "At an extreme, you could imagine having only 1 row of data in the test set.  \n",
    "If you compare alternative models, which one makes the best predictions on a single data point will be mostly a matter of luck.  \n",
    "You will typically keep about 20% as a test dataset.  \n",
    "But even with 1000 rows in the test set, there's some random chance in determining model scores.  \n",
    "A model might do well on one set of 1000 rows, even if it would be inaccurate on a different 1000 rows.  \n",
    "The larger the test set, the less randomness (aka \"noise\") there is in our measure of model quality.  \n",
    "But we can only get a large test set by removing data from our training data, and smaller training datasets mean worse models.  \n",
    "In fact, the ideal modeling decisions on small datasets typically aren't the best modeling decisions on large datasets."
   ]
  },
  {
   "cell_type": "markdown",
   "metadata": {},
   "source": [
    "## The Cross-Validation Procedure"
   ]
  },
  {
   "cell_type": "markdown",
   "metadata": {},
   "source": [
    "In cross-validation, we run our modeling process on different subsets of data to get multiple measures of model quality.  \n",
    "For example, we could have 5 **folds** or experiments.  \n",
    "We divide the data into 5 parts, each being 20% of the full dataset.  \n",
    "The first fold is used as a holdout set, and the remaining parts are used as training data.  \n",
    "This gives us a measure of model quality based on a 20% holdout set, which gives the same result as the simple train-test split.  \n",
    "The second experiment (aka fold) uses everything except the second fold for training the model.  \n",
    "This also gives us a second estimate of the model's performance.  \n",
    "The process is repeated, as shown below, using every fold once in turn as the holdout set, so that 100% of the data is used as a holdout at some point.  "
   ]
  },
  {
   "cell_type": "markdown",
   "metadata": {},
   "source": [
    "![cross_validation](img/cross_validation.png)"
   ]
  },
  {
   "cell_type": "markdown",
   "metadata": {},
   "source": [
    "Returning to our example above from the train-test split, if we have 5000 rows of data, cross validation allows us to measure model quality based on all 5000."
   ]
  },
  {
   "cell_type": "markdown",
   "metadata": {},
   "source": [
    "### Trade-offs between train-test split and cross-validation:"
   ]
  },
  {
   "cell_type": "markdown",
   "metadata": {},
   "source": [
    "Cross-validation gives a more accurate measure of model quality, which is especially important if you are making a lot of modeling decisions.  \n",
    "However, it can take more time to run, because it estimates models once for each fold.  \n",
    "So it is doing more total work.  \n",
    "Given these tradeoffs, when should you use each approach?  "
   ]
  },
  {
   "cell_type": "markdown",
   "metadata": {},
   "source": [
    "On small datasets, the extra computational burden of running cross-validation isn't a big deal.  \n",
    "These are also the problems where model quality scores would be least reliable with train-test split.  \n",
    "So, if your dataset is smaller, you should run cross-validation.  \n",
    "For the same reasons, a simple train-test split is sufficient for larger datasets.  \n",
    "It will run faster, and you may have enough data that there's little need to re-use some of it for holdout.  \n",
    "There's no simple threshold for what constitutes a large vs small dataset.  \n",
    "If your model takes a couple minute or less to run, it's probably worth switching to cross-validation.  \n",
    "If your model takes much longer to run, cross-validation may slow down your workflow more than it's worth.  \n",
    "Alternatively, you can run cross-validation and see if the scores for each experiment seem close.  \n",
    "If each experiment gives the same results, train-test split is probably sufficient."
   ]
  },
  {
   "cell_type": "markdown",
   "metadata": {},
   "source": [
    "## The Example, Already!"
   ]
  },
  {
   "cell_type": "code",
   "execution_count": 2,
   "metadata": {},
   "outputs": [],
   "source": [
    "import pandas as pd\n",
    "\n",
    "data = pd.read_csv('input/melbourne_data.csv')\n",
    "cols_to_use = ['Rooms', 'Distance', 'Landsize', 'BuildingArea', 'YearBuilt']\n",
    "X = data[cols_to_use]\n",
    "y = data.Price"
   ]
  },
  {
   "cell_type": "markdown",
   "metadata": {},
   "source": [
    "This is where pipelines come in handy, because doing cross-validation without them is much more challenging."
   ]
  },
  {
   "cell_type": "code",
   "execution_count": 7,
   "metadata": {},
   "outputs": [
    {
     "data": {
      "text/plain": [
       "Pipeline(steps=[('imputer', Imputer(axis=0, copy=True, missing_values='NaN', strategy='mean', verbose=0)), ('randomforestregressor', RandomForestRegressor(bootstrap=True, criterion='mse', max_depth=None,\n",
       "           max_features='auto', max_leaf_nodes=None,\n",
       "           min_impurity_split=1e-07, min_samples_leaf=1,\n",
       "           min_samples_split=2, min_weight_fraction_leaf=0.0,\n",
       "           n_estimators=10, n_jobs=1, oob_score=False, random_state=None,\n",
       "           verbose=0, warm_start=False))])"
      ]
     },
     "execution_count": 7,
     "metadata": {},
     "output_type": "execute_result"
    }
   ],
   "source": [
    "from sklearn.ensemble import RandomForestRegressor\n",
    "from sklearn.pipeline import make_pipeline\n",
    "from sklearn.preprocessing import Imputer\n",
    "\n",
    "my_pipeline = make_pipeline(Imputer(), RandomForestRegressor())\n",
    "my_pipeline"
   ]
  },
  {
   "cell_type": "markdown",
   "metadata": {},
   "source": [
    "For those curious about the pipeline object's attributes:"
   ]
  },
  {
   "cell_type": "code",
   "execution_count": 9,
   "metadata": {},
   "outputs": [
    {
     "data": {
      "text/plain": [
       "['__abstractmethods__',\n",
       " '__class__',\n",
       " '__delattr__',\n",
       " '__dict__',\n",
       " '__dir__',\n",
       " '__doc__',\n",
       " '__eq__',\n",
       " '__format__',\n",
       " '__ge__',\n",
       " '__getattribute__',\n",
       " '__getstate__',\n",
       " '__gt__',\n",
       " '__hash__',\n",
       " '__init__',\n",
       " '__init_subclass__',\n",
       " '__le__',\n",
       " '__lt__',\n",
       " '__module__',\n",
       " '__ne__',\n",
       " '__new__',\n",
       " '__reduce__',\n",
       " '__reduce_ex__',\n",
       " '__repr__',\n",
       " '__setattr__',\n",
       " '__setstate__',\n",
       " '__sizeof__',\n",
       " '__str__',\n",
       " '__subclasshook__',\n",
       " '__weakref__',\n",
       " '_abc_cache',\n",
       " '_abc_negative_cache',\n",
       " '_abc_negative_cache_version',\n",
       " '_abc_registry',\n",
       " '_estimator_type',\n",
       " '_final_estimator',\n",
       " '_fit',\n",
       " '_get_param_names',\n",
       " '_get_params',\n",
       " '_inverse_transform',\n",
       " '_pairwise',\n",
       " '_replace_step',\n",
       " '_set_params',\n",
       " '_transform',\n",
       " '_validate_names',\n",
       " '_validate_steps',\n",
       " 'classes_',\n",
       " 'decision_function',\n",
       " 'fit',\n",
       " 'fit_predict',\n",
       " 'fit_transform',\n",
       " 'get_params',\n",
       " 'inverse_transform',\n",
       " 'named_steps',\n",
       " 'predict',\n",
       " 'predict_log_proba',\n",
       " 'predict_proba',\n",
       " 'score',\n",
       " 'set_params',\n",
       " 'steps',\n",
       " 'transform']"
      ]
     },
     "execution_count": 9,
     "metadata": {},
     "output_type": "execute_result"
    }
   ],
   "source": [
    "dir(my_pipeline)"
   ]
  },
  {
   "cell_type": "markdown",
   "metadata": {},
   "source": [
    "On to the cross-validation scores."
   ]
  },
  {
   "cell_type": "code",
   "execution_count": 11,
   "metadata": {},
   "outputs": [
    {
     "data": {
      "text/plain": [
       "array([-327386.90503595, -305910.97468595, -280464.43569695])"
      ]
     },
     "execution_count": 11,
     "metadata": {},
     "output_type": "execute_result"
    }
   ],
   "source": [
    "from sklearn.model_selection import cross_val_score\n",
    "\n",
    "scores = cross_val_score(my_pipeline, X, y, scoring='neg_mean_absolute_error')\n",
    "scores"
   ]
  },
  {
   "cell_type": "markdown",
   "metadata": {},
   "source": [
    "What do those numbers above tell you?  \n",
    "You may notice that we specified an argument for scoring.  \n",
    "This specifies what measure of model quality to report.  \n",
    "The docs for scikit-learn show a list of options.  \n",
    "It is a little surprising that we specify negative mean absolute error in this case.  \n",
    "Scikit-learn has a convention where all metrics are defined so a high number is better.  \n",
    "Using negatives here allows them to be consistent with that convention, though negative MAE is almost unheard of elsewhere.  \n",
    "You typically want a single measure of model quality to compare between models.  \n",
    "So we take the average across experiments."
   ]
  },
  {
   "cell_type": "code",
   "execution_count": 14,
   "metadata": {},
   "outputs": [
    {
     "data": {
      "text/plain": [
       "304587.4384729497"
      ]
     },
     "execution_count": 14,
     "metadata": {},
     "output_type": "execute_result"
    }
   ],
   "source": [
    "mean_absolute_error = (-1 * scores.mean())\n",
    "mean_absolute_error"
   ]
  },
  {
   "cell_type": "markdown",
   "metadata": {},
   "source": [
    "Using cross-validation is an effective way to give more accurate measures of model quality.  \n",
    "Another benefit of cross-validation is that keeping track of separate training and test sets is unnecessary."
   ]
  }
 ],
 "metadata": {
  "kernelspec": {
   "display_name": "Python 3",
   "language": "python",
   "name": "python3"
  },
  "language_info": {
   "codemirror_mode": {
    "name": "ipython",
    "version": 3
   },
   "file_extension": ".py",
   "mimetype": "text/x-python",
   "name": "python",
   "nbconvert_exporter": "python",
   "pygments_lexer": "ipython3",
   "version": "3.6.1"
  }
 },
 "nbformat": 4,
 "nbformat_minor": 2
}
