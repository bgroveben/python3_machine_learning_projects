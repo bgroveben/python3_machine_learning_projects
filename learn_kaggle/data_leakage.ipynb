{
 "cells": [
  {
   "cell_type": "markdown",
   "metadata": {},
   "source": [
    "# [Data Leakage](https://www.kaggle.com/dansbecker/data-leakage)"
   ]
  },
  {
   "cell_type": "markdown",
   "metadata": {},
   "source": [
    "## What is it?"
   ]
  },
  {
   "cell_type": "markdown",
   "metadata": {},
   "source": [
    "Data leakage is one of the most important issues for a data scientist to understand.  \n",
    "If you don't know how to prevent it, leakage will come up frequently, and it will ruin your models in the most subtle and dangerous ways.  \n",
    "Specifically, leakage causes a model to look accurate until you start making decisions with the model, and then the model becomes very inaccurate.  \n",
    "This tutorial will show you what leakage is and how to avoid it.  \n",
    "There are two main types of leakage: **Leaky Predictors** and **Leaky Validation Strategies**."
   ]
  },
  {
   "cell_type": "markdown",
   "metadata": {},
   "source": [
    "### Leaky Predictors"
   ]
  },
  {
   "cell_type": "markdown",
   "metadata": {},
   "source": [
    "This occurs when your predictors include data that will not be available at the time you make your predictions.  \n",
    "For example, imagine that you want to predict who will catch pneumonia.  \n",
    "The first few rows of your raw data might look like this:"
   ]
  },
  {
   "cell_type": "markdown",
   "metadata": {},
   "source": [
    "![data_leakage1](img/data_leakage1.png)"
   ]
  },
  {
   "cell_type": "markdown",
   "metadata": {},
   "source": [
    "People take antibiotic medicines after getting pneumonia in order to recover.  \n",
    "So the raw data shows a strong relationship between those columns.  \n",
    "But `took_antibiotic_medicine` is frequently changed after the value for `got_pneumonia` is determined.  \n",
    "This is target leakage.  \n",
    "The model would see that anyone who has a value of `False` for `took_antibiotic_medicine` didn't have pneumonia.  \n",
    "Validation data comes from the same source, so the pattern will repeat itself in validation, and the model will have great validation (or cross-validation) scores.  \n",
    "However, the model will be less accurate when subsequently deployed in the real world.  \n",
    "To prevent this type of data leakage, any variable updated (or created) after the target value is realized should be excluded.  \n",
    "Because when we use this model to make new predictions, that data won't be available to the model."
   ]
  },
  {
   "cell_type": "markdown",
   "metadata": {},
   "source": [
    "![data_leakage2](img/data_leakage2.png)"
   ]
  },
  {
   "cell_type": "markdown",
   "metadata": {},
   "source": [
    "### Leaky Validation Strategies"
   ]
  },
  {
   "cell_type": "code",
   "execution_count": null,
   "metadata": {},
   "outputs": [],
   "source": []
  }
 ],
 "metadata": {
  "kernelspec": {
   "display_name": "Python 3",
   "language": "python",
   "name": "python3"
  },
  "language_info": {
   "codemirror_mode": {
    "name": "ipython",
    "version": 3
   },
   "file_extension": ".py",
   "mimetype": "text/x-python",
   "name": "python",
   "nbconvert_exporter": "python",
   "pygments_lexer": "ipython3",
   "version": "3.6.1"
  }
 },
 "nbformat": 4,
 "nbformat_minor": 2
}
