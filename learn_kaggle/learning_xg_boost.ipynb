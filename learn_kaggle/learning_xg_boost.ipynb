{
 "cells": [
  {
   "cell_type": "markdown",
   "metadata": {},
   "source": [
    "# [Learning to Use XGBoost](https://www.kaggle.com/dansbecker/learning-to-use-xgboost)"
   ]
  },
  {
   "cell_type": "markdown",
   "metadata": {},
   "source": [
    "**XGBoost** is the leading model for working with standard tabular data (the type of data you store in pandas DataFrames, as opposed to more exotic types of data like images and videos).  \n",
    "XGBoost models do well in many Kaggle competitions.  \n",
    "To reach peak accuracy, XGBoost models require more knowledge and model tuning than techniques like Random Forest. After this tutorial, you'll be able to:  \n",
    "* Follow the full modeling workflow with XGBoost, and    \n",
    "* Fine-tune XGBoost models for optimal performance\n",
    "\n",
    "XGBoost is an implementation of the Gradient Boosted Decision Trees algorithm (scikit-learn has another version of this algorithm, but XGBoost has some technical advantages.)  \n",
    "What are Gradient Boosted Decision Trees?"
   ]
  },
  {
   "cell_type": "markdown",
   "metadata": {},
   "source": [
    "![XGBoost](img/xgboost.png)"
   ]
  },
  {
   "cell_type": "markdown",
   "metadata": {},
   "source": [
    "New models are generated in cycles, and the results of these models are aggregated and used to build into an **ensemble** model.  \n",
    "We start the cycle by calculating the errors for each observation in the dataset.  \n",
    "We then build a new model to predict those errors.  \n",
    "We add predictions from this error-predicting model to the ensemble of models.  \n",
    "To make a prediction, we include the predictions from all previous models.  \n",
    "We can use these predictions to calculate new errors, build the next model, and add it to the ensemble.  \n",
    "There's one piece outside that cycle.  \n",
    "We need some base prediction to start the cycle.  \n",
    "In practice, the initial predictions can be pretty naive.  \n",
    "Even if the predictions are wildly inaccurate, subsequent additions to the ensemble will address those errors.  \n",
    "This process may sound complicated, but the code to use it is straightforward.  \n",
    "We'll fill in some additional explanatory details in the model tuning section below.  "
   ]
  },
  {
   "cell_type": "code",
   "execution_count": 1,
   "metadata": {},
   "outputs": [
    {
     "name": "stdout",
     "output_type": "stream",
     "text": [
      "First entry of train_X :\n",
      " [[9.4900e+02 6.0000e+01 6.5000e+01 1.4006e+04 7.0000e+00 5.0000e+00\n",
      "  2.0020e+03 2.0020e+03 1.4400e+02 0.0000e+00 0.0000e+00 9.3600e+02\n",
      "  9.3600e+02 9.3600e+02 8.4000e+02 0.0000e+00 1.7760e+03 0.0000e+00\n",
      "  0.0000e+00 2.0000e+00 1.0000e+00 3.0000e+00 1.0000e+00 7.0000e+00\n",
      "  1.0000e+00 2.0020e+03 2.0000e+00 4.7400e+02 1.4400e+02 9.6000e+01\n",
      "  0.0000e+00 0.0000e+00 0.0000e+00 0.0000e+00 0.0000e+00 2.0000e+00\n",
      "  2.0060e+03]]\n",
      "\n",
      "First entry of test_X :\n",
      " [[1.1060e+03 6.0000e+01 9.8000e+01 1.2256e+04 8.0000e+00 5.0000e+00\n",
      "  1.9940e+03 1.9950e+03 3.6200e+02 1.0320e+03 0.0000e+00 4.3100e+02\n",
      "  1.4630e+03 1.5000e+03 1.1220e+03 0.0000e+00 2.6220e+03 1.0000e+00\n",
      "  0.0000e+00 2.0000e+00 1.0000e+00 3.0000e+00 1.0000e+00 9.0000e+00\n",
      "  2.0000e+00 1.9940e+03 2.0000e+00 7.1200e+02 1.8600e+02 3.2000e+01\n",
      "  0.0000e+00 0.0000e+00 0.0000e+00 0.0000e+00 0.0000e+00 4.0000e+00\n",
      "  2.0100e+03]]\n"
     ]
    }
   ],
   "source": [
    "import pandas as pd\n",
    "from sklearn.model_selection import train_test_split\n",
    "from sklearn.preprocessing import Imputer\n",
    "\n",
    "data = pd.read_csv('input/train.csv')\n",
    "data.dropna(axis=0, subset=['SalePrice'], inplace=True)\n",
    "y = data.SalePrice\n",
    "X = data.drop(['SalePrice'], axis=1).select_dtypes(exclude=['object'])\n",
    "train_X, test_X, train_y, test_y = train_test_split(X.as_matrix(), y.as_matrix(), test_size=0.25)\n",
    "my_imputer = Imputer()\n",
    "train_X = my_imputer.fit_transform(train_X)\n",
    "print(\"First entry of train_X :\\n\", train_X[:1])\n",
    "print()\n",
    "test_X = my_imputer.transform(test_X)\n",
    "print(\"First entry of test_X :\\n\", test_X[:1])"
   ]
  },
  {
   "cell_type": "markdown",
   "metadata": {},
   "source": [
    "Now we can build and fit a model just as we would in `sklearn`:"
   ]
  },
  {
   "cell_type": "code",
   "execution_count": 2,
   "metadata": {},
   "outputs": [
    {
     "data": {
      "text/plain": [
       "XGBRegressor(base_score=0.5, booster='gbtree', colsample_bylevel=1,\n",
       "       colsample_bytree=1, gamma=0, learning_rate=0.1, max_delta_step=0,\n",
       "       max_depth=3, min_child_weight=1, missing=None, n_estimators=100,\n",
       "       n_jobs=1, nthread=None, objective='reg:linear', random_state=0,\n",
       "       reg_alpha=0, reg_lambda=1, scale_pos_weight=1, seed=None,\n",
       "       silent=True, subsample=1)"
      ]
     },
     "execution_count": 2,
     "metadata": {},
     "output_type": "execute_result"
    }
   ],
   "source": [
    "from xgboost import XGBRegressor\n",
    "\n",
    "my_model = XGBRegressor()\n",
    "# Add silent=True to avoid printing out updates with each cycle:\n",
    "# Don't forget to examine the parameters displayed when the model is built.\n",
    "# Tuning those parameters properly may improve the model's performance.\n",
    "my_model.fit(train_X, train_y, verbose=False)"
   ]
  },
  {
   "cell_type": "markdown",
   "metadata": {},
   "source": [
    "And now on to evaluating the model and making predictions, also like in scikit-learn."
   ]
  },
  {
   "cell_type": "code",
   "execution_count": 3,
   "metadata": {},
   "outputs": [
    {
     "data": {
      "text/plain": [
       "array([293203.94 ,  97959.83 , 129877.266, 148022.8  , 167368.7  ],\n",
       "      dtype=float32)"
      ]
     },
     "execution_count": 3,
     "metadata": {},
     "output_type": "execute_result"
    }
   ],
   "source": [
    "predictions = my_model.predict(test_X)\n",
    "predictions[:5]"
   ]
  },
  {
   "cell_type": "code",
   "execution_count": 4,
   "metadata": {},
   "outputs": [
    {
     "name": "stdout",
     "output_type": "stream",
     "text": [
      "Mean Absolute Error:\n",
      " 17306.776466181505\n"
     ]
    }
   ],
   "source": [
    "from sklearn.metrics import mean_absolute_error\n",
    "\n",
    "print(\"Mean Absolute Error:\\n\", str(mean_absolute_error(predictions, test_y)))"
   ]
  },
  {
   "cell_type": "markdown",
   "metadata": {},
   "source": [
    "## Model Tuning"
   ]
  },
  {
   "cell_type": "markdown",
   "metadata": {},
   "source": [
    "XGBoost has a number of parameters that can dramatically affect your model's accuracy and speed.  \n",
    "Some significant parameters are:  "
   ]
  },
  {
   "cell_type": "markdown",
   "metadata": {},
   "source": [
    "**`n_estimators` and `early_stopping_rounds`:**  \n",
    "`n_estimators` specifies how many times the modeling cycle is repeated.  \n",
    "In the underfitting vs overfitting graph below, `n_estimators` moves you further to the right.  \n",
    "Too low a value causes underfitting, which will result in inaccurate predictions on both training data and new data. Too large a value causes overfitting, which means accurate predictions on training data, but inaccurate predictions on new data (which is what we care about).  \n",
    "You can experiment with your dataset to find the ideal.  \n",
    "Typical values range from 100-1000, though this depends a lot on the learning rate discussed below."
   ]
  },
  {
   "cell_type": "markdown",
   "metadata": {},
   "source": [
    "![Underfitting vs Overfitting](img/underfit_vs_overfit.png)"
   ]
  },
  {
   "cell_type": "markdown",
   "metadata": {},
   "source": [
    "**`early_stopping_rounds`** offers a way to automatically find the maximum value.  \n",
    "Early stopping tells the program to stop iterating when the validation score stops improving.  \n",
    "One effective technique is to set a relatively high value for `n_estimators` and then use `early_stopping_rounds` to figure out when to stop.  \n",
    "Since random chance sometimes causes a single round where validation scores don't improve, you need to specify a number for how many rounds of straight deterioration to allow before stopping.  \n",
    "`early_stopping_rounds = 5` is a reasonable value to experiment with.  \n",
    "Thus we stop after 5 straight rounds of deteriorating validation scores.  \n",
    "Here is the code to fit with early_stopping:"
   ]
  },
  {
   "cell_type": "code",
   "execution_count": 10,
   "metadata": {},
   "outputs": [
    {
     "data": {
      "text/plain": [
       "XGBRegressor(base_score=0.5, booster='gbtree', colsample_bylevel=1,\n",
       "       colsample_bytree=1, gamma=0, learning_rate=0.1, max_delta_step=0,\n",
       "       max_depth=3, min_child_weight=1, missing=None, n_estimators=1000,\n",
       "       n_jobs=1, nthread=None, objective='reg:linear', random_state=0,\n",
       "       reg_alpha=0, reg_lambda=1, scale_pos_weight=1, seed=None,\n",
       "       silent=True, subsample=1)"
      ]
     },
     "execution_count": 10,
     "metadata": {},
     "output_type": "execute_result"
    }
   ],
   "source": [
    "my_model = XGBRegressor(n_estimators=1000)\n",
    "my_model.fit(train_X, train_y, early_stopping_rounds=5,\n",
    "            eval_set=[(test_X, test_y)], verbose=False)"
   ]
  },
  {
   "cell_type": "markdown",
   "metadata": {},
   "source": [
    "When using `early_stopping_rounds`, you need to set aside some of your data for checking the number of rounds to use.  \n",
    "If you later want to fit a model with all of your data, set `n_estimators` to whatever value you found to be optimal when run with early stopping.  "
   ]
  },
  {
   "cell_type": "markdown",
   "metadata": {},
   "source": [
    "**learning_rate**  \n"
   ]
  }
 ],
 "metadata": {
  "kernelspec": {
   "display_name": "Python 3",
   "language": "python",
   "name": "python3"
  },
  "language_info": {
   "codemirror_mode": {
    "name": "ipython",
    "version": 3
   },
   "file_extension": ".py",
   "mimetype": "text/x-python",
   "name": "python",
   "nbconvert_exporter": "python",
   "pygments_lexer": "ipython3",
   "version": "3.6.1"
  }
 },
 "nbformat": 4,
 "nbformat_minor": 2
}
