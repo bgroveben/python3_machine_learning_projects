{
 "cells": [
  {
   "cell_type": "markdown",
   "metadata": {},
   "source": [
    "# [Learning to Use XGBoost](https://www.kaggle.com/dansbecker/learning-to-use-xgboost)"
   ]
  },
  {
   "cell_type": "markdown",
   "metadata": {},
   "source": [
    "**XGBoost** is the leading model for working with standard tabular data (the type of data you store in pandas DataFrames, as opposed to more exotic types of data like images and videos).  \n",
    "XGBoost models do well in many Kaggle competitions.  \n",
    "To reach peak accuracy, XGBoost models require more knowledge and model tuning than techniques like Random Forest. After this tutorial, you'll be able to:  \n",
    "* Follow the full modeling workflow with XGBoost, and    \n",
    "* Fine-tune XGBoost models for optimal performance\n",
    "\n",
    "XGBoost is an implementation of the Gradient Boosted Decision Trees algorithm (scikit-learn has another version of this algorithm, but XGBoost has some technical advantages.)  \n",
    "What are Gradient Boosted Decision Trees?"
   ]
  },
  {
   "cell_type": "markdown",
   "metadata": {},
   "source": [
    "![XGBoost](img/xgboost.png)"
   ]
  },
  {
   "cell_type": "markdown",
   "metadata": {},
   "source": [
    "New models are generated in cycles, and the results of these models are aggregated and used to build into an **ensemble** model.  \n",
    "We start the cycle by calculating the errors for each observation in the dataset.  \n",
    "We then build a new model to predict those errors.  \n",
    "We add predictions from this error-predicting model to the ensemble of models.  \n",
    "To make a prediction, we include the predictions from all previous models.  \n",
    "We can use these predictions to calculate new errors, build the next model, and add it to the ensemble.  \n",
    "There's one piece outside that cycle.  \n",
    "We need some base prediction to start the cycle.  \n",
    "In practice, the initial predictions can be pretty naive.  \n",
    "Even if the predictions are wildly inaccurate, subsequent additions to the ensemble will address those errors.  \n",
    "This process may sound complicated, but the code to use it is straightforward.  \n",
    "We'll fill in some additional explanatory details in the model tuning section below.  "
   ]
  },
  {
   "cell_type": "code",
   "execution_count": 6,
   "metadata": {},
   "outputs": [
    {
     "name": "stdout",
     "output_type": "stream",
     "text": [
      "First entry of train_X :\n",
      " [[5.000e+00 6.000e+01 8.400e+01 1.426e+04 8.000e+00 5.000e+00 2.000e+03\n",
      "  2.000e+03 3.500e+02 6.550e+02 0.000e+00 4.900e+02 1.145e+03 1.145e+03\n",
      "  1.053e+03 0.000e+00 2.198e+03 1.000e+00 0.000e+00 2.000e+00 1.000e+00\n",
      "  4.000e+00 1.000e+00 9.000e+00 1.000e+00 2.000e+03 3.000e+00 8.360e+02\n",
      "  1.920e+02 8.400e+01 0.000e+00 0.000e+00 0.000e+00 0.000e+00 0.000e+00\n",
      "  1.200e+01 2.008e+03]]\n",
      "\n",
      "First entry of test_X :\n",
      " [[3.85000000e+02 6.00000000e+01 6.96540601e+01 5.31070000e+04\n",
      "  6.00000000e+00 5.00000000e+00 1.99200000e+03 1.99200000e+03\n",
      "  0.00000000e+00 9.85000000e+02 0.00000000e+00 5.95000000e+02\n",
      "  1.58000000e+03 1.07900000e+03 8.74000000e+02 0.00000000e+00\n",
      "  1.95300000e+03 1.00000000e+00 0.00000000e+00 2.00000000e+00\n",
      "  1.00000000e+00 3.00000000e+00 1.00000000e+00 9.00000000e+00\n",
      "  2.00000000e+00 1.99200000e+03 2.00000000e+00 5.01000000e+02\n",
      "  2.16000000e+02 2.31000000e+02 0.00000000e+00 0.00000000e+00\n",
      "  0.00000000e+00 0.00000000e+00 0.00000000e+00 6.00000000e+00\n",
      "  2.00700000e+03]]\n"
     ]
    }
   ],
   "source": [
    "import pandas as pd\n",
    "from sklearn.model_selection import train_test_split\n",
    "from sklearn.preprocessing import Imputer\n",
    "\n",
    "data = pd.read_csv('input/train.csv')\n",
    "data.dropna(axis=0, subset=['SalePrice'], inplace=True)\n",
    "y = data.SalePrice\n",
    "X = data.drop(['SalePrice'], axis=1).select_dtypes(exclude=['object'])\n",
    "train_X, test_X, train_y, test_y = train_test_split(X.as_matrix(), y.as_matrix(), test_size=0.25)\n",
    "my_imputer = Imputer()\n",
    "train_X = my_imputer.fit_transform(train_X)\n",
    "print(\"First entry of train_X :\\n\", train_X[:1])\n",
    "print()\n",
    "test_X = my_imputer.transform(test_X)\n",
    "print(\"First entry of test_X :\\n\", test_X[:1])"
   ]
  },
  {
   "cell_type": "markdown",
   "metadata": {},
   "source": [
    "Now we can build and fit a model just as we would in `sklearn`:"
   ]
  },
  {
   "cell_type": "code",
   "execution_count": 7,
   "metadata": {},
   "outputs": [
    {
     "data": {
      "text/plain": [
       "XGBRegressor(base_score=0.5, booster='gbtree', colsample_bylevel=1,\n",
       "       colsample_bytree=1, gamma=0, learning_rate=0.1, max_delta_step=0,\n",
       "       max_depth=3, min_child_weight=1, missing=None, n_estimators=100,\n",
       "       n_jobs=1, nthread=None, objective='reg:linear', random_state=0,\n",
       "       reg_alpha=0, reg_lambda=1, scale_pos_weight=1, seed=None,\n",
       "       silent=True, subsample=1)"
      ]
     },
     "execution_count": 7,
     "metadata": {},
     "output_type": "execute_result"
    }
   ],
   "source": [
    "from xgboost import XGBRegressor\n",
    "\n",
    "my_model = XGBRegressor()\n",
    "# Add silent=True to avoid printing out updates with each cycle:\n",
    "# Don't forget to examine the parameters displayed when the model is built.\n",
    "# Tuning those parameters properly may improve the model's performance.\n",
    "my_model.fit(train_X, train_y, verbose=False)"
   ]
  },
  {
   "cell_type": "markdown",
   "metadata": {},
   "source": [
    "And now on to evaluating the model and making predictions, also like in scikit-learn."
   ]
  },
  {
   "cell_type": "code",
   "execution_count": 8,
   "metadata": {},
   "outputs": [
    {
     "data": {
      "text/plain": [
       "array([252216.58, 163965.92, 213855.88, 139755.72, 134389.5 ],\n",
       "      dtype=float32)"
      ]
     },
     "execution_count": 8,
     "metadata": {},
     "output_type": "execute_result"
    }
   ],
   "source": [
    "predictions = my_model.predict(test_X)\n",
    "predictions[:5]"
   ]
  },
  {
   "cell_type": "code",
   "execution_count": 9,
   "metadata": {},
   "outputs": [
    {
     "name": "stdout",
     "output_type": "stream",
     "text": [
      "Mean Absolute Error:\n",
      " 17924.18821703767\n"
     ]
    }
   ],
   "source": [
    "from sklearn.metrics import mean_absolute_error\n",
    "\n",
    "print(\"Mean Absolute Error:\\n\", str(mean_absolute_error(predictions, test_y)))"
   ]
  },
  {
   "cell_type": "markdown",
   "metadata": {},
   "source": [
    "## Model Tuning"
   ]
  },
  {
   "cell_type": "markdown",
   "metadata": {},
   "source": [
    "XGBoost has a number of parameters that can dramatically affect your model's accuracy and speed.  \n",
    "Some significant parameters are:  "
   ]
  },
  {
   "cell_type": "markdown",
   "metadata": {},
   "source": [
    "**`n_estimators` and `early_stopping_rounds`:**  \n",
    "`n_estimators` specifies how many times the modeling cycle is repeated.  \n",
    "In the underfitting vs overfitting graph below, `n_estimators` moves you further to the right.  \n",
    "Too low a value causes underfitting, which will result in inaccurate predictions on both training data and new data. Too large a value causes overfitting, which means accurate predictions on training data, but inaccurate predictions on new data (which is what we care about).  \n",
    "You can experiment with your dataset to find the ideal.  \n",
    "Typical values range from 100-1000, though this depends a lot on the learning rate discussed below."
   ]
  },
  {
   "cell_type": "markdown",
   "metadata": {},
   "source": [
    "![Underfitting vs Overfitting](img/underfit_vs_overfit.png)"
   ]
  },
  {
   "cell_type": "markdown",
   "metadata": {},
   "source": [
    "**`early_stopping_rounds`** offers a way to automatically find the maximum value.  \n",
    "Early stopping tells the program to stop iterating when the validation score stops improving.  \n",
    "One effective technique is to set a relatively high value for `n_estimators` and then use `early_stopping_rounds` to figure out when to stop.  \n",
    "Since random chance sometimes causes a single round where validation scores don't improve, you need to specify a number for how many rounds of straight deterioration to allow before stopping.  \n",
    "`early_stopping_rounds = 5` is a reasonable value to experiment with.  \n",
    "Thus we stop after 5 straight rounds of deteriorating validation scores.  \n",
    "Here is the code to fit with early_stopping:"
   ]
  },
  {
   "cell_type": "code",
   "execution_count": 10,
   "metadata": {},
   "outputs": [
    {
     "data": {
      "text/plain": [
       "XGBRegressor(base_score=0.5, booster='gbtree', colsample_bylevel=1,\n",
       "       colsample_bytree=1, gamma=0, learning_rate=0.1, max_delta_step=0,\n",
       "       max_depth=3, min_child_weight=1, missing=None, n_estimators=1000,\n",
       "       n_jobs=1, nthread=None, objective='reg:linear', random_state=0,\n",
       "       reg_alpha=0, reg_lambda=1, scale_pos_weight=1, seed=None,\n",
       "       silent=True, subsample=1)"
      ]
     },
     "execution_count": 10,
     "metadata": {},
     "output_type": "execute_result"
    }
   ],
   "source": [
    "my_model = XGBRegressor(n_estimators=1000)\n",
    "my_model.fit(train_X, train_y, early_stopping_rounds=5,\n",
    "            eval_set=[(test_X, test_y)], verbose=False)"
   ]
  },
  {
   "cell_type": "markdown",
   "metadata": {},
   "source": [
    "When using `early_stopping_rounds`, you need to set aside some of your data for checking the number of rounds to use.  \n",
    "If you later want to fit a model with all of your data, set `n_estimators` to whatever value you found to be optimal when run with early stopping.  "
   ]
  },
  {
   "cell_type": "markdown",
   "metadata": {},
   "source": [
    "**learning_rate**  \n",
    "Here's a subtle but important trick for better XGBoost models:  \n",
    "Instead of getting predictions by simply adding up the predictions from each component model, we will multiply the predictions from each model by a small number before adding them in.  \n",
    "This means each tree we add to the ensemble helps us less.  \n",
    "In practice, this reduces the model's propensity to overfit.  \n",
    "So, you can use a higher value of `n_estimators` without overfitting.  \n",
    "If you use early stopping, the appropriate number of trees will be set automatically.  \n",
    "In general, a small learning rate (and large number of estimators) will yield more accurate XGBoost models, though it will also take the model longer to train since more iterations are needed.  "
   ]
  },
  {
   "cell_type": "code",
   "execution_count": 13,
   "metadata": {},
   "outputs": [
    {
     "data": {
      "text/plain": [
       "XGBRegressor(base_score=0.5, booster='gbtree', colsample_bylevel=1,\n",
       "       colsample_bytree=1, gamma=0, learning_rate=0.05, max_delta_step=0,\n",
       "       max_depth=3, min_child_weight=1, missing=None, n_estimators=1000,\n",
       "       n_jobs=1, nthread=None, objective='reg:linear', random_state=0,\n",
       "       reg_alpha=0, reg_lambda=1, scale_pos_weight=1, seed=None,\n",
       "       silent=True, subsample=1)"
      ]
     },
     "execution_count": 13,
     "metadata": {},
     "output_type": "execute_result"
    }
   ],
   "source": [
    "my_model = XGBRegressor(n_estimators=1000, learning_rate=0.05)\n",
    "my_model.fit(train_X, train_y, early_stopping_rounds=5,\n",
    "            eval_set=[(test_X, test_y)], verbose=False)"
   ]
  },
  {
   "cell_type": "markdown",
   "metadata": {},
   "source": [
    "**n_jobs**  \n",
    "On larger datasets where runtime is a consideration, you can use parallelism to build your models faster.  \n",
    "It's common to set the parameter `n_jobs` equal to the number of cores on your machine.  \n",
    "On smaller datasets, this won't help.  \n",
    "The resulting model won't be any better, so micro-optimizing for fitting time is typically nothing but a distraction.  \n",
    "But, it's useful in large datasets where you would otherwise spend a long time waiting during the fit command.  \n",
    "XGBoost has a multitude of other parameters, but these will go a very long way in helping you fine-tune your XGBoost model for optimal performance.  \n",
    "In conclusion, XGBoost is a very effective method to use for building robust models, especially when using strctured (aka tabular) data."
   ]
  }
 ],
 "metadata": {
  "kernelspec": {
   "display_name": "Python 3",
   "language": "python",
   "name": "python3"
  },
  "language_info": {
   "codemirror_mode": {
    "name": "ipython",
    "version": 3
   },
   "file_extension": ".py",
   "mimetype": "text/x-python",
   "name": "python",
   "nbconvert_exporter": "python",
   "pygments_lexer": "ipython3",
   "version": "3.6.1"
  }
 },
 "nbformat": 4,
 "nbformat_minor": 2
}
