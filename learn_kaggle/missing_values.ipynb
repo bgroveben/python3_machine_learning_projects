{
 "cells": [
  {
   "cell_type": "markdown",
   "metadata": {},
   "source": [
    "# [Handling Missing Values](https://www.kaggle.com/dansbecker/handling-missing-values)"
   ]
  },
  {
   "cell_type": "markdown",
   "metadata": {},
   "source": [
    "There are many ways data can end up with missing values.    \n",
    "* A 2 bedroom house doesn't have value for a third bedroom.\n",
    "* Someone being surveyed may choose not to share their income.\n",
    "\n",
    "Python libraries represent missing numbers as `nan` which is short for \"not a number\".  \n",
    "You can detect which cells have missing values, and then count how many there are in each column with the command:"
   ]
  },
  {
   "cell_type": "raw",
   "metadata": {},
   "source": [
    "print(data.isnull().sum())"
   ]
  },
  {
   "cell_type": "markdown",
   "metadata": {},
   "source": [
    "Most libraries (including scikit-learn) will give you an error if you try to build a model using data with missing values.  \n",
    "Let's figure out how to deal with them."
   ]
  },
  {
   "cell_type": "markdown",
   "metadata": {},
   "source": [
    "### 1. You can drop columns with missing values:"
   ]
  },
  {
   "cell_type": "raw",
   "metadata": {},
   "source": [
    "data_without_missing_values = original_data.dropna(axis=1)"
   ]
  },
  {
   "cell_type": "markdown",
   "metadata": {},
   "source": [
    "If you want to drop the same columns from the DataFrames in both your training dataset and test dataset:"
   ]
  },
  {
   "cell_type": "raw",
   "metadata": {},
   "source": [
    "cols_with_missing_vals = [col for col in original_data.columns\n",
    "                                      if original_data[col].isnull().any()]\n",
    "reduced_original_data = original_data.drop(cols_with_missing, axis=1)\n",
    "reduced_test_data = test_data.drop(cols_with_missing, axis=1)"
   ]
  },
  {
   "cell_type": "markdown",
   "metadata": {},
   "source": [
    "This method discards all information in the entire column, so it can be useful when most values in a column are missing."
   ]
  },
  {
   "cell_type": "markdown",
   "metadata": {},
   "source": [
    "### 2. You can impute missing values:"
   ]
  },
  {
   "cell_type": "markdown",
   "metadata": {},
   "source": [
    "Imputation replaces the missing value with some number (the mean, for example), which usually gives more accurate models than dropping the column entirely."
   ]
  },
  {
   "cell_type": "raw",
   "metadata": {},
   "source": [
    "from sklearn.preprocessing import Imputer\n",
    "my_imputer = Imputer()\n",
    "data_with_imputed_values = my_imputer.fit_transform(original_data)"
   ]
  },
  {
   "cell_type": "markdown",
   "metadata": {},
   "source": [
    "Imputation can also be included in a scikit-learn Pipeline, which simplify model building, validation, and deployment."
   ]
  },
  {
   "cell_type": "markdown",
   "metadata": {},
   "source": [
    "### 3. You can extend imputation to consider which values were originally missing:"
   ]
  },
  {
   "cell_type": "markdown",
   "metadata": {},
   "source": [
    "Imputation is the standard approach, and it usually works well.  \n",
    "However, imputed values may by systematically above or below their actual values (which weren't collected in the dataset).  \n",
    "Or rows with missing values may be unique in some other way.  \n",
    "In that case, your model would make better predictions by considering which values were originally missing.  \n",
    "Here's how it might look:"
   ]
  },
  {
   "cell_type": "raw",
   "metadata": {},
   "source": [
    "# Make a copy to keep the original data intact:\n",
    "new_data = original_data.copy()\n",
    "\n",
    "# Make new columns indicating what will be imputed:\n",
    "cols_with_missing = [col for col in new_data.columns\n",
    "                                 if new_data[c].isnull().any()]\n",
    "# Compare and contrast:\n",
    "for col in cols_with_missing:\n",
    "    new_data[col + ' was missing'] = new_data[col].isnull()\n",
    "    \n",
    "# Impute:\n",
    "my_imputer = Imputer()\n",
    "new_data = my_imputer.fit_transform(new_data)"
   ]
  },
  {
   "cell_type": "markdown",
   "metadata": {},
   "source": [
    "This approach may or may not improve the results compared to simply imputing values."
   ]
  },
  {
   "cell_type": "markdown",
   "metadata": {},
   "source": [
    "# An example comparing the solutions using the Melbourne Housing data."
   ]
  },
  {
   "cell_type": "code",
   "execution_count": null,
   "metadata": {},
   "outputs": [],
   "source": []
  }
 ],
 "metadata": {
  "kernelspec": {
   "display_name": "Python 3",
   "language": "python",
   "name": "python3"
  },
  "language_info": {
   "codemirror_mode": {
    "name": "ipython",
    "version": 3
   },
   "file_extension": ".py",
   "mimetype": "text/x-python",
   "name": "python",
   "nbconvert_exporter": "python",
   "pygments_lexer": "ipython3",
   "version": "3.6.1"
  }
 },
 "nbformat": 4,
 "nbformat_minor": 2
}
