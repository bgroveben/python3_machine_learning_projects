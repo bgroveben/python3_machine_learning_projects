{
 "cells": [
  {
   "cell_type": "markdown",
   "metadata": {},
   "source": [
    "# [Creating, reading, and writing reference](https://www.kaggle.com/residentmario/creating-reading-and-writing-reference)"
   ]
  },
  {
   "cell_type": "markdown",
   "metadata": {},
   "source": [
    "This is the reference component to the \"Creating, reading, and writing\" section of the tutorial.  \n",
    "For the workbook section, [click here](https://www.kaggle.com/residentmario/creating-reading-and-writing-workbook).  \n",
    "The very first step in any data analytics project will probably be reading the data out of a file somewhere, so that's where we'll begin.  \n",
    "In this section, we'll look at exercises on creating `pandas` `Series` and `DataFrame` objects, both by hand and by reading data from storage.  \n",
    "The [IO Tools section](http://pandas.pydata.org/pandas-docs/stable/io.html) of the official `pandas` docs provides a comprehensive overview on this subject."
   ]
  },
  {
   "cell_type": "code",
   "execution_count": null,
   "metadata": {},
   "outputs": [],
   "source": []
  }
 ],
 "metadata": {
  "kernelspec": {
   "display_name": "Python 3",
   "language": "python",
   "name": "python3"
  },
  "language_info": {
   "codemirror_mode": {
    "name": "ipython",
    "version": 3
   },
   "file_extension": ".py",
   "mimetype": "text/x-python",
   "name": "python",
   "nbconvert_exporter": "python",
   "pygments_lexer": "ipython3",
   "version": "3.6.1"
  }
 },
 "nbformat": 4,
 "nbformat_minor": 2
}
