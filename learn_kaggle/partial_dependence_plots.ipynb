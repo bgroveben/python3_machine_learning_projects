{
 "cells": [
  {
   "cell_type": "markdown",
   "metadata": {},
   "source": [
    " # [Partial Dependence Plots](https://www.kaggle.com/dansbecker/partial-dependence-plots)"
   ]
  },
  {
   "cell_type": "markdown",
   "metadata": {},
   "source": [
    "Some people complain that machine learning models are black boxes.  \n",
    "These people will argue we cannot see how these models are working on any given dataset, so we can neither extract insight nor identify problems with the model.  \n",
    "By and large, people making this claim are unfamiliar with partial dependence plots.  \n",
    "Partial dependence plots show how each variable or predictor affects the model's predictions.  \n",
    "This is useful for questions like:  \n",
    "* How much of the wage differences between men and women are due solely to gender, as opposed to differences in education backgrounds or work experience?  \n",
    "* Controlling for house characteristics, what impact do longitude and latitude have on home prices? To restate this, we want to understand how similarly sized houses would be priced in different areas, even if the homes actually at these sites are different sizes.  \n",
    "* Are health differences between two groups due to differences in their diets, or due to other factors?  \n",
    "\n",
    "If you are familiar with linear or logistic regression models, partial dependence plots can be interepreted similarly to the coefficients in those models.  \n",
    "But partial dependence plots can capture more complex patterns from your data, and they can be used with any model.  \n",
    "If you aren't familiar with linear or logistic regressions, don't get caught up on that comparison.  \n",
    "We will show a couple examples below, explain what they mean, and then talk about the code."
   ]
  },
  {
   "cell_type": "markdown",
   "metadata": {},
   "source": [
    "## Interpreting Partial Dependence Plots"
   ]
  },
  {
   "cell_type": "markdown",
   "metadata": {},
   "source": [
    "We'll begin with 2 partial dependence plots showing the relationship (according to the model) between Price and other variables from the Melbourne Housing dataset."
   ]
  },
  {
   "cell_type": "code",
   "execution_count": 2,
   "metadata": {},
   "outputs": [
    {
     "data": {
      "image/png": "[encoded data removed]",
      "text/plain": [
       "<Figure size 432x288 with 2 Axes>"
      ]
     },
     "metadata": {},
     "output_type": "display_data"
    }
   ],
   "source": [
    "import pandas as pd\n",
    "import matplotlib.pyplot as plt\n",
    "from sklearn.ensemble import GradientBoostingRegressor, GradientBoostingClassifier\n",
    "from sklearn.ensemble.partial_dependence import partial_dependence, plot_partial_dependence\n",
    "from sklearn.preprocessing import Imputer\n",
    "\n",
    "cols_to_use = ['Distance', 'Landsize', 'BuildingArea']\n",
    "\n",
    "def get_some_data():\n",
    "    data = pd.read_csv('input/melbourne_data.csv')\n",
    "    y = data.Price\n",
    "    X = data[cols_to_use]\n",
    "    my_imputer = Imputer()\n",
    "    imputed_X = my_imputer.fit_transform(X)\n",
    "    return imputed_X, y\n",
    "\n",
    "X, y = get_some_data()\n",
    "my_model = GradientBoostingRegressor()\n",
    "my_model.fit(X, y)\n",
    "my_plots = plot_partial_dependence(my_model, features=[0,2], X=X, feature_names=cols_to_use, grid_resolution=10)\n",
    "plt.show()"
   ]
  },
  {
   "cell_type": "markdown",
   "metadata": {},
   "source": [
    "The left plot shows the partial dependence between our target, Sales Price, and the distance variable.  \n",
    "Distance in this dataset measures the distance to Melbourne's central business district.  \n",
    "The partial dependence plot is calculated only after the model has been fit.  \n",
    "The model is fit on real data.  \n",
    "In that real data, houses in different parts of town may differ in myriad ways (different ages, sizes), but after the model is fit, we could start by taking all the characteristics of a single house.  \n",
    "Say, a house with 2 bedrooms, 2 bathrooms, a large lot, an age of 10 years, and the like.  \n",
    "We then use the model to predict the price of that house, but we change the distance variable before making a prediction.  \n",
    "We first predict the price for that house when setting the distance to 4.  \n",
    "We then move the price setting distance to 5, then 6, and so on.  \n",
    "We trace out how the predicted price changes (on the vertical axis) as we move from small values of distance to large values (on the horizontal axis).  "
   ]
  },
  {
   "cell_type": "markdown",
   "metadata": {},
   "source": [
    "In this description, we used only a single house.  \n",
    "But because of the peculiar mix of interactions, the partial dependence plot for a single house may overfit.  \n",
    "So, instead we repeat that experiment with multiple houses, and we plot the average predicted price on the vertical axis.  \n",
    "You'll see some negative numbers, but that doesn't mean the price would sell for a negative price.  \n",
    "Instead it means the prices would have been less than the actual average price for that distance.  \n",
    "In the left graph, we see house prices fall as we get further from the central business district.  \n",
    "Though there seems to be a nice suburb about 16 kilometers out, where home prices are higher than in other suburbs.  \n",
    "The right graph shows the impact of building area, which is interpreted similarly.  \n",
    "A larger building area means higher prices.  \n",
    "These plots are useful both to extract insights, as well as to sanity check that your model is learning something you think is sensible."
   ]
  },
  {
   "cell_type": "markdown",
   "metadata": {},
   "source": [
    "### Examples of plots and the code that creates them:"
   ]
  },
  {
   "cell_type": "code",
   "execution_count": null,
   "metadata": {},
   "outputs": [],
   "source": []
  }
 ],
 "metadata": {
  "kernelspec": {
   "display_name": "Python 3",
   "language": "python",
   "name": "python3"
  },
  "language_info": {
   "codemirror_mode": {
    "name": "ipython",
    "version": 3
   },
   "file_extension": ".py",
   "mimetype": "text/x-python",
   "name": "python",
   "nbconvert_exporter": "python",
   "pygments_lexer": "ipython3",
   "version": "3.6.1"
  }
 },
 "nbformat": 4,
 "nbformat_minor": 2
}
