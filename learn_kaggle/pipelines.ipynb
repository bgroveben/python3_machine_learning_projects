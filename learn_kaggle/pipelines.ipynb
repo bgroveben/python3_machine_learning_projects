{
 "cells": [
  {
   "cell_type": "markdown",
   "metadata": {},
   "source": [
    "# [Pipelines](https://www.kaggle.com/dansbecker/pipelines/code)"
   ]
  },
  {
   "cell_type": "markdown",
   "metadata": {},
   "source": [
    "Pipelines are a simple way to keep your data processing and modeling code organized.  \n",
    "Specifically, a pipeline bundles preprocessing and modeling steps so you can use the whole bundle as if it were a single step.  \n",
    "Many data scientists hack together models without pipelines, but Pipelines have some important benefits, including:  \n",
    "* **Cleaner Code:** You won't need to keep track of your training (and validation) data at each step of processing. Accounting for data at each step of processing can get messy. With a pipeline, you don't need to manually keep track of each step.  \n",
    "* **Fewer Bugs:** There are fewer opportunities to misapply a step or forget a pre-processing step.  \n",
    "* **Easier to Productionize:** It can be surprisingly hard to transition a model from a prototype to something deployable at scale. We won't go into the many related concerns here, but pipelines can help.  \n",
    "* **More Options For Model Testing:** You will see an example in the next tutorial, which covers cross-validation."
   ]
  },
  {
   "cell_type": "markdown",
   "metadata": {},
   "source": [
    "## Example"
   ]
  },
  {
   "cell_type": "code",
   "execution_count": 1,
   "metadata": {},
   "outputs": [],
   "source": [
    "import pandas as pd\n",
    "from sklearn.model_selection import train_test_split\n",
    "\n",
    "data = pd.read_csv('input/melbourne_data.csv')\n",
    "cols_to_use = ['Rooms', 'Distance', 'Landsize', 'BuildingArea', 'YearBuilt']\n",
    "X = data[cols_to_use]\n",
    "y = data.Price\n",
    "train_X, test_X, train_y, test_y = train_test_split(X, y)"
   ]
  },
  {
   "cell_type": "markdown",
   "metadata": {},
   "source": [
    "You have a modeling process that uses an Imputer to fill in missing values, followed by a RandomForestRegressor to make predictions.  \n",
    "These can be bundled together with the **make_pipeline()** function."
   ]
  },
  {
   "cell_type": "code",
   "execution_count": 2,
   "metadata": {},
   "outputs": [],
   "source": [
    "from sklearn.ensemble import RandomForestRegressor\n",
    "from sklearn.pipeline import make_pipeline\n",
    "from sklearn.preprocessing import Imputer\n",
    "\n",
    "my_pipeline = make_pipeline(Imputer(), RandomForestRegressor())"
   ]
  },
  {
   "cell_type": "markdown",
   "metadata": {},
   "source": [
    "Now you can use this pipeline for fitting and prediction:"
   ]
  },
  {
   "cell_type": "code",
   "execution_count": 5,
   "metadata": {},
   "outputs": [
    {
     "data": {
      "text/plain": [
       "array([1413955.55555556,  805350.        ,  805000.        ,\n",
       "        767800.        ,  963264.73673385])"
      ]
     },
     "execution_count": 5,
     "metadata": {},
     "output_type": "execute_result"
    }
   ],
   "source": [
    "my_pipeline.fit(train_X, train_y)\n",
    "predictions = my_pipeline.predict(test_X)\n",
    "predictions[:5]"
   ]
  },
  {
   "cell_type": "markdown",
   "metadata": {},
   "source": [
    "### Compared to the code without pipelines:"
   ]
  },
  {
   "cell_type": "code",
   "execution_count": 6,
   "metadata": {},
   "outputs": [
    {
     "data": {
      "text/plain": [
       "array([1409800.        ,  853666.66666667,  810050.        ,\n",
       "        805950.        ,  972176.63690476])"
      ]
     },
     "execution_count": 6,
     "metadata": {},
     "output_type": "execute_result"
    }
   ],
   "source": [
    "my_imputer = Imputer()\n",
    "my_model = RandomForestRegressor()\n",
    "\n",
    "imputed_train_X = my_imputer.fit_transform(train_X)\n",
    "imputed_test_X = my_imputer.transform(test_X)\n",
    "my_model.fit(imputed_train_X, train_y)\n",
    "predictions = my_model.predict(imputed_test_X)\n",
    "predictions[:5]"
   ]
  },
  {
   "cell_type": "markdown",
   "metadata": {},
   "source": [
    "With this simplified example, it is difficult to appreciate the utility of pipelines.  \n",
    "As data processing tasks become more complex, the elegance and portability of pipelines can be a great help."
   ]
  },
  {
   "cell_type": "markdown",
   "metadata": {},
   "source": [
    "## Understanding Pipelines"
   ]
  },
  {
   "cell_type": "markdown",
   "metadata": {},
   "source": [
    "Most scikit-learn objects are either **transformers** or **models**.  \n",
    "* *Transformers* are for pre-processing before modeling.  \n",
    "The Imputer class (for filling in missing values) is an example of a transformer.  \n",
    "Over time, you will learn many more transformers, and you will frequently use multiple transformers sequentially.  \n",
    "* *Models* are used to make predictions.  \n",
    "You will usually preprocess your data (with transformers) before putting it in a model.  \n",
    "\n",
    "You can tell if an object is a transformer or a model by how you apply it.  \n",
    "After fitting a transformer, you apply it with the transform command.  \n",
    "After fitting a model, you apply it with the predict command.  \n",
    "Your pipeline must start with transformer steps and end with a model.  \n",
    "Eventually you will want to apply more transformers and combine them more flexibly.  \n",
    "We will cover this later in an Advanced Pipelines tutorial."
   ]
  }
 ],
 "metadata": {
  "kernelspec": {
   "display_name": "Python 3",
   "language": "python",
   "name": "python3"
  },
  "language_info": {
   "codemirror_mode": {
    "name": "ipython",
    "version": 3
   },
   "file_extension": ".py",
   "mimetype": "text/x-python",
   "name": "python",
   "nbconvert_exporter": "python",
   "pygments_lexer": "ipython3",
   "version": "3.6.1"
  }
 },
 "nbformat": 4,
 "nbformat_minor": 2
}
