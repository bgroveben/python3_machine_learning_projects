{
 "cells": [
  {
   "cell_type": "markdown",
   "metadata": {},
   "source": [
    "# [Random Forests](https://www.kaggle.com/dansbecker/random-forests)"
   ]
  },
  {
   "cell_type": "markdown",
   "metadata": {},
   "source": [
    "## Introduction"
   ]
  },
  {
   "cell_type": "markdown",
   "metadata": {},
   "source": [
    "Decision trees leave you with a difficult decision.  \n",
    "A deep tree with lots of leaves will overfit because each prediction is coming from historical data from only the few houses at its leaf.  \n",
    "But a shallow tree with few leaves will perform poorly because it fails to capture as many distinctions in the raw data.  \n",
    "Even today's most sophisticated modeling techniques face this tension between underfitting and overfitting.  \n",
    "But, many models have clever ideas that can lead to better performance.  \n",
    "We'll look at the random forest as an example.  \n",
    "The random forest uses many trees, and it makes a prediction by averaging the predictions of each component tree.  \n",
    "It generally has much better predictive accuracy than a single decision tree and it works well with the default parameters.  \n",
    "If you keep modeling, you can learn more models with even better performance, but many of those are sensitive to getting the right settings."
   ]
  },
  {
   "cell_type": "code",
   "execution_count": 1,
   "metadata": {},
   "outputs": [],
   "source": [
    "import pandas as pd\n",
    "\n",
    "file_path = 'input/melbourne_data.csv'\n",
    "mb_data = pd.read_csv(file_path)\n",
    "mb_data = mb_data.dropna(axis=0)\n",
    "y = mb_data.Price\n",
    "mb_predictors = ['Rooms', 'Bathroom', 'Landsize', 'BuildingArea', 'YearBuilt', 'Lattitude', 'Longtitude']\n",
    "X = mb_data[mb_predictors]"
   ]
  },
  {
   "cell_type": "code",
   "execution_count": 2,
   "metadata": {},
   "outputs": [],
   "source": [
    "from sklearn.model_selection import train_test_split\n",
    "\n",
    "train_X, val_X, train_y, val_y = train_test_split(X, y, random_state=0)"
   ]
  },
  {
   "cell_type": "markdown",
   "metadata": {},
   "source": [
    "A `RandomForest` is built in much the same way that a decision tree is:"
   ]
  },
  {
   "cell_type": "code",
   "execution_count": 3,
   "metadata": {},
   "outputs": [
    {
     "name": "stdout",
     "output_type": "stream",
     "text": [
      "203978.49619109105\n"
     ]
    }
   ],
   "source": [
    "from sklearn.ensemble import RandomForestRegressor\n",
    "from sklearn.metrics import mean_absolute_error as mae\n",
    "\n",
    "forest_model = RandomForestRegressor()\n",
    "forest_model.fit(train_X, train_y)\n",
    "melbourne_predictions = forest_model.predict(val_X)\n",
    "print(mae(val_y, melbourne_predictions))"
   ]
  },
  {
   "cell_type": "markdown",
   "metadata": {},
   "source": [
    "## Conclusion"
   ]
  },
  {
   "cell_type": "markdown",
   "metadata": {},
   "source": [
    "There is likely room for further improvement, but this is a big improvement over the best decision tree error of 250,000.  \n",
    "There are parameters which allow you to change the performance of the Random Forest much as we changed the maximum depth of the single decision tree.  \n",
    "But one of the best features of Random Forest models is that they generally work reasonably even without this tuning.  \n",
    "You'll soon learn the XGBoost model, which provides better performance when tuned well with the right parameters (but which requires some skill to get the right settings)."
   ]
  },
  {
   "cell_type": "markdown",
   "metadata": {},
   "source": [
    "# [Submitting From A Kernel](https://www.kaggle.com/dansbecker/submitting-from-a-kernel)"
   ]
  },
  {
   "cell_type": "code",
   "execution_count": null,
   "metadata": {},
   "outputs": [],
   "source": []
  }
 ],
 "metadata": {
  "kernelspec": {
   "display_name": "Python 3",
   "language": "python",
   "name": "python3"
  },
  "language_info": {
   "codemirror_mode": {
    "name": "ipython",
    "version": 3
   },
   "file_extension": ".py",
   "mimetype": "text/x-python",
   "name": "python",
   "nbconvert_exporter": "python",
   "pygments_lexer": "ipython3",
   "version": "3.6.1"
  }
 },
 "nbformat": 4,
 "nbformat_minor": 2
}
