{
 "cells": [
  {
   "cell_type": "markdown",
   "metadata": {},
   "source": [
    "# [Starting your ML project](https://www.kaggle.com/dansbecker/starting-your-ml-project/notebook)"
   ]
  },
  {
   "cell_type": "markdown",
   "metadata": {
    "_cell_guid": "e81ee64d-e474-4662-9036-ce23df615199",
    "_uuid": "b6269c0e8f417f82daf093dda8fa0da6d2c57d86"
   },
   "source": [
    "## Introduction\n",
    "**This will be your workspace for Kaggle's Machine Learning education track.**\n",
    "\n",
    "You will build and continually improve a model to predict housing prices as you work through each tutorial.  \n",
    "Fork this notebook and write your code in it.  \n",
    "You will see examples predicting home prices using data from Melbourne, Australia.  \n",
    "You will then write code to build a model predicting prices in the US state of Iowa.  \n",
    "The data from the tutorial, the Melbourne data, is not available in this workspace.  \n",
    "You will need to translate the concepts to work with the data in this notebook, the Iowa data.  \n",
    "\n",
    "Come to the [Learn Discussion](https://www.kaggle.com/learn-forum) forum for any questions or coments. \n",
    "\n",
    "# Write Your Code Below"
   ]
  },
  {
   "cell_type": "code",
   "execution_count": 1,
   "metadata": {
    "_cell_guid": "86b26423-563a-4fa1-a595-89e25ff93089",
    "_uuid": "1c728098629e1301643443b1341556a15c089b2b"
   },
   "outputs": [
    {
     "name": "stdout",
     "output_type": "stream",
     "text": [
      "hello world\n"
     ]
    }
   ],
   "source": [
    "import pandas as pd\n",
    "\n",
    "# Load the data and greet everyone.\n",
    "main_file_path = 'input/melbourne_data.csv'\n",
    "data = pd.read_csv(main_file_path)\n",
    "print('hello world')"
   ]
  },
  {
   "cell_type": "markdown",
   "metadata": {},
   "source": [
    "## Use pandas to get familiar with your data"
   ]
  },
  {
   "cell_type": "markdown",
   "metadata": {
    "_uuid": "da66b8e9425a7dfdbc55f2a611654491764bffaa",
    "collapsed": true
   },
   "source": [
    "The first thing you'll want to do is familiarize yourself with the data.  \n",
    "You'll use the Pandas library for this.  \n",
    "Pandas is the primary tool that modern data scientists use for exploring and manipulating data.  \n",
    "Most people abbreviate pandas in their code as pd.  \n",
    "We do this with the command  \n",
    "`import pandas as pd`  \n",
    "The most important part of the Pandas library is the DataFrame.  \n",
    "A DataFrame holds the type of data you might think of as a table.  \n",
    "This is similar to a sheet in Excel, or a table in a SQL database.  \n",
    "The Pandas DataFrame has powerful methods for most things you'll want to do with this type of data.  \n",
    "Let's start by looking at a basic data overview with our example data from Melbourne and the data you'll be working with from Iowa:"
   ]
  },
  {
   "cell_type": "code",
   "execution_count": 2,
   "metadata": {},
   "outputs": [
    {
     "data": {
      "text/html": [
       "<div>\n",
       "<style>\n",
       "    .dataframe thead tr:only-child th {\n",
       "        text-align: right;\n",
       "    }\n",
       "\n",
       "    .dataframe thead th {\n",
       "        text-align: left;\n",
       "    }\n",
       "\n",
       "    .dataframe tbody tr th {\n",
       "        vertical-align: top;\n",
       "    }\n",
       "</style>\n",
       "<table border=\"1\" class=\"dataframe\">\n",
       "  <thead>\n",
       "    <tr style=\"text-align: right;\">\n",
       "      <th></th>\n",
       "      <th>Unnamed: 0</th>\n",
       "      <th>Rooms</th>\n",
       "      <th>Price</th>\n",
       "      <th>Distance</th>\n",
       "      <th>Postcode</th>\n",
       "      <th>Bedroom2</th>\n",
       "      <th>Bathroom</th>\n",
       "      <th>Car</th>\n",
       "      <th>Landsize</th>\n",
       "      <th>BuildingArea</th>\n",
       "      <th>YearBuilt</th>\n",
       "      <th>Lattitude</th>\n",
       "      <th>Longtitude</th>\n",
       "      <th>Propertycount</th>\n",
       "    </tr>\n",
       "  </thead>\n",
       "  <tbody>\n",
       "    <tr>\n",
       "      <th>count</th>\n",
       "      <td>18396.000000</td>\n",
       "      <td>18396.000000</td>\n",
       "      <td>1.839600e+04</td>\n",
       "      <td>18395.000000</td>\n",
       "      <td>18395.000000</td>\n",
       "      <td>14927.000000</td>\n",
       "      <td>14925.000000</td>\n",
       "      <td>14820.000000</td>\n",
       "      <td>13603.000000</td>\n",
       "      <td>7762.000000</td>\n",
       "      <td>8958.000000</td>\n",
       "      <td>15064.000000</td>\n",
       "      <td>15064.000000</td>\n",
       "      <td>18395.000000</td>\n",
       "    </tr>\n",
       "    <tr>\n",
       "      <th>mean</th>\n",
       "      <td>11826.787073</td>\n",
       "      <td>2.935040</td>\n",
       "      <td>1.056697e+06</td>\n",
       "      <td>10.389986</td>\n",
       "      <td>3107.140147</td>\n",
       "      <td>2.913043</td>\n",
       "      <td>1.538492</td>\n",
       "      <td>1.615520</td>\n",
       "      <td>558.116371</td>\n",
       "      <td>151.220219</td>\n",
       "      <td>1965.879996</td>\n",
       "      <td>-37.809849</td>\n",
       "      <td>144.996338</td>\n",
       "      <td>7517.975265</td>\n",
       "    </tr>\n",
       "    <tr>\n",
       "      <th>std</th>\n",
       "      <td>6800.710448</td>\n",
       "      <td>0.958202</td>\n",
       "      <td>6.419217e+05</td>\n",
       "      <td>6.009050</td>\n",
       "      <td>95.000995</td>\n",
       "      <td>0.964641</td>\n",
       "      <td>0.689311</td>\n",
       "      <td>0.955916</td>\n",
       "      <td>3987.326586</td>\n",
       "      <td>519.188596</td>\n",
       "      <td>37.013261</td>\n",
       "      <td>0.081152</td>\n",
       "      <td>0.106375</td>\n",
       "      <td>4488.416599</td>\n",
       "    </tr>\n",
       "    <tr>\n",
       "      <th>min</th>\n",
       "      <td>1.000000</td>\n",
       "      <td>1.000000</td>\n",
       "      <td>8.500000e+04</td>\n",
       "      <td>0.000000</td>\n",
       "      <td>3000.000000</td>\n",
       "      <td>0.000000</td>\n",
       "      <td>0.000000</td>\n",
       "      <td>0.000000</td>\n",
       "      <td>0.000000</td>\n",
       "      <td>0.000000</td>\n",
       "      <td>1196.000000</td>\n",
       "      <td>-38.182550</td>\n",
       "      <td>144.431810</td>\n",
       "      <td>249.000000</td>\n",
       "    </tr>\n",
       "    <tr>\n",
       "      <th>25%</th>\n",
       "      <td>5936.750000</td>\n",
       "      <td>2.000000</td>\n",
       "      <td>6.330000e+05</td>\n",
       "      <td>6.300000</td>\n",
       "      <td>3046.000000</td>\n",
       "      <td>2.000000</td>\n",
       "      <td>1.000000</td>\n",
       "      <td>1.000000</td>\n",
       "      <td>176.500000</td>\n",
       "      <td>93.000000</td>\n",
       "      <td>1950.000000</td>\n",
       "      <td>-37.858100</td>\n",
       "      <td>144.931193</td>\n",
       "      <td>4294.000000</td>\n",
       "    </tr>\n",
       "    <tr>\n",
       "      <th>50%</th>\n",
       "      <td>11820.500000</td>\n",
       "      <td>3.000000</td>\n",
       "      <td>8.800000e+05</td>\n",
       "      <td>9.700000</td>\n",
       "      <td>3085.000000</td>\n",
       "      <td>3.000000</td>\n",
       "      <td>1.000000</td>\n",
       "      <td>2.000000</td>\n",
       "      <td>440.000000</td>\n",
       "      <td>126.000000</td>\n",
       "      <td>1970.000000</td>\n",
       "      <td>-37.803625</td>\n",
       "      <td>145.000920</td>\n",
       "      <td>6567.000000</td>\n",
       "    </tr>\n",
       "    <tr>\n",
       "      <th>75%</th>\n",
       "      <td>17734.250000</td>\n",
       "      <td>3.000000</td>\n",
       "      <td>1.302000e+06</td>\n",
       "      <td>13.300000</td>\n",
       "      <td>3149.000000</td>\n",
       "      <td>3.000000</td>\n",
       "      <td>2.000000</td>\n",
       "      <td>2.000000</td>\n",
       "      <td>651.000000</td>\n",
       "      <td>174.000000</td>\n",
       "      <td>2000.000000</td>\n",
       "      <td>-37.756270</td>\n",
       "      <td>145.060000</td>\n",
       "      <td>10331.000000</td>\n",
       "    </tr>\n",
       "    <tr>\n",
       "      <th>max</th>\n",
       "      <td>23546.000000</td>\n",
       "      <td>12.000000</td>\n",
       "      <td>9.000000e+06</td>\n",
       "      <td>48.100000</td>\n",
       "      <td>3978.000000</td>\n",
       "      <td>20.000000</td>\n",
       "      <td>8.000000</td>\n",
       "      <td>10.000000</td>\n",
       "      <td>433014.000000</td>\n",
       "      <td>44515.000000</td>\n",
       "      <td>2018.000000</td>\n",
       "      <td>-37.408530</td>\n",
       "      <td>145.526350</td>\n",
       "      <td>21650.000000</td>\n",
       "    </tr>\n",
       "  </tbody>\n",
       "</table>\n",
       "</div>"
      ],
      "text/plain": [
       "         Unnamed: 0         Rooms         Price      Distance      Postcode  \\\n",
       "count  18396.000000  18396.000000  1.839600e+04  18395.000000  18395.000000   \n",
       "mean   11826.787073      2.935040  1.056697e+06     10.389986   3107.140147   \n",
       "std     6800.710448      0.958202  6.419217e+05      6.009050     95.000995   \n",
       "min        1.000000      1.000000  8.500000e+04      0.000000   3000.000000   \n",
       "25%     5936.750000      2.000000  6.330000e+05      6.300000   3046.000000   \n",
       "50%    11820.500000      3.000000  8.800000e+05      9.700000   3085.000000   \n",
       "75%    17734.250000      3.000000  1.302000e+06     13.300000   3149.000000   \n",
       "max    23546.000000     12.000000  9.000000e+06     48.100000   3978.000000   \n",
       "\n",
       "           Bedroom2      Bathroom           Car       Landsize  BuildingArea  \\\n",
       "count  14927.000000  14925.000000  14820.000000   13603.000000   7762.000000   \n",
       "mean       2.913043      1.538492      1.615520     558.116371    151.220219   \n",
       "std        0.964641      0.689311      0.955916    3987.326586    519.188596   \n",
       "min        0.000000      0.000000      0.000000       0.000000      0.000000   \n",
       "25%        2.000000      1.000000      1.000000     176.500000     93.000000   \n",
       "50%        3.000000      1.000000      2.000000     440.000000    126.000000   \n",
       "75%        3.000000      2.000000      2.000000     651.000000    174.000000   \n",
       "max       20.000000      8.000000     10.000000  433014.000000  44515.000000   \n",
       "\n",
       "         YearBuilt     Lattitude    Longtitude  Propertycount  \n",
       "count  8958.000000  15064.000000  15064.000000   18395.000000  \n",
       "mean   1965.879996    -37.809849    144.996338    7517.975265  \n",
       "std      37.013261      0.081152      0.106375    4488.416599  \n",
       "min    1196.000000    -38.182550    144.431810     249.000000  \n",
       "25%    1950.000000    -37.858100    144.931193    4294.000000  \n",
       "50%    1970.000000    -37.803625    145.000920    6567.000000  \n",
       "75%    2000.000000    -37.756270    145.060000   10331.000000  \n",
       "max    2018.000000    -37.408530    145.526350   21650.000000  "
      ]
     },
     "execution_count": 2,
     "metadata": {},
     "output_type": "execute_result"
    }
   ],
   "source": [
    "# Explore some summary statistics:\n",
    "data.describe()"
   ]
  },
  {
   "cell_type": "markdown",
   "metadata": {},
   "source": [
    "## Interpreting data description"
   ]
  },
  {
   "cell_type": "markdown",
   "metadata": {},
   "source": [
    "The results show 8 numbers for each column in your original dataset.  \n",
    "The first number, the **count**, shows how many rows have non-missing values.  \n",
    "Missing values arise for many reasons.  \n",
    "For example, the size of the 2nd bedroom wouldn't be collected when surveying a 1 bedroom house.  \n",
    "We'll come back to the topic of missing data.  \n",
    "The second value is the **mean**, which is the average.  \n",
    "Under that, **std** is the standard deviation, which measures how numerically spread out the values are.  \n",
    "To interpret the **min, 25%, 50%, 75%** and **max** values, imagine sorting each column from lowest to highest value.  \n",
    "The first (smallest) value is the min.  \n",
    "If you go a quarter way through the list, you'll find a number that is bigger than 25% of the values and smaller than 75% of the values.  \n",
    "That is the 25% value (pronounced \"25th percentile\").  \n",
    "The 50th and 75th percentiles are defined analgously, and the max is the largest number."
   ]
  },
  {
   "cell_type": "markdown",
   "metadata": {},
   "source": [
    "# [Selecting and filtering in pandas](https://www.kaggle.com/dansbecker/selecting-and-filtering-in-pandas)"
   ]
  },
  {
   "cell_type": "markdown",
   "metadata": {},
   "source": [
    "This is part of Kaggle's Learn Machine Learning series.  \n",
    "Selecting and Filtering Data  \n",
    "\n",
    "Your dataset had too many variables to wrap your head around, or even to print out nicely.  \n",
    "How can you pare down this overwhelming amount of data to something you can understand?  \n",
    "To show you the techniques, we'll start by picking a few variables using our intuition.  \n",
    "Later tutorials will show you statistical techniques to automatically prioritize variables.  \n",
    "Before we can choose variables/columns, it is helpful to see a list of all columns in the dataset.  \n",
    "That is done with the **columns** property of the DataFrame."
   ]
  },
  {
   "cell_type": "code",
   "execution_count": 3,
   "metadata": {},
   "outputs": [
    {
     "data": {
      "text/plain": [
       "Index(['Unnamed: 0', 'Suburb', 'Address', 'Rooms', 'Type', 'Price', 'Method',\n",
       "       'SellerG', 'Date', 'Distance', 'Postcode', 'Bedroom2', 'Bathroom',\n",
       "       'Car', 'Landsize', 'BuildingArea', 'YearBuilt', 'CouncilArea',\n",
       "       'Lattitude', 'Longtitude', 'Regionname', 'Propertycount'],\n",
       "      dtype='object')"
      ]
     },
     "execution_count": 3,
     "metadata": {},
     "output_type": "execute_result"
    }
   ],
   "source": [
    "data.columns"
   ]
  },
  {
   "cell_type": "markdown",
   "metadata": {},
   "source": [
    "There are lots of ways to go about selecting different subsets of your data.  \n",
    "Let's start with the basics."
   ]
  },
  {
   "cell_type": "markdown",
   "metadata": {},
   "source": [
    "### Selecting a single column"
   ]
  },
  {
   "cell_type": "markdown",
   "metadata": {},
   "source": [
    "You can pull out any variable (or column) with **dot-notation**.  \n",
    "This single column is stored in a pandas **Series**, which is kind of like a DataFrame with a single column."
   ]
  },
  {
   "cell_type": "code",
   "execution_count": 4,
   "metadata": {},
   "outputs": [
    {
     "data": {
      "text/plain": [
       "0    1480000.0\n",
       "1    1035000.0\n",
       "2    1465000.0\n",
       "3     850000.0\n",
       "4    1600000.0\n",
       "Name: Price, dtype: float64"
      ]
     },
     "execution_count": 4,
     "metadata": {},
     "output_type": "execute_result"
    }
   ],
   "source": [
    "# Store the Series labeled SalePrice separately:\n",
    "price_data = data.Price\n",
    "# Read the first few entries:\n",
    "price_data.head()"
   ]
  },
  {
   "cell_type": "markdown",
   "metadata": {},
   "source": [
    "### Selecting multiple columns"
   ]
  },
  {
   "cell_type": "markdown",
   "metadata": {},
   "source": [
    "You can select multiple columns from a DataFrame by providing a list of column names inside brackets.  \n",
    "Each item in that list must be a string ('in quotes')."
   ]
  },
  {
   "cell_type": "code",
   "execution_count": 5,
   "metadata": {},
   "outputs": [
    {
     "data": {
      "text/html": [
       "<div>\n",
       "<style>\n",
       "    .dataframe thead tr:only-child th {\n",
       "        text-align: right;\n",
       "    }\n",
       "\n",
       "    .dataframe thead th {\n",
       "        text-align: left;\n",
       "    }\n",
       "\n",
       "    .dataframe tbody tr th {\n",
       "        vertical-align: top;\n",
       "    }\n",
       "</style>\n",
       "<table border=\"1\" class=\"dataframe\">\n",
       "  <thead>\n",
       "    <tr style=\"text-align: right;\">\n",
       "      <th></th>\n",
       "      <th>Landsize</th>\n",
       "      <th>BuildingArea</th>\n",
       "    </tr>\n",
       "  </thead>\n",
       "  <tbody>\n",
       "    <tr>\n",
       "      <th>0</th>\n",
       "      <td>202.0</td>\n",
       "      <td>NaN</td>\n",
       "    </tr>\n",
       "    <tr>\n",
       "      <th>1</th>\n",
       "      <td>156.0</td>\n",
       "      <td>79.0</td>\n",
       "    </tr>\n",
       "    <tr>\n",
       "      <th>2</th>\n",
       "      <td>134.0</td>\n",
       "      <td>150.0</td>\n",
       "    </tr>\n",
       "    <tr>\n",
       "      <th>3</th>\n",
       "      <td>94.0</td>\n",
       "      <td>NaN</td>\n",
       "    </tr>\n",
       "    <tr>\n",
       "      <th>4</th>\n",
       "      <td>120.0</td>\n",
       "      <td>142.0</td>\n",
       "    </tr>\n",
       "  </tbody>\n",
       "</table>\n",
       "</div>"
      ],
      "text/plain": [
       "   Landsize  BuildingArea\n",
       "0     202.0           NaN\n",
       "1     156.0          79.0\n",
       "2     134.0         150.0\n",
       "3      94.0           NaN\n",
       "4     120.0         142.0"
      ]
     },
     "execution_count": 5,
     "metadata": {},
     "output_type": "execute_result"
    }
   ],
   "source": [
    "columns_of_interest = ['Landsize', 'BuildingArea']\n",
    "two_columns = data[columns_of_interest]\n",
    "two_columns.head()"
   ]
  },
  {
   "cell_type": "code",
   "execution_count": 6,
   "metadata": {},
   "outputs": [
    {
     "data": {
      "text/html": [
       "<div>\n",
       "<style>\n",
       "    .dataframe thead tr:only-child th {\n",
       "        text-align: right;\n",
       "    }\n",
       "\n",
       "    .dataframe thead th {\n",
       "        text-align: left;\n",
       "    }\n",
       "\n",
       "    .dataframe tbody tr th {\n",
       "        vertical-align: top;\n",
       "    }\n",
       "</style>\n",
       "<table border=\"1\" class=\"dataframe\">\n",
       "  <thead>\n",
       "    <tr style=\"text-align: right;\">\n",
       "      <th></th>\n",
       "      <th>Landsize</th>\n",
       "      <th>BuildingArea</th>\n",
       "    </tr>\n",
       "  </thead>\n",
       "  <tbody>\n",
       "    <tr>\n",
       "      <th>count</th>\n",
       "      <td>13603.000000</td>\n",
       "      <td>7762.000000</td>\n",
       "    </tr>\n",
       "    <tr>\n",
       "      <th>mean</th>\n",
       "      <td>558.116371</td>\n",
       "      <td>151.220219</td>\n",
       "    </tr>\n",
       "    <tr>\n",
       "      <th>std</th>\n",
       "      <td>3987.326586</td>\n",
       "      <td>519.188596</td>\n",
       "    </tr>\n",
       "    <tr>\n",
       "      <th>min</th>\n",
       "      <td>0.000000</td>\n",
       "      <td>0.000000</td>\n",
       "    </tr>\n",
       "    <tr>\n",
       "      <th>25%</th>\n",
       "      <td>176.500000</td>\n",
       "      <td>93.000000</td>\n",
       "    </tr>\n",
       "    <tr>\n",
       "      <th>50%</th>\n",
       "      <td>440.000000</td>\n",
       "      <td>126.000000</td>\n",
       "    </tr>\n",
       "    <tr>\n",
       "      <th>75%</th>\n",
       "      <td>651.000000</td>\n",
       "      <td>174.000000</td>\n",
       "    </tr>\n",
       "    <tr>\n",
       "      <th>max</th>\n",
       "      <td>433014.000000</td>\n",
       "      <td>44515.000000</td>\n",
       "    </tr>\n",
       "  </tbody>\n",
       "</table>\n",
       "</div>"
      ],
      "text/plain": [
       "            Landsize  BuildingArea\n",
       "count   13603.000000   7762.000000\n",
       "mean      558.116371    151.220219\n",
       "std      3987.326586    519.188596\n",
       "min         0.000000      0.000000\n",
       "25%       176.500000     93.000000\n",
       "50%       440.000000    126.000000\n",
       "75%       651.000000    174.000000\n",
       "max    433014.000000  44515.000000"
      ]
     },
     "execution_count": 6,
     "metadata": {},
     "output_type": "execute_result"
    }
   ],
   "source": [
    "two_columns.describe()"
   ]
  },
  {
   "cell_type": "markdown",
   "metadata": {},
   "source": [
    "# [Your first scikit-learn model](https://www.kaggle.com/dansbecker/your-first-scikit-learn-model)"
   ]
  },
  {
   "cell_type": "markdown",
   "metadata": {},
   "source": [
    "This tutorial is part of the series [Learning Machine Learning](https://www.kaggle.com/dansbecker/learn-machine-learning)."
   ]
  },
  {
   "cell_type": "markdown",
   "metadata": {},
   "source": [
    "## Choosing the prediction target"
   ]
  },
  {
   "cell_type": "markdown",
   "metadata": {},
   "source": [
    "You have the code to load your data, and you know how to index it.  \n",
    "You are ready to choose which column you want to predict.  \n",
    "This column is called the prediction target.  \n",
    "There is a convention that the prediction target is referred to as y.  "
   ]
  },
  {
   "cell_type": "code",
   "execution_count": 7,
   "metadata": {},
   "outputs": [
    {
     "data": {
      "text/plain": [
       "count    1.839600e+04\n",
       "mean     1.056697e+06\n",
       "std      6.419217e+05\n",
       "min      8.500000e+04\n",
       "25%      6.330000e+05\n",
       "50%      8.800000e+05\n",
       "75%      1.302000e+06\n",
       "max      9.000000e+06\n",
       "Name: Price, dtype: float64"
      ]
     },
     "execution_count": 7,
     "metadata": {},
     "output_type": "execute_result"
    }
   ],
   "source": [
    "y = data.Price\n",
    "y.describe()"
   ]
  },
  {
   "cell_type": "markdown",
   "metadata": {},
   "source": [
    "## Choosing Predictors"
   ]
  },
  {
   "cell_type": "markdown",
   "metadata": {},
   "source": [
    "Next we will select the predictors.  \n",
    "There may be times when you use all of the other variables besides the target as predictors.  \n",
    "It's possible to model with non-numeric variables, but we'll start with a narrower set of numeric variables."
   ]
  },
  {
   "cell_type": "code",
   "execution_count": 8,
   "metadata": {},
   "outputs": [
    {
     "data": {
      "text/plain": [
       "Index(['Unnamed: 0', 'Suburb', 'Address', 'Rooms', 'Type', 'Price', 'Method',\n",
       "       'SellerG', 'Date', 'Distance', 'Postcode', 'Bedroom2', 'Bathroom',\n",
       "       'Car', 'Landsize', 'BuildingArea', 'YearBuilt', 'CouncilArea',\n",
       "       'Lattitude', 'Longtitude', 'Regionname', 'Propertycount'],\n",
       "      dtype='object')"
      ]
     },
     "execution_count": 8,
     "metadata": {},
     "output_type": "execute_result"
    }
   ],
   "source": [
    "data.columns"
   ]
  },
  {
   "cell_type": "code",
   "execution_count": 9,
   "metadata": {},
   "outputs": [],
   "source": [
    "# You may need to remove or replace NaN values from some of the predictors:\n",
    "# http://scikit-learn.org/stable/modules/preprocessing.html#imputation-of-missing-values\n",
    "data_predictors = ['Price', 'Rooms']"
   ]
  },
  {
   "cell_type": "markdown",
   "metadata": {},
   "source": [
    "By convention, this data is called **X**:"
   ]
  },
  {
   "cell_type": "code",
   "execution_count": 10,
   "metadata": {},
   "outputs": [
    {
     "data": {
      "text/html": [
       "<div>\n",
       "<style>\n",
       "    .dataframe thead tr:only-child th {\n",
       "        text-align: right;\n",
       "    }\n",
       "\n",
       "    .dataframe thead th {\n",
       "        text-align: left;\n",
       "    }\n",
       "\n",
       "    .dataframe tbody tr th {\n",
       "        vertical-align: top;\n",
       "    }\n",
       "</style>\n",
       "<table border=\"1\" class=\"dataframe\">\n",
       "  <thead>\n",
       "    <tr style=\"text-align: right;\">\n",
       "      <th></th>\n",
       "      <th>Price</th>\n",
       "      <th>Rooms</th>\n",
       "    </tr>\n",
       "  </thead>\n",
       "  <tbody>\n",
       "    <tr>\n",
       "      <th>count</th>\n",
       "      <td>1.839600e+04</td>\n",
       "      <td>18396.000000</td>\n",
       "    </tr>\n",
       "    <tr>\n",
       "      <th>mean</th>\n",
       "      <td>1.056697e+06</td>\n",
       "      <td>2.935040</td>\n",
       "    </tr>\n",
       "    <tr>\n",
       "      <th>std</th>\n",
       "      <td>6.419217e+05</td>\n",
       "      <td>0.958202</td>\n",
       "    </tr>\n",
       "    <tr>\n",
       "      <th>min</th>\n",
       "      <td>8.500000e+04</td>\n",
       "      <td>1.000000</td>\n",
       "    </tr>\n",
       "    <tr>\n",
       "      <th>25%</th>\n",
       "      <td>6.330000e+05</td>\n",
       "      <td>2.000000</td>\n",
       "    </tr>\n",
       "    <tr>\n",
       "      <th>50%</th>\n",
       "      <td>8.800000e+05</td>\n",
       "      <td>3.000000</td>\n",
       "    </tr>\n",
       "    <tr>\n",
       "      <th>75%</th>\n",
       "      <td>1.302000e+06</td>\n",
       "      <td>3.000000</td>\n",
       "    </tr>\n",
       "    <tr>\n",
       "      <th>max</th>\n",
       "      <td>9.000000e+06</td>\n",
       "      <td>12.000000</td>\n",
       "    </tr>\n",
       "  </tbody>\n",
       "</table>\n",
       "</div>"
      ],
      "text/plain": [
       "              Price         Rooms\n",
       "count  1.839600e+04  18396.000000\n",
       "mean   1.056697e+06      2.935040\n",
       "std    6.419217e+05      0.958202\n",
       "min    8.500000e+04      1.000000\n",
       "25%    6.330000e+05      2.000000\n",
       "50%    8.800000e+05      3.000000\n",
       "75%    1.302000e+06      3.000000\n",
       "max    9.000000e+06     12.000000"
      ]
     },
     "execution_count": 10,
     "metadata": {},
     "output_type": "execute_result"
    }
   ],
   "source": [
    "X = data[data_predictors]\n",
    "X.describe()"
   ]
  },
  {
   "cell_type": "markdown",
   "metadata": {},
   "source": [
    "## Building your model"
   ]
  },
  {
   "cell_type": "markdown",
   "metadata": {},
   "source": [
    "You will use the **scikit-learn** library to create your models.  \n",
    "When coding, this library is written as `sklearn`, as you will see in the sample code.  \n",
    "Scikit-learn is easily the most popular library for modeling the types of data typically stored in DataFrames.  \n",
    "The steps to building and using a model are:  \n",
    "* **Define**: What type of model will it be? A decision tree? Some other type of model? Some other parameters of the model type are specified too.\n",
    "* **Fit**: Capture patterns from provided data. This is the heart of modeling.\n",
    "* **Predict**: Just what it sounds like.\n",
    "* **Evaluate**: Determine how accurate the model's predictions are."
   ]
  },
  {
   "cell_type": "code",
   "execution_count": 11,
   "metadata": {},
   "outputs": [
    {
     "data": {
      "text/plain": [
       "DecisionTreeRegressor(criterion='mse', max_depth=None, max_features=None,\n",
       "           max_leaf_nodes=None, min_impurity_split=1e-07,\n",
       "           min_samples_leaf=1, min_samples_split=2,\n",
       "           min_weight_fraction_leaf=0.0, presort=False, random_state=None,\n",
       "           splitter='best')"
      ]
     },
     "execution_count": 11,
     "metadata": {},
     "output_type": "execute_result"
    }
   ],
   "source": [
    "from sklearn.tree import DecisionTreeRegressor\n",
    "\n",
    "# Define the model:\n",
    "melbourne_model = DecisionTreeRegressor()\n",
    "\n",
    "# Fit the model:\n",
    "melbourne_model.fit(X, y)"
   ]
  },
  {
   "cell_type": "markdown",
   "metadata": {},
   "source": [
    "In practice, you'll want to make predictions for new houses coming on the market rather than the houses we already have prices for.  \n",
    "Here we'll make predictions for the first rows of the training data to see how the predict function works."
   ]
  },
  {
   "cell_type": "code",
   "execution_count": 12,
   "metadata": {},
   "outputs": [
    {
     "name": "stdout",
     "output_type": "stream",
     "text": [
      "       Price  Rooms\n",
      "0  1480000.0      2\n",
      "1  1035000.0      2\n",
      "2  1465000.0      3\n",
      "3   850000.0      3\n",
      "4  1600000.0      4\n"
     ]
    },
    {
     "data": {
      "text/plain": [
       "array([1480000., 1035000., 1465000.,  850000., 1600000.])"
      ]
     },
     "execution_count": 12,
     "metadata": {},
     "output_type": "execute_result"
    }
   ],
   "source": [
    "print(X.head())\n",
    "melbourne_model.predict(X.head())"
   ]
  },
  {
   "cell_type": "markdown",
   "metadata": {},
   "source": [
    "# Build a model for the Iowa data"
   ]
  },
  {
   "cell_type": "markdown",
   "metadata": {},
   "source": [
    "Now it's time for you to define and fit a model for your data (in your notebook).  \n",
    "Select the target variable you want to predict.  \n",
    "You can go back to the list of columns from your earlier commands to recall what it's called (hint: you've already worked with this variable).  \n",
    "Save this to a new variable called y.  \n",
    "Create a list of the names of the predictors we will use in the initial model.  \n",
    "Use just the following columns in the list (you may need to remove or replace NaN values from some of the predictors):\n",
    "* LotArea\n",
    "* YearBuilt\n",
    "* 1stFlrSF\n",
    "* 2ndFlrSF\n",
    "* FullBath\n",
    "* BedroomAbvGr\n",
    "* TotRmsAbvGrd  \n",
    "        \n",
    "Using the list of variable names you just created, select a new DataFrame of the predictors data.  \n",
    "Save this with the variable name X.  \n",
    "Create a DecisionTreeRegressorModel and save it to a variable (with a name like my_model or iowa_model).  \n",
    "Ensure you've done the relevant import so you can run this command.  \n",
    "Fit the model you have created using the data in X and the target data you saved above.  \n",
    "Make a few predictions with the model's predict command and print out the predictions."
   ]
  },
  {
   "cell_type": "code",
   "execution_count": null,
   "metadata": {},
   "outputs": [],
   "source": []
  }
 ],
 "metadata": {
  "kernelspec": {
   "display_name": "Python 3",
   "language": "python",
   "name": "python3"
  },
  "language_info": {
   "codemirror_mode": {
    "name": "ipython",
    "version": 3
   },
   "file_extension": ".py",
   "mimetype": "text/x-python",
   "name": "python",
   "nbconvert_exporter": "python",
   "pygments_lexer": "ipython3",
   "version": "3.6.1"
  }
 },
 "nbformat": 4,
 "nbformat_minor": 1
}
