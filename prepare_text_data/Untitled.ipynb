{
 "cells": [
  {
   "cell_type": "markdown",
   "metadata": {},
   "source": [
    "# [How to Prepare Text Data for Machine Learning with scikit-learn](https://machinelearningmastery.com/prepare-text-data-machine-learning-scikit-learn/)  \n",
    "\n",
    "## by Jason Brownlee on September 29, 2017 in Natural Language Processing"
   ]
  },
  {
   "cell_type": "markdown",
   "metadata": {},
   "source": [
    "## Introduction"
   ]
  },
  {
   "cell_type": "markdown",
   "metadata": {},
   "source": [
    "Text data requires special preparation before you can start using it for predictive modeling.  \n",
    "The text must be parsed to remove words, called tokenization.  \n",
    "Then the words need to be encoded as integers or floating point values for use as input to a machine learning algorithm, called feature extraction (or vectorization).  \n",
    "The scikit-learn library offers easy-to-use tools to perform both tokenization and feature extraction of your text data.  \n",
    "In this tutorial, you will discover exactly how you can prepare your text data for predictive modeling in Python with scikit-learn.  \n",
    "After completing this tutorial, you will know:\n",
    "\n",
    "- How to convert text to word count vectors with CountVectorizer.\n",
    "- How to convert text to word frequency vectors with TfidfVectorizer.\n",
    "- How to convert text to unique integers with HashingVectorizer.  \n",
    "\n",
    "Let’s get started."
   ]
  },
  {
   "cell_type": "markdown",
   "metadata": {},
   "source": [
    "## Bag-of-Words Model"
   ]
  },
  {
   "cell_type": "markdown",
   "metadata": {},
   "source": [
    "We cannot work with text directly when using machine learning algorithms.  \n",
    "Instead, we need to convert the text to numbers.  \n",
    "We may want to perform classification of documents, so each document is an “input” and a class label is the “output” for our predictive algorithm.  \n",
    "Algorithms take vectors of numbers as input, therefore we need to convert documents to fixed-length vectors of numbers.  \n",
    "A simple and effective model for thinking about text documents in machine learning is called the Bag-of-Words Model, or BoW.  \n",
    "The model is simple in that it throws away all of the order information in the words and focuses on the occurrence of words in a document.  \n",
    "This can be done by assigning each word a unique number.  \n",
    "Then any document we see can be encoded as a fixed-length vector with the length of the vocabulary of known words.  \n",
    "The value in each position in the vector could be filled with a count or frequency of each word in the encoded document. This is the bag of words model, where we are only concerned with encoding schemes that represent what words are present or the degree to which they are present in encoded documents without any information about order.\n",
    "\n",
    "There are many ways to extend this simple method, both by better clarifying what a “word” is and in defining what to encode about each word in the vector.\n",
    "\n",
    "The scikit-learn library provides 3 different schemes that we can use, and we will briefly look at each."
   ]
  }
 ],
 "metadata": {
  "kernelspec": {
   "display_name": "Python 3",
   "language": "python",
   "name": "python3"
  },
  "language_info": {
   "codemirror_mode": {
    "name": "ipython",
    "version": 3
   },
   "file_extension": ".py",
   "mimetype": "text/x-python",
   "name": "python",
   "nbconvert_exporter": "python",
   "pygments_lexer": "ipython3",
   "version": "3.6.1"
  }
 },
 "nbformat": 4,
 "nbformat_minor": 2
}
