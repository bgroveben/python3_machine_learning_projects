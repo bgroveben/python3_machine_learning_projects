{
 "cells": [
  {
   "cell_type": "markdown",
   "metadata": {},
   "source": [
    "# [How to Prepare Text Data for Machine Learning with scikit-learn](https://machinelearningmastery.com/prepare-text-data-machine-learning-scikit-learn/)  \n",
    "\n",
    "## by Jason Brownlee on September 29, 2017 in Natural Language Processing"
   ]
  },
  {
   "cell_type": "markdown",
   "metadata": {},
   "source": [
    "## Introduction"
   ]
  },
  {
   "cell_type": "markdown",
   "metadata": {},
   "source": [
    "Text data requires special preparation before you can start using it for predictive modeling.  \n",
    "The text must be parsed to remove words, called tokenization.  \n",
    "Then the words need to be encoded as integers or floating point values for use as input to a machine learning algorithm, called feature extraction (or vectorization).  \n",
    "The scikit-learn library offers easy-to-use tools to perform both tokenization and feature extraction of your text data.  \n",
    "In this tutorial, you will discover exactly how you can prepare your text data for predictive modeling in Python with scikit-learn.  \n",
    "After completing this tutorial, you will know:\n",
    "\n",
    "- How to convert text to word count vectors with CountVectorizer.\n",
    "- How to convert text to word frequency vectors with TfidfVectorizer.\n",
    "- How to convert text to unique integers with HashingVectorizer.  \n",
    "\n",
    "Let’s get started."
   ]
  },
  {
   "cell_type": "markdown",
   "metadata": {},
   "source": [
    "## Bag-of-Words Model"
   ]
  },
  {
   "cell_type": "markdown",
   "metadata": {},
   "source": [
    "We cannot work with text directly when using machine learning algorithms.  \n",
    "Instead, we need to convert the text to numbers.  \n",
    "We may want to perform classification of documents, so each document is an “input” and a class label is the “output” for our predictive algorithm.  \n",
    "Algorithms take vectors of numbers as input, therefore we need to convert documents to fixed-length vectors of numbers.  \n",
    "A simple and effective model for thinking about text documents in machine learning is called the [Bag-of-Words Model](https://en.wikipedia.org/wiki/Bag-of-words_model), or BoW."
   ]
  },
  {
   "cell_type": "markdown",
   "metadata": {},
   "source": [
    "The model is simple in that it throws away all of the order information in the words and focuses on the occurrence of words in a document.  \n",
    "This can be done by assigning each word a unique number.  \n",
    "Then any document we see can be encoded as a fixed-length vector with the length of the vocabulary of known words.  \n",
    "The value in each position in the vector could be filled with a count or frequency of each word in the encoded document.  \n",
    "This is the bag of words model, where we are only concerned with encoding schemes that represent what words are present or the degree to which they are present in encoded documents without any information about order.  \n",
    "There are many ways to extend this simple method, both by better clarifying what a “word” is and in defining what to encode about each word in the vector.  \n",
    "The scikit-learn library provides 3 different schemes that we can use, and we will briefly look at each."
   ]
  },
  {
   "cell_type": "markdown",
   "metadata": {},
   "source": [
    "## Word Counts with CountVectorizer"
   ]
  },
  {
   "cell_type": "markdown",
   "metadata": {},
   "source": [
    "The [CountVectorizer](http://scikit-learn.org/stable/modules/generated/sklearn.feature_extraction.text.CountVectorizer.html) provides a simple way to both tokenize a collection of text documents and build a vocabulary of known words, but also to encode new documents using that vocabulary.  \n",
    "You can use it as follows:\n",
    "1. Create an instance of the CountVectorizer class.\n",
    "2. Call the fit() function in order to learn a vocabulary from one or more documents.\n",
    "3. Call the transform() function on one or more documents as needed to encode each as a vector.  \n",
    "\n",
    "An encoded vector is returned with a length of the entire vocabulary and an integer count for the number of times each word appeared in the document.  \n",
    "Because these vectors will contain a lot of zeros, we call them sparse.  \n",
    "Python provides an efficient way of handling sparse vectors in the scipy.sparse package.  \n",
    "The vectors returned from a call to transform() will be sparse vectors, and you can transform them back to numpy arrays to look and better understand what is going on by calling the toarray() function.  \n",
    "Below is an example of using the CountVectorizer to tokenize, build a vocabulary, and then encode a document."
   ]
  },
  {
   "cell_type": "code",
   "execution_count": 18,
   "metadata": {},
   "outputs": [
    {
     "name": "stdout",
     "output_type": "stream",
     "text": [
      "vectorizer.vocabulary: {'the': 7, 'quick': 6, 'brown': 0, 'fox': 2, 'jumped': 3, 'over': 5, 'lazy': 4, 'dog': 1}\n",
      "vector.shape: (1, 8)\n",
      "type(vector): <class 'scipy.sparse.csr.csr_matrix'>\n",
      "vector.toarray(): [[1 1 1 1 1 1 1 2]]\n"
     ]
    }
   ],
   "source": [
    "from sklearn.feature_extraction.text import CountVectorizer\n",
    "\n",
    "# Create a list of text documents:\n",
    "text = [\"The quick brown fox jumped over the lazy dog.\"]\n",
    "# Create the transform:\n",
    "vectorizer = CountVectorizer()\n",
    "# Tokenize and build vocabulary:\n",
    "vectorizer.fit(text)\n",
    "# Summarize:\n",
    "print(\"vectorizer.vocabulary: {}\".format(vectorizer.vocabulary_))\n",
    "# Encode the document:\n",
    "vector = vectorizer.transform(text)\n",
    "# Summarize the encoded vector:\n",
    "print(\"vector.shape: {}\".format(vector.shape))\n",
    "print(\"type(vector): {}\".format(type(vector)))\n",
    "print(\"vector.toarray(): {}\".format(vector.toarray()))"
   ]
  },
  {
   "cell_type": "markdown",
   "metadata": {},
   "source": [
    "Above, you can see that we access the vocabulary to see what exactly was tokenized by calling:"
   ]
  },
  {
   "cell_type": "code",
   "execution_count": 19,
   "metadata": {},
   "outputs": [
    {
     "name": "stdout",
     "output_type": "stream",
     "text": [
      "{'the': 7, 'quick': 6, 'brown': 0, 'fox': 2, 'jumped': 3, 'over': 5, 'lazy': 4, 'dog': 1}\n"
     ]
    }
   ],
   "source": [
    "print(vectorizer.vocabulary_)"
   ]
  },
  {
   "cell_type": "markdown",
   "metadata": {},
   "source": [
    "We can see that all words were made lowercase by default and that the punctuation was ignored.  \n",
    "These and other aspects of tokenizing can be configured and I encourage you to review all of the options in the API documentation.  \n",
    "Running the example first prints the vocabulary, then the shape of the encoded document.  \n",
    "We can see that there are 8 words in the vocab, and therefore encoded vectors have a length of 8.  \n",
    "We can then see that the encoded vector is a sparse matrix.  \n",
    "Finally, we can see an array version of the encoded vector showing a count of 1 occurrence for each word except the (index and id 7) that has an occurrence of 2."
   ]
  },
  {
   "cell_type": "code",
   "execution_count": 20,
   "metadata": {},
   "outputs": [
    {
     "name": "stdout",
     "output_type": "stream",
     "text": [
      "vector.shape: (1, 8)\n",
      "type(vector): <class 'scipy.sparse.csr.csr_matrix'>\n",
      "vector.toarray(): [[1 1 1 1 1 1 1 2]]\n"
     ]
    }
   ],
   "source": [
    "print(\"vector.shape: {}\".format(vector.shape))\n",
    "print(\"type(vector): {}\".format(type(vector)))\n",
    "print(\"vector.toarray(): {}\".format(vector.toarray()))"
   ]
  },
  {
   "cell_type": "markdown",
   "metadata": {},
   "source": [
    "Importantly, the same vectorizer can be used on documents that contain words not included in the vocabulary.  \n",
    "These words are ignored and no count is given in the resulting vector.  \n",
    "For example, below is an example of using the vectorizer above to encode a document with one word in the vocab and one word that is not."
   ]
  },
  {
   "cell_type": "code",
   "execution_count": 21,
   "metadata": {},
   "outputs": [
    {
     "name": "stdout",
     "output_type": "stream",
     "text": [
      "[[0 0 0 0 0 0 0 1]]\n"
     ]
    }
   ],
   "source": [
    "# Encode another sample document:\n",
    "text2 = [\"the puppy\"]\n",
    "vector = vectorizer.transform(text2)\n",
    "print(vector.toarray())"
   ]
  },
  {
   "cell_type": "markdown",
   "metadata": {},
   "source": [
    "Running this example prints the array version of the encoded sparse vector showing one occurrence of the one word in the vocabulary and the other word in the vocabulary ignored completely.  \n",
    "The encoded vectors can then be used directly with a machine learning algorithm."
   ]
  },
  {
   "cell_type": "markdown",
   "metadata": {},
   "source": [
    "## Word Frequencies with TfidfVectorizer"
   ]
  },
  {
   "cell_type": "markdown",
   "metadata": {
    "collapsed": true
   },
   "source": [
    "Word counts are a good starting point, but are very basic.  \n",
    "One issue with simple counts is that some words like \"the\" will appear many times and their large counts will not be very meaningful in the encoded vectors.  \n",
    "An alternative is to calculate word frequencies, and by far the most popular method is called [TF-IDF](https://en.wikipedia.org/wiki/Tf%E2%80%93idf).  \n",
    "This is an acronym than stands for \"Term Frequency – Inverse Document\" Frequency which are the components of the resulting scores assigned to each word.  \n",
    "- **Term Frequency**: This summarizes how often a given word appears within a document.\n",
    "- **Inverse Document Frequency**: This downscales words that appear a lot across documents.  \n",
    "\n",
    "Without going into the math, TF-IDF are word frequency scores that try to highlight words that are more interesting, e.g. frequent in a document but not across documents.  \n",
    "The [TfidfVectorizer](http://scikit-learn.org/stable/modules/generated/sklearn.feature_extraction.text.TfidfVectorizer.html) will tokenize documents, learn the vocabulary and inverse document frequency weightings, and allow you to encode new documents.  \n",
    "Alternately, if you already have a learned CountVectorizer, you can use it with a TfidfTransformer to just calculate the inverse document frequencies and start encoding documents.  \n",
    "The same create, fit, and transform process is used as with the CountVectorizer.  \n",
    "Below is an example of using the TfidfVectorizer to learn vocabulary and inverse document frequencies across 3 small documents and then encode one of those documents:"
   ]
  },
  {
   "cell_type": "code",
   "execution_count": 22,
   "metadata": {},
   "outputs": [
    {
     "name": "stdout",
     "output_type": "stream",
     "text": [
      "vectorizer.vocabulary_: {'the': 7, 'quick': 6, 'brown': 0, 'fox': 2, 'jumped': 3, 'over': 5, 'lazy': 4, 'dog': 1}\n",
      "vectorizer.idf_: [ 1.69314718  1.28768207  1.28768207  1.69314718  1.69314718  1.69314718\n",
      "  1.69314718  1.        ]\n",
      "vector.shape: (1, 8)\n",
      "vector.toarray(): [[ 0.36388646  0.27674503  0.27674503  0.36388646  0.36388646  0.36388646\n",
      "   0.36388646  0.42983441]]\n"
     ]
    }
   ],
   "source": [
    "from sklearn.feature_extraction.text import TfidfVectorizer\n",
    "\n",
    "# List of text documents:\n",
    "text = [\"The quick brown fox jumped over the lazy dog.\",\n",
    "        \"The dog.\",\n",
    "        \"The fox\"]\n",
    "# Create the transform:\n",
    "vectorizer = TfidfVectorizer()\n",
    "# Tokenize and build vocabulary:\n",
    "vectorizer.fit(text)\n",
    "# Summarize:\n",
    "print(\"vectorizer.vocabulary_: {}\".format(vectorizer.vocabulary_))\n",
    "print(\"vectorizer.idf_: {}\".format(vectorizer.idf_))\n",
    "# Encode document:\n",
    "vector = vectorizer.transform([text[0]])\n",
    "# Summarize encoded vector:\n",
    "print(\"vector.shape: {}\".format(vector.shape))\n",
    "print(\"vector.toarray(): {}\".format(vector.toarray()))"
   ]
  },
  {
   "cell_type": "markdown",
   "metadata": {},
   "source": [
    "A vocabulary of 8 words is learned from the documents and each word is assigned a unique integer index in the output vector.  \n",
    "The inverse document frequencies are calculated for each word in the vocabulary, assigning the lowest score of 1.0 to the most frequently observed word: \"the\" at index 7.  \n",
    "Finally, the first document is encoded as an 8-element sparse array and we can review the final scorings of each word with different values for “the“, “fox“, and “dog” from the other words in the vocabulary.  \n",
    "The scores are normalized to values between 0 and 1 and the encoded document vectors can then be used directly with most machine learning algorithms."
   ]
  },
  {
   "cell_type": "markdown",
   "metadata": {},
   "source": [
    "## Hashing with HashingVectorizer"
   ]
  },
  {
   "cell_type": "markdown",
   "metadata": {
    "collapsed": true
   },
   "source": [
    "Counts and frequencies can be very useful, but one limitation of these methods is that the vocabulary can become very large.  \n",
    "This, in turn, will require large vectors for encoding documents and impose large requirements on memory and slow down algorithms.  \n",
    "A clever work around is to use a one way hash of words to convert them to integers.  \n",
    "The clever part is that no vocabulary is required and you can choose an arbitrarily-long fixed length vector.  \n",
    "A downside is that the hash is a one-way function so there is no way to convert the encoding back to a word (which may not matter for many supervised learning tasks).  \n",
    "The [HashingVectorizer](http://scikit-learn.org/stable/modules/generated/sklearn.feature_extraction.text.HashingVectorizer.html) class implements this approach that can be used to consistently hash words, then tokenize and encode documents as needed."
   ]
  },
  {
   "cell_type": "markdown",
   "metadata": {},
   "source": [
    "The example below demonstrates the HashingVectorizer for encoding a single document.  \n",
    "An arbitrary fixed-length vector size of 20 was chosen.  \n",
    "This corresponds to the range of the hash function, where small values (like 20) may result in [hash collisions](https://en.wikipedia.org/wiki/Collision_%28computer_science%29).  \n",
    "Remembering back to compsci classes, I believe there are heuristics that you can use to pick the hash length and probability of collision based on estimated vocabulary size.  \n",
    "Note that this vectorizer does not require a call to fit on the training data documents.  \n",
    "Instead, after instantiation, it can be used directly to start encoding documents."
   ]
  },
  {
   "cell_type": "code",
   "execution_count": 23,
   "metadata": {},
   "outputs": [
    {
     "name": "stdout",
     "output_type": "stream",
     "text": [
      "vector: \n",
      "  (0, 5)\t0.333333333333\n",
      "  (0, 7)\t-0.333333333333\n",
      "  (0, 8)\t0.333333333333\n",
      "  (0, 11)\t0.333333333333\n",
      "  (0, 13)\t0.0\n",
      "  (0, 15)\t-0.333333333333\n",
      "  (0, 18)\t-0.666666666667\n",
      "vector.shape: (1, 20)\n",
      "vector.toarray(): [[ 0.          0.          0.          0.          0.          0.33333333\n",
      "   0.         -0.33333333  0.33333333  0.          0.          0.33333333\n",
      "   0.          0.          0.         -0.33333333  0.          0.\n",
      "  -0.66666667  0.        ]]\n"
     ]
    }
   ],
   "source": [
    "from sklearn.feature_extraction.text import HashingVectorizer\n",
    "\n",
    "# Make a list of text documents:\n",
    "text = [\"The quick brown fox jumped over the lazy dog.\"]\n",
    "# Create the transform:\n",
    "vectorizer = HashingVectorizer(n_features=20)\n",
    "# Encode document:\n",
    "vector = vectorizer.transform(text)\n",
    "print(\"vector: \\n{}\".format(vector))\n",
    "# Summarize encoded vector:\n",
    "print(\"vector.shape: {}\".format(vector.shape))\n",
    "print(\"vector.toarray(): {}\".format(vector.toarray()))"
   ]
  },
  {
   "cell_type": "markdown",
   "metadata": {},
   "source": [
    "Running the example encodes the sample document as a 20-element sparse array.  \n",
    "The values of the encoded document correspond to normalized word counts by default in the range of -1 to +1, but could instead be made into simple integer counts by changing the default configuration."
   ]
  },
  {
   "cell_type": "markdown",
   "metadata": {},
   "source": [
    "## Summary"
   ]
  },
  {
   "cell_type": "markdown",
   "metadata": {},
   "source": [
    "In this tutorial, you discovered how to prepare text documents for machine learning with `scikit-learn`.  \n",
    "If you're itching for more, see the section in `scikit-learn` titled [\"Working With Text Data\"](http://scikit-learn.org/stable/tutorial/text_analytics/working_with_text_data.html).  \n",
    "There you get a chance to analyze a collection of text documents on a number of different topics.  \n",
    "Jason's tutorial/blog post also has a \"Further Reading\" section at the end that gives you some links so that you can explore more resources on the topic."
   ]
  }
 ],
 "metadata": {
  "kernelspec": {
   "display_name": "Python 3",
   "language": "python",
   "name": "python3"
  },
  "language_info": {
   "codemirror_mode": {
    "name": "ipython",
    "version": 3
   },
   "file_extension": ".py",
   "mimetype": "text/x-python",
   "name": "python",
   "nbconvert_exporter": "python",
   "pygments_lexer": "ipython3",
   "version": "3.6.1"
  }
 },
 "nbformat": 4,
 "nbformat_minor": 2
}
